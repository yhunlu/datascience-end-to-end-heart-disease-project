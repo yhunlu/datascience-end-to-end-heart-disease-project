{
 "cells": [
  {
   "cell_type": "markdown",
   "id": "11d50570",
   "metadata": {},
   "source": [
    "## Predicting `Heart Disease` using Machine `Supervised` Learning \n",
    "\n",
    "using various Python-based machine learning and data science libraries in an attempt to build a machine learning model capable of predicting whether or not someone has heart disease based on their medical attributes.\n",
    "\n",
    "**Looking at the following main topics;**\n",
    "1. **`Problem definition`**\n",
    "> Given clinical parameters about a patient, can we predict whether or not they have heart disease?\n",
    "2. **`Data`**\n",
    "> We use the independent variables to predict our dependent variable.\n",
    "\n",
    "    * orginally data is come from https://archive.ics.uci.edu/ml/datasets/heart+Disease\n",
    "    * used kaggle version is come from https://www.kaggle.com/datasets/sumaiyatasmeem/heart-disease-classification-dataset\n",
    "\n",
    "\n",
    "3. **`Evaluation`**\n",
    "> If we can reach 90% accuracy at predicting whether or not a patient has heart disease during the proof of concept.\n",
    "4. **`Features`**\n",
    "> create a data dictionary\n",
    "    \n",
    "    ***description of heart disease columns***\n",
    "    1. **`age`** - age in years\n",
    "    2. **`sex`** - (1 = male; 0 = female)\n",
    "    3. **`cp`** - chest pain type\n",
    "        * 0: Typical angina: chest pain related decrease blood supply to the heart\n",
    "        * 1: Atypical angina: chest pain not related to heart\n",
    "        * 2: Non-anginal pain: typically esophageal spasms (non heart related)\n",
    "        * 3: Asymptomatic: chest pain not showing signs of disease\n",
    "    4. **`trestbps`** - resting blood pressure (in mm Hg on admission to the hospital)\n",
    "        * anything above 130-140 is typically cause for concern\n",
    "    5. **`chol`** - serum cholestoral in mg/dl\n",
    "        * serum = LDL + HDL + .2 * triglycerides\n",
    "        * above 200 is cause for concern\n",
    "    6. **`fbs`** - (fasting blood sugar > 120 mg/dl) (1 = true; 0 = false)\n",
    "        * '>126' mg/dL signals diabetes\n",
    "    7. **`restecg`** - resting electrocardiographic results\n",
    "        * 0: Nothing to note\n",
    "        * 1: ST-T Wave abnormality\n",
    "            * can range from mild symptoms to severe problems\n",
    "            * signals non-normal heart beat\n",
    "        * 2: Possible or definite left ventricular hypertrophy\n",
    "            * Enlarged heart's main pumping chamber\n",
    "    8. **`thalach`** - maximum heart rate achieved\n",
    "    9. **`exang`** - exercise induced angina (1 = yes; 0 = no)\n",
    "    10. **`oldpeak`** - ST depression induced by exercise relative to rest\n",
    "        * looks at stress of heart during excercise\n",
    "        * unhealthy heart will stress more\n",
    "    11. **`slope`** - the slope of the peak exercise ST segment\n",
    "        * 0: Upsloping: better heart rate with excercise (uncommon)\n",
    "        * 1: Flatsloping: minimal change (typical healthy heart)\n",
    "        * 2: Downslopins: signs of unhealthy heart\n",
    "    12. **`ca`** - number of major vessels (0-3) colored by flourosopy\n",
    "        * colored vessel means the doctor can see the blood passing through\n",
    "        * the more blood movement the better (no clots)\n",
    "    13. **`thal`** - thalium stress result\n",
    "        * 1,3: normal\n",
    "        * 6: fixed defect: used to be defect but ok now\n",
    "        * 7: reversable defect: no proper blood movement when excercising\n",
    "    14. **`target`** - have disease or not (1=yes, 0=no) (= the predicted attribute)\n",
    "\n",
    "\n",
    "5. **`Modelling`**\n",
    "> use machine learning to predict our target variable based on the 13 independent variables as per above problems\n",
    "6. **`Experimentation`**\n",
    "> we already doing it as per step 1 and step 3, the question is did you reach step 3 mentioned accuracy?\n",
    "\n",
    "***Subtopics***\n",
    "* **`Exploratory data analysis (EDA)`**: the process of going through a dataset and finding out more about it.\n",
    "* **`Model training`**: create model(s) to learn to predict a target variable based on other variables.\n",
    "* **`Model evaluation`**: evaluating a models predictions using problem-specific evaluation metrics.\n",
    "* **`Model comparison`**: comparing several different models to find the best one.\n",
    "* **`Model fine-tuning`**: once we've found a good model, how can we improve it?\n",
    "* **`Feature importance`**: since we're predicting the presence of heart disease, are there some things which are more important for prediction?\n",
    "* **`Cross-validation`**: if we do build a good model, can we be sure it will work on unseen data?\n",
    "* **`Reporting what we've found`**: if we had to present our work, what would we show someone?"
   ]
  },
  {
   "cell_type": "markdown",
   "id": "fc2fe34b",
   "metadata": {},
   "source": [
    "### Preparing the tools\n",
    "\n",
    "using `pandas`, `Matplotlib` and `NumPy` for **data analysis** and **manipulation**"
   ]
  },
  {
   "cell_type": "code",
   "execution_count": 1,
   "id": "6f0e78de",
   "metadata": {},
   "outputs": [],
   "source": [
    "# import all the tools\n",
    "\n",
    "# regular EDA \"exploratory data analysis and plotting libraries\"\n",
    "import numpy as np\n",
    "import pandas as pd\n",
    "import matplotlib.pyplot as plt\n",
    "import seaborn as sns\n",
    "\n",
    "# plots inside notebook\n",
    "%matplotlib inline\n",
    "\n",
    "# models\n",
    "from sklearn.linear_model import LogisticRegression\n",
    "from sklearn.neighbors import KNeighborsClassifier\n",
    "from sklearn.ensemble import RandomForestClassifier\n",
    "from catboost import CatBoostClassifier\n",
    "from xgboost import XGBClassifier\n",
    "from sklearn.naive_bayes import GaussianNB\n",
    "from sklearn.svm import SVC\n",
    "from sklearn.linear_model import SGDClassifier\n",
    "\n",
    "# model evaluations\n",
    "from sklearn.model_selection import train_test_split, cross_val_score\n",
    "from sklearn.model_selection import RandomizedSearchCV, GridSearchCV\n",
    "from sklearn.model_selection import StratifiedKFold\n",
    "from sklearn.metrics import confusion_matrix, classification_report\n",
    "from sklearn.metrics import precision_score, recall_score, f1_score\n",
    "from sklearn.metrics import plot_roc_curve"
   ]
  },
  {
   "cell_type": "markdown",
   "id": "de3b7bfe",
   "metadata": {},
   "source": [
    "### Load Data"
   ]
  },
  {
   "cell_type": "code",
   "execution_count": 2,
   "id": "741f4655",
   "metadata": {},
   "outputs": [
    {
     "data": {
      "text/html": [
       "<div>\n",
       "<style scoped>\n",
       "    .dataframe tbody tr th:only-of-type {\n",
       "        vertical-align: middle;\n",
       "    }\n",
       "\n",
       "    .dataframe tbody tr th {\n",
       "        vertical-align: top;\n",
       "    }\n",
       "\n",
       "    .dataframe thead th {\n",
       "        text-align: right;\n",
       "    }\n",
       "</style>\n",
       "<table border=\"1\" class=\"dataframe\">\n",
       "  <thead>\n",
       "    <tr style=\"text-align: right;\">\n",
       "      <th></th>\n",
       "      <th>age</th>\n",
       "      <th>sex</th>\n",
       "      <th>cp</th>\n",
       "      <th>trestbps</th>\n",
       "      <th>chol</th>\n",
       "      <th>fbs</th>\n",
       "      <th>restecg</th>\n",
       "      <th>thalach</th>\n",
       "      <th>exang</th>\n",
       "      <th>oldpeak</th>\n",
       "      <th>slope</th>\n",
       "      <th>ca</th>\n",
       "      <th>thal</th>\n",
       "      <th>target</th>\n",
       "    </tr>\n",
       "  </thead>\n",
       "  <tbody>\n",
       "    <tr>\n",
       "      <th>0</th>\n",
       "      <td>63</td>\n",
       "      <td>1</td>\n",
       "      <td>3</td>\n",
       "      <td>145</td>\n",
       "      <td>233</td>\n",
       "      <td>1</td>\n",
       "      <td>0</td>\n",
       "      <td>150</td>\n",
       "      <td>0</td>\n",
       "      <td>2.3</td>\n",
       "      <td>0</td>\n",
       "      <td>0</td>\n",
       "      <td>1</td>\n",
       "      <td>1</td>\n",
       "    </tr>\n",
       "    <tr>\n",
       "      <th>1</th>\n",
       "      <td>37</td>\n",
       "      <td>1</td>\n",
       "      <td>2</td>\n",
       "      <td>130</td>\n",
       "      <td>250</td>\n",
       "      <td>0</td>\n",
       "      <td>1</td>\n",
       "      <td>187</td>\n",
       "      <td>0</td>\n",
       "      <td>3.5</td>\n",
       "      <td>0</td>\n",
       "      <td>0</td>\n",
       "      <td>2</td>\n",
       "      <td>1</td>\n",
       "    </tr>\n",
       "    <tr>\n",
       "      <th>2</th>\n",
       "      <td>41</td>\n",
       "      <td>0</td>\n",
       "      <td>1</td>\n",
       "      <td>130</td>\n",
       "      <td>204</td>\n",
       "      <td>0</td>\n",
       "      <td>0</td>\n",
       "      <td>172</td>\n",
       "      <td>0</td>\n",
       "      <td>1.4</td>\n",
       "      <td>2</td>\n",
       "      <td>0</td>\n",
       "      <td>2</td>\n",
       "      <td>1</td>\n",
       "    </tr>\n",
       "    <tr>\n",
       "      <th>3</th>\n",
       "      <td>56</td>\n",
       "      <td>1</td>\n",
       "      <td>1</td>\n",
       "      <td>120</td>\n",
       "      <td>236</td>\n",
       "      <td>0</td>\n",
       "      <td>1</td>\n",
       "      <td>178</td>\n",
       "      <td>0</td>\n",
       "      <td>0.8</td>\n",
       "      <td>2</td>\n",
       "      <td>0</td>\n",
       "      <td>2</td>\n",
       "      <td>1</td>\n",
       "    </tr>\n",
       "    <tr>\n",
       "      <th>4</th>\n",
       "      <td>57</td>\n",
       "      <td>0</td>\n",
       "      <td>0</td>\n",
       "      <td>120</td>\n",
       "      <td>354</td>\n",
       "      <td>0</td>\n",
       "      <td>1</td>\n",
       "      <td>163</td>\n",
       "      <td>1</td>\n",
       "      <td>0.6</td>\n",
       "      <td>2</td>\n",
       "      <td>0</td>\n",
       "      <td>2</td>\n",
       "      <td>1</td>\n",
       "    </tr>\n",
       "    <tr>\n",
       "      <th>...</th>\n",
       "      <td>...</td>\n",
       "      <td>...</td>\n",
       "      <td>...</td>\n",
       "      <td>...</td>\n",
       "      <td>...</td>\n",
       "      <td>...</td>\n",
       "      <td>...</td>\n",
       "      <td>...</td>\n",
       "      <td>...</td>\n",
       "      <td>...</td>\n",
       "      <td>...</td>\n",
       "      <td>...</td>\n",
       "      <td>...</td>\n",
       "      <td>...</td>\n",
       "    </tr>\n",
       "    <tr>\n",
       "      <th>298</th>\n",
       "      <td>57</td>\n",
       "      <td>0</td>\n",
       "      <td>0</td>\n",
       "      <td>140</td>\n",
       "      <td>241</td>\n",
       "      <td>0</td>\n",
       "      <td>1</td>\n",
       "      <td>123</td>\n",
       "      <td>1</td>\n",
       "      <td>0.2</td>\n",
       "      <td>1</td>\n",
       "      <td>0</td>\n",
       "      <td>3</td>\n",
       "      <td>0</td>\n",
       "    </tr>\n",
       "    <tr>\n",
       "      <th>299</th>\n",
       "      <td>45</td>\n",
       "      <td>1</td>\n",
       "      <td>3</td>\n",
       "      <td>110</td>\n",
       "      <td>264</td>\n",
       "      <td>0</td>\n",
       "      <td>1</td>\n",
       "      <td>132</td>\n",
       "      <td>0</td>\n",
       "      <td>1.2</td>\n",
       "      <td>1</td>\n",
       "      <td>0</td>\n",
       "      <td>3</td>\n",
       "      <td>0</td>\n",
       "    </tr>\n",
       "    <tr>\n",
       "      <th>300</th>\n",
       "      <td>68</td>\n",
       "      <td>1</td>\n",
       "      <td>0</td>\n",
       "      <td>144</td>\n",
       "      <td>193</td>\n",
       "      <td>1</td>\n",
       "      <td>1</td>\n",
       "      <td>141</td>\n",
       "      <td>0</td>\n",
       "      <td>3.4</td>\n",
       "      <td>1</td>\n",
       "      <td>2</td>\n",
       "      <td>3</td>\n",
       "      <td>0</td>\n",
       "    </tr>\n",
       "    <tr>\n",
       "      <th>301</th>\n",
       "      <td>57</td>\n",
       "      <td>1</td>\n",
       "      <td>0</td>\n",
       "      <td>130</td>\n",
       "      <td>131</td>\n",
       "      <td>0</td>\n",
       "      <td>1</td>\n",
       "      <td>115</td>\n",
       "      <td>1</td>\n",
       "      <td>1.2</td>\n",
       "      <td>1</td>\n",
       "      <td>1</td>\n",
       "      <td>3</td>\n",
       "      <td>0</td>\n",
       "    </tr>\n",
       "    <tr>\n",
       "      <th>302</th>\n",
       "      <td>57</td>\n",
       "      <td>0</td>\n",
       "      <td>1</td>\n",
       "      <td>130</td>\n",
       "      <td>236</td>\n",
       "      <td>0</td>\n",
       "      <td>0</td>\n",
       "      <td>174</td>\n",
       "      <td>0</td>\n",
       "      <td>0.0</td>\n",
       "      <td>1</td>\n",
       "      <td>1</td>\n",
       "      <td>2</td>\n",
       "      <td>0</td>\n",
       "    </tr>\n",
       "  </tbody>\n",
       "</table>\n",
       "<p>303 rows × 14 columns</p>\n",
       "</div>"
      ],
      "text/plain": [
       "     age  sex  cp  trestbps  chol  fbs  restecg  thalach  exang  oldpeak  \\\n",
       "0     63    1   3       145   233    1        0      150      0      2.3   \n",
       "1     37    1   2       130   250    0        1      187      0      3.5   \n",
       "2     41    0   1       130   204    0        0      172      0      1.4   \n",
       "3     56    1   1       120   236    0        1      178      0      0.8   \n",
       "4     57    0   0       120   354    0        1      163      1      0.6   \n",
       "..   ...  ...  ..       ...   ...  ...      ...      ...    ...      ...   \n",
       "298   57    0   0       140   241    0        1      123      1      0.2   \n",
       "299   45    1   3       110   264    0        1      132      0      1.2   \n",
       "300   68    1   0       144   193    1        1      141      0      3.4   \n",
       "301   57    1   0       130   131    0        1      115      1      1.2   \n",
       "302   57    0   1       130   236    0        0      174      0      0.0   \n",
       "\n",
       "     slope  ca  thal  target  \n",
       "0        0   0     1       1  \n",
       "1        0   0     2       1  \n",
       "2        2   0     2       1  \n",
       "3        2   0     2       1  \n",
       "4        2   0     2       1  \n",
       "..     ...  ..   ...     ...  \n",
       "298      1   0     3       0  \n",
       "299      1   0     3       0  \n",
       "300      1   2     3       0  \n",
       "301      1   1     3       0  \n",
       "302      1   1     2       0  \n",
       "\n",
       "[303 rows x 14 columns]"
      ]
     },
     "execution_count": 2,
     "metadata": {},
     "output_type": "execute_result"
    }
   ],
   "source": [
    "df = pd.read_csv(\"data/heart-disease.csv\")\n",
    "df"
   ]
  },
  {
   "cell_type": "markdown",
   "id": "6c5276d3",
   "metadata": {},
   "source": [
    "### Data Exploration (`exploratory data analysis` or `EDA`)\n",
    "\n",
    "**EDA Methodolgy**\n",
    "\n",
    "* What question(s) are you trying to solve (or prove wrong)?\n",
    "* What kind of data do you have and how do you treat different types?\n",
    "* What’s missing from the data and how do you deal with it?\n",
    "* Where are the outliers and why should you care about them?\n",
    "* How can you add, change or remove features to get more out of your data?"
   ]
  },
  {
   "cell_type": "code",
   "execution_count": 3,
   "id": "e9059039",
   "metadata": {},
   "outputs": [
    {
     "data": {
      "text/html": [
       "<div>\n",
       "<style scoped>\n",
       "    .dataframe tbody tr th:only-of-type {\n",
       "        vertical-align: middle;\n",
       "    }\n",
       "\n",
       "    .dataframe tbody tr th {\n",
       "        vertical-align: top;\n",
       "    }\n",
       "\n",
       "    .dataframe thead th {\n",
       "        text-align: right;\n",
       "    }\n",
       "</style>\n",
       "<table border=\"1\" class=\"dataframe\">\n",
       "  <thead>\n",
       "    <tr style=\"text-align: right;\">\n",
       "      <th></th>\n",
       "      <th>age</th>\n",
       "      <th>sex</th>\n",
       "      <th>cp</th>\n",
       "      <th>trestbps</th>\n",
       "      <th>chol</th>\n",
       "      <th>fbs</th>\n",
       "      <th>restecg</th>\n",
       "      <th>thalach</th>\n",
       "      <th>exang</th>\n",
       "      <th>oldpeak</th>\n",
       "      <th>slope</th>\n",
       "      <th>ca</th>\n",
       "      <th>thal</th>\n",
       "      <th>target</th>\n",
       "    </tr>\n",
       "  </thead>\n",
       "  <tbody>\n",
       "    <tr>\n",
       "      <th>0</th>\n",
       "      <td>63</td>\n",
       "      <td>1</td>\n",
       "      <td>3</td>\n",
       "      <td>145</td>\n",
       "      <td>233</td>\n",
       "      <td>1</td>\n",
       "      <td>0</td>\n",
       "      <td>150</td>\n",
       "      <td>0</td>\n",
       "      <td>2.3</td>\n",
       "      <td>0</td>\n",
       "      <td>0</td>\n",
       "      <td>1</td>\n",
       "      <td>1</td>\n",
       "    </tr>\n",
       "    <tr>\n",
       "      <th>1</th>\n",
       "      <td>37</td>\n",
       "      <td>1</td>\n",
       "      <td>2</td>\n",
       "      <td>130</td>\n",
       "      <td>250</td>\n",
       "      <td>0</td>\n",
       "      <td>1</td>\n",
       "      <td>187</td>\n",
       "      <td>0</td>\n",
       "      <td>3.5</td>\n",
       "      <td>0</td>\n",
       "      <td>0</td>\n",
       "      <td>2</td>\n",
       "      <td>1</td>\n",
       "    </tr>\n",
       "    <tr>\n",
       "      <th>2</th>\n",
       "      <td>41</td>\n",
       "      <td>0</td>\n",
       "      <td>1</td>\n",
       "      <td>130</td>\n",
       "      <td>204</td>\n",
       "      <td>0</td>\n",
       "      <td>0</td>\n",
       "      <td>172</td>\n",
       "      <td>0</td>\n",
       "      <td>1.4</td>\n",
       "      <td>2</td>\n",
       "      <td>0</td>\n",
       "      <td>2</td>\n",
       "      <td>1</td>\n",
       "    </tr>\n",
       "    <tr>\n",
       "      <th>3</th>\n",
       "      <td>56</td>\n",
       "      <td>1</td>\n",
       "      <td>1</td>\n",
       "      <td>120</td>\n",
       "      <td>236</td>\n",
       "      <td>0</td>\n",
       "      <td>1</td>\n",
       "      <td>178</td>\n",
       "      <td>0</td>\n",
       "      <td>0.8</td>\n",
       "      <td>2</td>\n",
       "      <td>0</td>\n",
       "      <td>2</td>\n",
       "      <td>1</td>\n",
       "    </tr>\n",
       "    <tr>\n",
       "      <th>4</th>\n",
       "      <td>57</td>\n",
       "      <td>0</td>\n",
       "      <td>0</td>\n",
       "      <td>120</td>\n",
       "      <td>354</td>\n",
       "      <td>0</td>\n",
       "      <td>1</td>\n",
       "      <td>163</td>\n",
       "      <td>1</td>\n",
       "      <td>0.6</td>\n",
       "      <td>2</td>\n",
       "      <td>0</td>\n",
       "      <td>2</td>\n",
       "      <td>1</td>\n",
       "    </tr>\n",
       "  </tbody>\n",
       "</table>\n",
       "</div>"
      ],
      "text/plain": [
       "   age  sex  cp  trestbps  chol  fbs  restecg  thalach  exang  oldpeak  slope  \\\n",
       "0   63    1   3       145   233    1        0      150      0      2.3      0   \n",
       "1   37    1   2       130   250    0        1      187      0      3.5      0   \n",
       "2   41    0   1       130   204    0        0      172      0      1.4      2   \n",
       "3   56    1   1       120   236    0        1      178      0      0.8      2   \n",
       "4   57    0   0       120   354    0        1      163      1      0.6      2   \n",
       "\n",
       "   ca  thal  target  \n",
       "0   0     1       1  \n",
       "1   0     2       1  \n",
       "2   0     2       1  \n",
       "3   0     2       1  \n",
       "4   0     2       1  "
      ]
     },
     "execution_count": 3,
     "metadata": {},
     "output_type": "execute_result"
    }
   ],
   "source": [
    "# first 5 rows\n",
    "df.head()"
   ]
  },
  {
   "cell_type": "code",
   "execution_count": 4,
   "id": "abead19d",
   "metadata": {},
   "outputs": [
    {
     "data": {
      "text/html": [
       "<div>\n",
       "<style scoped>\n",
       "    .dataframe tbody tr th:only-of-type {\n",
       "        vertical-align: middle;\n",
       "    }\n",
       "\n",
       "    .dataframe tbody tr th {\n",
       "        vertical-align: top;\n",
       "    }\n",
       "\n",
       "    .dataframe thead th {\n",
       "        text-align: right;\n",
       "    }\n",
       "</style>\n",
       "<table border=\"1\" class=\"dataframe\">\n",
       "  <thead>\n",
       "    <tr style=\"text-align: right;\">\n",
       "      <th></th>\n",
       "      <th>age</th>\n",
       "      <th>sex</th>\n",
       "      <th>cp</th>\n",
       "      <th>trestbps</th>\n",
       "      <th>chol</th>\n",
       "      <th>fbs</th>\n",
       "      <th>restecg</th>\n",
       "      <th>thalach</th>\n",
       "      <th>exang</th>\n",
       "      <th>oldpeak</th>\n",
       "      <th>slope</th>\n",
       "      <th>ca</th>\n",
       "      <th>thal</th>\n",
       "      <th>target</th>\n",
       "    </tr>\n",
       "  </thead>\n",
       "  <tbody>\n",
       "    <tr>\n",
       "      <th>298</th>\n",
       "      <td>57</td>\n",
       "      <td>0</td>\n",
       "      <td>0</td>\n",
       "      <td>140</td>\n",
       "      <td>241</td>\n",
       "      <td>0</td>\n",
       "      <td>1</td>\n",
       "      <td>123</td>\n",
       "      <td>1</td>\n",
       "      <td>0.2</td>\n",
       "      <td>1</td>\n",
       "      <td>0</td>\n",
       "      <td>3</td>\n",
       "      <td>0</td>\n",
       "    </tr>\n",
       "    <tr>\n",
       "      <th>299</th>\n",
       "      <td>45</td>\n",
       "      <td>1</td>\n",
       "      <td>3</td>\n",
       "      <td>110</td>\n",
       "      <td>264</td>\n",
       "      <td>0</td>\n",
       "      <td>1</td>\n",
       "      <td>132</td>\n",
       "      <td>0</td>\n",
       "      <td>1.2</td>\n",
       "      <td>1</td>\n",
       "      <td>0</td>\n",
       "      <td>3</td>\n",
       "      <td>0</td>\n",
       "    </tr>\n",
       "    <tr>\n",
       "      <th>300</th>\n",
       "      <td>68</td>\n",
       "      <td>1</td>\n",
       "      <td>0</td>\n",
       "      <td>144</td>\n",
       "      <td>193</td>\n",
       "      <td>1</td>\n",
       "      <td>1</td>\n",
       "      <td>141</td>\n",
       "      <td>0</td>\n",
       "      <td>3.4</td>\n",
       "      <td>1</td>\n",
       "      <td>2</td>\n",
       "      <td>3</td>\n",
       "      <td>0</td>\n",
       "    </tr>\n",
       "    <tr>\n",
       "      <th>301</th>\n",
       "      <td>57</td>\n",
       "      <td>1</td>\n",
       "      <td>0</td>\n",
       "      <td>130</td>\n",
       "      <td>131</td>\n",
       "      <td>0</td>\n",
       "      <td>1</td>\n",
       "      <td>115</td>\n",
       "      <td>1</td>\n",
       "      <td>1.2</td>\n",
       "      <td>1</td>\n",
       "      <td>1</td>\n",
       "      <td>3</td>\n",
       "      <td>0</td>\n",
       "    </tr>\n",
       "    <tr>\n",
       "      <th>302</th>\n",
       "      <td>57</td>\n",
       "      <td>0</td>\n",
       "      <td>1</td>\n",
       "      <td>130</td>\n",
       "      <td>236</td>\n",
       "      <td>0</td>\n",
       "      <td>0</td>\n",
       "      <td>174</td>\n",
       "      <td>0</td>\n",
       "      <td>0.0</td>\n",
       "      <td>1</td>\n",
       "      <td>1</td>\n",
       "      <td>2</td>\n",
       "      <td>0</td>\n",
       "    </tr>\n",
       "  </tbody>\n",
       "</table>\n",
       "</div>"
      ],
      "text/plain": [
       "     age  sex  cp  trestbps  chol  fbs  restecg  thalach  exang  oldpeak  \\\n",
       "298   57    0   0       140   241    0        1      123      1      0.2   \n",
       "299   45    1   3       110   264    0        1      132      0      1.2   \n",
       "300   68    1   0       144   193    1        1      141      0      3.4   \n",
       "301   57    1   0       130   131    0        1      115      1      1.2   \n",
       "302   57    0   1       130   236    0        0      174      0      0.0   \n",
       "\n",
       "     slope  ca  thal  target  \n",
       "298      1   0     3       0  \n",
       "299      1   0     3       0  \n",
       "300      1   2     3       0  \n",
       "301      1   1     3       0  \n",
       "302      1   1     2       0  "
      ]
     },
     "execution_count": 4,
     "metadata": {},
     "output_type": "execute_result"
    }
   ],
   "source": [
    "# last 5 rows\n",
    "df.tail()"
   ]
  },
  {
   "cell_type": "code",
   "execution_count": 5,
   "id": "0d29e4c5",
   "metadata": {},
   "outputs": [
    {
     "data": {
      "text/plain": [
       "1    165\n",
       "0    138\n",
       "Name: target, dtype: int64"
      ]
     },
     "execution_count": 5,
     "metadata": {},
     "output_type": "execute_result"
    }
   ],
   "source": [
    "# how many of each class\n",
    "df[\"target\"].value_counts()"
   ]
  },
  {
   "cell_type": "code",
   "execution_count": 6,
   "id": "0c1984f9",
   "metadata": {},
   "outputs": [
    {
     "data": {
      "image/png": "[encoded data removed]",
      "text/plain": [
       "<Figure size 640x480 with 1 Axes>"
      ]
     },
     "metadata": {},
     "output_type": "display_data"
    }
   ],
   "source": [
    "# visually show balance in target\n",
    "df[\"target\"].value_counts().plot(kind=\"bar\", color=[\"salmon\", \"lightblue\"]);"
   ]
  },
  {
   "cell_type": "code",
   "execution_count": 7,
   "id": "9e4162fa",
   "metadata": {},
   "outputs": [
    {
     "name": "stdout",
     "output_type": "stream",
     "text": [
      "<class 'pandas.core.frame.DataFrame'>\n",
      "RangeIndex: 303 entries, 0 to 302\n",
      "Data columns (total 14 columns):\n",
      " #   Column    Non-Null Count  Dtype  \n",
      "---  ------    --------------  -----  \n",
      " 0   age       303 non-null    int64  \n",
      " 1   sex       303 non-null    int64  \n",
      " 2   cp        303 non-null    int64  \n",
      " 3   trestbps  303 non-null    int64  \n",
      " 4   chol      303 non-null    int64  \n",
      " 5   fbs       303 non-null    int64  \n",
      " 6   restecg   303 non-null    int64  \n",
      " 7   thalach   303 non-null    int64  \n",
      " 8   exang     303 non-null    int64  \n",
      " 9   oldpeak   303 non-null    float64\n",
      " 10  slope     303 non-null    int64  \n",
      " 11  ca        303 non-null    int64  \n",
      " 12  thal      303 non-null    int64  \n",
      " 13  target    303 non-null    int64  \n",
      "dtypes: float64(1), int64(13)\n",
      "memory usage: 33.3 KB\n"
     ]
    }
   ],
   "source": [
    "df.info()"
   ]
  },
  {
   "cell_type": "code",
   "execution_count": 8,
   "id": "e3d6df9f",
   "metadata": {},
   "outputs": [
    {
     "data": {
      "text/plain": [
       "age         0\n",
       "sex         0\n",
       "cp          0\n",
       "trestbps    0\n",
       "chol        0\n",
       "fbs         0\n",
       "restecg     0\n",
       "thalach     0\n",
       "exang       0\n",
       "oldpeak     0\n",
       "slope       0\n",
       "ca          0\n",
       "thal        0\n",
       "target      0\n",
       "dtype: int64"
      ]
     },
     "execution_count": 8,
     "metadata": {},
     "output_type": "execute_result"
    }
   ],
   "source": [
    "# check missing values\n",
    "df.isna().sum()"
   ]
  },
  {
   "cell_type": "code",
   "execution_count": 9,
   "id": "e42a7c64",
   "metadata": {},
   "outputs": [
    {
     "data": {
      "text/html": [
       "<div>\n",
       "<style scoped>\n",
       "    .dataframe tbody tr th:only-of-type {\n",
       "        vertical-align: middle;\n",
       "    }\n",
       "\n",
       "    .dataframe tbody tr th {\n",
       "        vertical-align: top;\n",
       "    }\n",
       "\n",
       "    .dataframe thead th {\n",
       "        text-align: right;\n",
       "    }\n",
       "</style>\n",
       "<table border=\"1\" class=\"dataframe\">\n",
       "  <thead>\n",
       "    <tr style=\"text-align: right;\">\n",
       "      <th></th>\n",
       "      <th>age</th>\n",
       "      <th>sex</th>\n",
       "      <th>cp</th>\n",
       "      <th>trestbps</th>\n",
       "      <th>chol</th>\n",
       "      <th>fbs</th>\n",
       "      <th>restecg</th>\n",
       "      <th>thalach</th>\n",
       "      <th>exang</th>\n",
       "      <th>oldpeak</th>\n",
       "      <th>slope</th>\n",
       "      <th>ca</th>\n",
       "      <th>thal</th>\n",
       "      <th>target</th>\n",
       "    </tr>\n",
       "  </thead>\n",
       "  <tbody>\n",
       "    <tr>\n",
       "      <th>count</th>\n",
       "      <td>303.000000</td>\n",
       "      <td>303.000000</td>\n",
       "      <td>303.000000</td>\n",
       "      <td>303.000000</td>\n",
       "      <td>303.000000</td>\n",
       "      <td>303.000000</td>\n",
       "      <td>303.000000</td>\n",
       "      <td>303.000000</td>\n",
       "      <td>303.000000</td>\n",
       "      <td>303.000000</td>\n",
       "      <td>303.000000</td>\n",
       "      <td>303.000000</td>\n",
       "      <td>303.000000</td>\n",
       "      <td>303.000000</td>\n",
       "    </tr>\n",
       "    <tr>\n",
       "      <th>mean</th>\n",
       "      <td>54.366337</td>\n",
       "      <td>0.683168</td>\n",
       "      <td>0.966997</td>\n",
       "      <td>131.623762</td>\n",
       "      <td>246.264026</td>\n",
       "      <td>0.148515</td>\n",
       "      <td>0.528053</td>\n",
       "      <td>149.646865</td>\n",
       "      <td>0.326733</td>\n",
       "      <td>1.039604</td>\n",
       "      <td>1.399340</td>\n",
       "      <td>0.729373</td>\n",
       "      <td>2.313531</td>\n",
       "      <td>0.544554</td>\n",
       "    </tr>\n",
       "    <tr>\n",
       "      <th>std</th>\n",
       "      <td>9.082101</td>\n",
       "      <td>0.466011</td>\n",
       "      <td>1.032052</td>\n",
       "      <td>17.538143</td>\n",
       "      <td>51.830751</td>\n",
       "      <td>0.356198</td>\n",
       "      <td>0.525860</td>\n",
       "      <td>22.905161</td>\n",
       "      <td>0.469794</td>\n",
       "      <td>1.161075</td>\n",
       "      <td>0.616226</td>\n",
       "      <td>1.022606</td>\n",
       "      <td>0.612277</td>\n",
       "      <td>0.498835</td>\n",
       "    </tr>\n",
       "    <tr>\n",
       "      <th>min</th>\n",
       "      <td>29.000000</td>\n",
       "      <td>0.000000</td>\n",
       "      <td>0.000000</td>\n",
       "      <td>94.000000</td>\n",
       "      <td>126.000000</td>\n",
       "      <td>0.000000</td>\n",
       "      <td>0.000000</td>\n",
       "      <td>71.000000</td>\n",
       "      <td>0.000000</td>\n",
       "      <td>0.000000</td>\n",
       "      <td>0.000000</td>\n",
       "      <td>0.000000</td>\n",
       "      <td>0.000000</td>\n",
       "      <td>0.000000</td>\n",
       "    </tr>\n",
       "    <tr>\n",
       "      <th>25%</th>\n",
       "      <td>47.500000</td>\n",
       "      <td>0.000000</td>\n",
       "      <td>0.000000</td>\n",
       "      <td>120.000000</td>\n",
       "      <td>211.000000</td>\n",
       "      <td>0.000000</td>\n",
       "      <td>0.000000</td>\n",
       "      <td>133.500000</td>\n",
       "      <td>0.000000</td>\n",
       "      <td>0.000000</td>\n",
       "      <td>1.000000</td>\n",
       "      <td>0.000000</td>\n",
       "      <td>2.000000</td>\n",
       "      <td>0.000000</td>\n",
       "    </tr>\n",
       "    <tr>\n",
       "      <th>50%</th>\n",
       "      <td>55.000000</td>\n",
       "      <td>1.000000</td>\n",
       "      <td>1.000000</td>\n",
       "      <td>130.000000</td>\n",
       "      <td>240.000000</td>\n",
       "      <td>0.000000</td>\n",
       "      <td>1.000000</td>\n",
       "      <td>153.000000</td>\n",
       "      <td>0.000000</td>\n",
       "      <td>0.800000</td>\n",
       "      <td>1.000000</td>\n",
       "      <td>0.000000</td>\n",
       "      <td>2.000000</td>\n",
       "      <td>1.000000</td>\n",
       "    </tr>\n",
       "    <tr>\n",
       "      <th>75%</th>\n",
       "      <td>61.000000</td>\n",
       "      <td>1.000000</td>\n",
       "      <td>2.000000</td>\n",
       "      <td>140.000000</td>\n",
       "      <td>274.500000</td>\n",
       "      <td>0.000000</td>\n",
       "      <td>1.000000</td>\n",
       "      <td>166.000000</td>\n",
       "      <td>1.000000</td>\n",
       "      <td>1.600000</td>\n",
       "      <td>2.000000</td>\n",
       "      <td>1.000000</td>\n",
       "      <td>3.000000</td>\n",
       "      <td>1.000000</td>\n",
       "    </tr>\n",
       "    <tr>\n",
       "      <th>max</th>\n",
       "      <td>77.000000</td>\n",
       "      <td>1.000000</td>\n",
       "      <td>3.000000</td>\n",
       "      <td>200.000000</td>\n",
       "      <td>564.000000</td>\n",
       "      <td>1.000000</td>\n",
       "      <td>2.000000</td>\n",
       "      <td>202.000000</td>\n",
       "      <td>1.000000</td>\n",
       "      <td>6.200000</td>\n",
       "      <td>2.000000</td>\n",
       "      <td>4.000000</td>\n",
       "      <td>3.000000</td>\n",
       "      <td>1.000000</td>\n",
       "    </tr>\n",
       "  </tbody>\n",
       "</table>\n",
       "</div>"
      ],
      "text/plain": [
       "              age         sex          cp    trestbps        chol         fbs  \\\n",
       "count  303.000000  303.000000  303.000000  303.000000  303.000000  303.000000   \n",
       "mean    54.366337    0.683168    0.966997  131.623762  246.264026    0.148515   \n",
       "std      9.082101    0.466011    1.032052   17.538143   51.830751    0.356198   \n",
       "min     29.000000    0.000000    0.000000   94.000000  126.000000    0.000000   \n",
       "25%     47.500000    0.000000    0.000000  120.000000  211.000000    0.000000   \n",
       "50%     55.000000    1.000000    1.000000  130.000000  240.000000    0.000000   \n",
       "75%     61.000000    1.000000    2.000000  140.000000  274.500000    0.000000   \n",
       "max     77.000000    1.000000    3.000000  200.000000  564.000000    1.000000   \n",
       "\n",
       "          restecg     thalach       exang     oldpeak       slope          ca  \\\n",
       "count  303.000000  303.000000  303.000000  303.000000  303.000000  303.000000   \n",
       "mean     0.528053  149.646865    0.326733    1.039604    1.399340    0.729373   \n",
       "std      0.525860   22.905161    0.469794    1.161075    0.616226    1.022606   \n",
       "min      0.000000   71.000000    0.000000    0.000000    0.000000    0.000000   \n",
       "25%      0.000000  133.500000    0.000000    0.000000    1.000000    0.000000   \n",
       "50%      1.000000  153.000000    0.000000    0.800000    1.000000    0.000000   \n",
       "75%      1.000000  166.000000    1.000000    1.600000    2.000000    1.000000   \n",
       "max      2.000000  202.000000    1.000000    6.200000    2.000000    4.000000   \n",
       "\n",
       "             thal      target  \n",
       "count  303.000000  303.000000  \n",
       "mean     2.313531    0.544554  \n",
       "std      0.612277    0.498835  \n",
       "min      0.000000    0.000000  \n",
       "25%      2.000000    0.000000  \n",
       "50%      2.000000    1.000000  \n",
       "75%      3.000000    1.000000  \n",
       "max      3.000000    1.000000  "
      ]
     },
     "execution_count": 9,
     "metadata": {},
     "output_type": "execute_result"
    }
   ],
   "source": [
    "df.describe()"
   ]
  },
  {
   "cell_type": "markdown",
   "id": "65040d7f",
   "metadata": {},
   "source": [
    "### Heart Disease Frequency according to Gender (SEX)"
   ]
  },
  {
   "cell_type": "code",
   "execution_count": 10,
   "id": "5054bb62",
   "metadata": {
    "scrolled": true
   },
   "outputs": [
    {
     "data": {
      "text/plain": [
       "1    207\n",
       "0     96\n",
       "Name: sex, dtype: int64"
      ]
     },
     "execution_count": 10,
     "metadata": {},
     "output_type": "execute_result"
    }
   ],
   "source": [
    "df.sex.value_counts()"
   ]
  },
  {
   "cell_type": "code",
   "execution_count": 11,
   "id": "5173c780",
   "metadata": {},
   "outputs": [
    {
     "data": {
      "text/html": [
       "<div>\n",
       "<style scoped>\n",
       "    .dataframe tbody tr th:only-of-type {\n",
       "        vertical-align: middle;\n",
       "    }\n",
       "\n",
       "    .dataframe tbody tr th {\n",
       "        vertical-align: top;\n",
       "    }\n",
       "\n",
       "    .dataframe thead th {\n",
       "        text-align: right;\n",
       "    }\n",
       "</style>\n",
       "<table border=\"1\" class=\"dataframe\">\n",
       "  <thead>\n",
       "    <tr style=\"text-align: right;\">\n",
       "      <th>sex</th>\n",
       "      <th>0</th>\n",
       "      <th>1</th>\n",
       "    </tr>\n",
       "    <tr>\n",
       "      <th>target</th>\n",
       "      <th></th>\n",
       "      <th></th>\n",
       "    </tr>\n",
       "  </thead>\n",
       "  <tbody>\n",
       "    <tr>\n",
       "      <th>0</th>\n",
       "      <td>24</td>\n",
       "      <td>114</td>\n",
       "    </tr>\n",
       "    <tr>\n",
       "      <th>1</th>\n",
       "      <td>72</td>\n",
       "      <td>93</td>\n",
       "    </tr>\n",
       "  </tbody>\n",
       "</table>\n",
       "</div>"
      ],
      "text/plain": [
       "sex      0    1\n",
       "target         \n",
       "0       24  114\n",
       "1       72   93"
      ]
     },
     "execution_count": 11,
     "metadata": {},
     "output_type": "execute_result"
    }
   ],
   "source": [
    "# Compare target column with sex column\n",
    "pd.crosstab(df.target, df.sex)"
   ]
  },
  {
   "cell_type": "code",
   "execution_count": 12,
   "id": "bd069180",
   "metadata": {},
   "outputs": [
    {
     "data": {
      "image/png": "[encoded data removed]",
      "text/plain": [
       "<Figure size 1000x600 with 1 Axes>"
      ]
     },
     "metadata": {},
     "output_type": "display_data"
    }
   ],
   "source": [
    "# create a plot of crosstab\n",
    "pd.crosstab(df.target, df.sex).plot(kind=\"bar\", figsize=(10, 6), color=[\"salmon\", \"lightblue\"])\n",
    "\n",
    "# add some attributes\n",
    "plt.title(\"Heart Disease Frequency for Sex\")\n",
    "plt.xlabel(\"0 = No Disease, 1 = Disease\")\n",
    "plt.ylabel(\"Amount\")\n",
    "plt.legend([\"Female\", \"Male\"])\n",
    "# keep labels on the x-axis vertical\n",
    "plt.xticks(rotation=0);"
   ]
  },
  {
   "cell_type": "markdown",
   "id": "3143ce87",
   "metadata": {},
   "source": [
    "### Age vs Max Heart Rate for Heart Disease"
   ]
  },
  {
   "cell_type": "code",
   "execution_count": 13,
   "id": "50c21802",
   "metadata": {},
   "outputs": [
    {
     "data": {
      "image/png": "[encoded data removed]",
      "text/plain": [
       "<Figure size 1000x600 with 1 Axes>"
      ]
     },
     "metadata": {},
     "output_type": "display_data"
    }
   ],
   "source": [
    "# create figure\n",
    "plt.figure(figsize=(10, 6))\n",
    "\n",
    "# scatter with filter data with target positive - heart disease\n",
    "plt.scatter(df.age[df.target==1], df.thalach[df.target==1], c=\"salmon\")\n",
    "\n",
    "# scatter with target zero - no heart disease\n",
    "plt.scatter(df.age[df.target==0], df.thalach[df.target==0], c=\"darkblue\")\n",
    "\n",
    "# add some description\n",
    "plt.title(\"Heart Disease in function of Age and Max Heart Rate\")\n",
    "plt.xlabel(\"Age\")\n",
    "plt.ylabel(\"Max Heart Rate\")\n",
    "plt.legend([\"Disease\", \"No Disease\"]);"
   ]
  },
  {
   "cell_type": "code",
   "execution_count": 14,
   "id": "bb942bf9",
   "metadata": {},
   "outputs": [
    {
     "data": {
      "image/png": "[encoded data removed]",
      "text/plain": [
       "<Figure size 640x480 with 1 Axes>"
      ]
     },
     "metadata": {},
     "output_type": "display_data"
    }
   ],
   "source": [
    "# distribution of the age column using histogram\n",
    "df.age.plot.hist();"
   ]
  },
  {
   "cell_type": "markdown",
   "id": "de57a28b",
   "metadata": {},
   "source": [
    "### Heart Disease Frequency as per Chest Pain Type\n",
    "\n",
    "* **`cp`** - chest pain type\n",
    "  * 0: Typical angina: chest pain related decrease blood supply to the heart\n",
    "  * 1: Atypical angina: chest pain not related to heart\n",
    "  * 2: Non-anginal pain: typically esophageal spasms (non heart related)\n",
    "  * 3: Asymptomatic: chest pain not showing signs of disease"
   ]
  },
  {
   "cell_type": "code",
   "execution_count": 15,
   "id": "9c370afb",
   "metadata": {},
   "outputs": [
    {
     "data": {
      "text/html": [
       "<div>\n",
       "<style scoped>\n",
       "    .dataframe tbody tr th:only-of-type {\n",
       "        vertical-align: middle;\n",
       "    }\n",
       "\n",
       "    .dataframe tbody tr th {\n",
       "        vertical-align: top;\n",
       "    }\n",
       "\n",
       "    .dataframe thead th {\n",
       "        text-align: right;\n",
       "    }\n",
       "</style>\n",
       "<table border=\"1\" class=\"dataframe\">\n",
       "  <thead>\n",
       "    <tr style=\"text-align: right;\">\n",
       "      <th>target</th>\n",
       "      <th>0</th>\n",
       "      <th>1</th>\n",
       "    </tr>\n",
       "    <tr>\n",
       "      <th>cp</th>\n",
       "      <th></th>\n",
       "      <th></th>\n",
       "    </tr>\n",
       "  </thead>\n",
       "  <tbody>\n",
       "    <tr>\n",
       "      <th>0</th>\n",
       "      <td>104</td>\n",
       "      <td>39</td>\n",
       "    </tr>\n",
       "    <tr>\n",
       "      <th>1</th>\n",
       "      <td>9</td>\n",
       "      <td>41</td>\n",
       "    </tr>\n",
       "    <tr>\n",
       "      <th>2</th>\n",
       "      <td>18</td>\n",
       "      <td>69</td>\n",
       "    </tr>\n",
       "    <tr>\n",
       "      <th>3</th>\n",
       "      <td>7</td>\n",
       "      <td>16</td>\n",
       "    </tr>\n",
       "  </tbody>\n",
       "</table>\n",
       "</div>"
      ],
      "text/plain": [
       "target    0   1\n",
       "cp             \n",
       "0       104  39\n",
       "1         9  41\n",
       "2        18  69\n",
       "3         7  16"
      ]
     },
     "execution_count": 15,
     "metadata": {},
     "output_type": "execute_result"
    }
   ],
   "source": [
    "pd.crosstab(df.cp, df.target)"
   ]
  },
  {
   "cell_type": "code",
   "execution_count": 16,
   "id": "bbf07e7f",
   "metadata": {},
   "outputs": [
    {
     "data": {
      "image/png": "[encoded data removed]",
      "text/plain": [
       "<Figure size 1000x600 with 1 Axes>"
      ]
     },
     "metadata": {},
     "output_type": "display_data"
    }
   ],
   "source": [
    "# crosstab and base plot\n",
    "pd.crosstab(df.cp, df.target).plot(kind=\"bar\",\n",
    "                                   figsize=(10, 6),\n",
    "                                   color=[\"lightblue\", \"salmon\"])\n",
    "\n",
    "# add attributes to the plot\n",
    "plt.title(\"Heart Disease Frequency Per Chest Pain Type\")\n",
    "plt.xlabel(\"Chest Pain Type\")\n",
    "plt.ylabel(\"Amount\")\n",
    "plt.legend([\"No Disease\", \"Disease\"])\n",
    "plt.xticks(rotation=0);"
   ]
  },
  {
   "cell_type": "code",
   "execution_count": 17,
   "id": "f4d13c6d",
   "metadata": {},
   "outputs": [
    {
     "data": {
      "text/html": [
       "<div>\n",
       "<style scoped>\n",
       "    .dataframe tbody tr th:only-of-type {\n",
       "        vertical-align: middle;\n",
       "    }\n",
       "\n",
       "    .dataframe tbody tr th {\n",
       "        vertical-align: top;\n",
       "    }\n",
       "\n",
       "    .dataframe thead th {\n",
       "        text-align: right;\n",
       "    }\n",
       "</style>\n",
       "<table border=\"1\" class=\"dataframe\">\n",
       "  <thead>\n",
       "    <tr style=\"text-align: right;\">\n",
       "      <th></th>\n",
       "      <th>age</th>\n",
       "      <th>sex</th>\n",
       "      <th>cp</th>\n",
       "      <th>trestbps</th>\n",
       "      <th>chol</th>\n",
       "      <th>fbs</th>\n",
       "      <th>restecg</th>\n",
       "      <th>thalach</th>\n",
       "      <th>exang</th>\n",
       "      <th>oldpeak</th>\n",
       "      <th>slope</th>\n",
       "      <th>ca</th>\n",
       "      <th>thal</th>\n",
       "      <th>target</th>\n",
       "    </tr>\n",
       "  </thead>\n",
       "  <tbody>\n",
       "    <tr>\n",
       "      <th>0</th>\n",
       "      <td>63</td>\n",
       "      <td>1</td>\n",
       "      <td>3</td>\n",
       "      <td>145</td>\n",
       "      <td>233</td>\n",
       "      <td>1</td>\n",
       "      <td>0</td>\n",
       "      <td>150</td>\n",
       "      <td>0</td>\n",
       "      <td>2.3</td>\n",
       "      <td>0</td>\n",
       "      <td>0</td>\n",
       "      <td>1</td>\n",
       "      <td>1</td>\n",
       "    </tr>\n",
       "    <tr>\n",
       "      <th>1</th>\n",
       "      <td>37</td>\n",
       "      <td>1</td>\n",
       "      <td>2</td>\n",
       "      <td>130</td>\n",
       "      <td>250</td>\n",
       "      <td>0</td>\n",
       "      <td>1</td>\n",
       "      <td>187</td>\n",
       "      <td>0</td>\n",
       "      <td>3.5</td>\n",
       "      <td>0</td>\n",
       "      <td>0</td>\n",
       "      <td>2</td>\n",
       "      <td>1</td>\n",
       "    </tr>\n",
       "    <tr>\n",
       "      <th>2</th>\n",
       "      <td>41</td>\n",
       "      <td>0</td>\n",
       "      <td>1</td>\n",
       "      <td>130</td>\n",
       "      <td>204</td>\n",
       "      <td>0</td>\n",
       "      <td>0</td>\n",
       "      <td>172</td>\n",
       "      <td>0</td>\n",
       "      <td>1.4</td>\n",
       "      <td>2</td>\n",
       "      <td>0</td>\n",
       "      <td>2</td>\n",
       "      <td>1</td>\n",
       "    </tr>\n",
       "    <tr>\n",
       "      <th>3</th>\n",
       "      <td>56</td>\n",
       "      <td>1</td>\n",
       "      <td>1</td>\n",
       "      <td>120</td>\n",
       "      <td>236</td>\n",
       "      <td>0</td>\n",
       "      <td>1</td>\n",
       "      <td>178</td>\n",
       "      <td>0</td>\n",
       "      <td>0.8</td>\n",
       "      <td>2</td>\n",
       "      <td>0</td>\n",
       "      <td>2</td>\n",
       "      <td>1</td>\n",
       "    </tr>\n",
       "    <tr>\n",
       "      <th>4</th>\n",
       "      <td>57</td>\n",
       "      <td>0</td>\n",
       "      <td>0</td>\n",
       "      <td>120</td>\n",
       "      <td>354</td>\n",
       "      <td>0</td>\n",
       "      <td>1</td>\n",
       "      <td>163</td>\n",
       "      <td>1</td>\n",
       "      <td>0.6</td>\n",
       "      <td>2</td>\n",
       "      <td>0</td>\n",
       "      <td>2</td>\n",
       "      <td>1</td>\n",
       "    </tr>\n",
       "  </tbody>\n",
       "</table>\n",
       "</div>"
      ],
      "text/plain": [
       "   age  sex  cp  trestbps  chol  fbs  restecg  thalach  exang  oldpeak  slope  \\\n",
       "0   63    1   3       145   233    1        0      150      0      2.3      0   \n",
       "1   37    1   2       130   250    0        1      187      0      3.5      0   \n",
       "2   41    0   1       130   204    0        0      172      0      1.4      2   \n",
       "3   56    1   1       120   236    0        1      178      0      0.8      2   \n",
       "4   57    0   0       120   354    0        1      163      1      0.6      2   \n",
       "\n",
       "   ca  thal  target  \n",
       "0   0     1       1  \n",
       "1   0     2       1  \n",
       "2   0     2       1  \n",
       "3   0     2       1  \n",
       "4   0     2       1  "
      ]
     },
     "execution_count": 17,
     "metadata": {},
     "output_type": "execute_result"
    }
   ],
   "source": [
    "df.head()"
   ]
  },
  {
   "cell_type": "markdown",
   "id": "56a63e1a",
   "metadata": {},
   "source": [
    "### Correlation between independent variables\n",
    "\n",
    "***a big table of numbers telling us how related each variable is the other***"
   ]
  },
  {
   "cell_type": "code",
   "execution_count": 18,
   "id": "8f6579b5",
   "metadata": {},
   "outputs": [
    {
     "data": {
      "text/html": [
       "<div>\n",
       "<style scoped>\n",
       "    .dataframe tbody tr th:only-of-type {\n",
       "        vertical-align: middle;\n",
       "    }\n",
       "\n",
       "    .dataframe tbody tr th {\n",
       "        vertical-align: top;\n",
       "    }\n",
       "\n",
       "    .dataframe thead th {\n",
       "        text-align: right;\n",
       "    }\n",
       "</style>\n",
       "<table border=\"1\" class=\"dataframe\">\n",
       "  <thead>\n",
       "    <tr style=\"text-align: right;\">\n",
       "      <th></th>\n",
       "      <th>age</th>\n",
       "      <th>sex</th>\n",
       "      <th>cp</th>\n",
       "      <th>trestbps</th>\n",
       "      <th>chol</th>\n",
       "      <th>fbs</th>\n",
       "      <th>restecg</th>\n",
       "      <th>thalach</th>\n",
       "      <th>exang</th>\n",
       "      <th>oldpeak</th>\n",
       "      <th>slope</th>\n",
       "      <th>ca</th>\n",
       "      <th>thal</th>\n",
       "      <th>target</th>\n",
       "    </tr>\n",
       "  </thead>\n",
       "  <tbody>\n",
       "    <tr>\n",
       "      <th>age</th>\n",
       "      <td>1.000000</td>\n",
       "      <td>-0.098447</td>\n",
       "      <td>-0.068653</td>\n",
       "      <td>0.279351</td>\n",
       "      <td>0.213678</td>\n",
       "      <td>0.121308</td>\n",
       "      <td>-0.116211</td>\n",
       "      <td>-0.398522</td>\n",
       "      <td>0.096801</td>\n",
       "      <td>0.210013</td>\n",
       "      <td>-0.168814</td>\n",
       "      <td>0.276326</td>\n",
       "      <td>0.068001</td>\n",
       "      <td>-0.225439</td>\n",
       "    </tr>\n",
       "    <tr>\n",
       "      <th>sex</th>\n",
       "      <td>-0.098447</td>\n",
       "      <td>1.000000</td>\n",
       "      <td>-0.049353</td>\n",
       "      <td>-0.056769</td>\n",
       "      <td>-0.197912</td>\n",
       "      <td>0.045032</td>\n",
       "      <td>-0.058196</td>\n",
       "      <td>-0.044020</td>\n",
       "      <td>0.141664</td>\n",
       "      <td>0.096093</td>\n",
       "      <td>-0.030711</td>\n",
       "      <td>0.118261</td>\n",
       "      <td>0.210041</td>\n",
       "      <td>-0.280937</td>\n",
       "    </tr>\n",
       "    <tr>\n",
       "      <th>cp</th>\n",
       "      <td>-0.068653</td>\n",
       "      <td>-0.049353</td>\n",
       "      <td>1.000000</td>\n",
       "      <td>0.047608</td>\n",
       "      <td>-0.076904</td>\n",
       "      <td>0.094444</td>\n",
       "      <td>0.044421</td>\n",
       "      <td>0.295762</td>\n",
       "      <td>-0.394280</td>\n",
       "      <td>-0.149230</td>\n",
       "      <td>0.119717</td>\n",
       "      <td>-0.181053</td>\n",
       "      <td>-0.161736</td>\n",
       "      <td>0.433798</td>\n",
       "    </tr>\n",
       "    <tr>\n",
       "      <th>trestbps</th>\n",
       "      <td>0.279351</td>\n",
       "      <td>-0.056769</td>\n",
       "      <td>0.047608</td>\n",
       "      <td>1.000000</td>\n",
       "      <td>0.123174</td>\n",
       "      <td>0.177531</td>\n",
       "      <td>-0.114103</td>\n",
       "      <td>-0.046698</td>\n",
       "      <td>0.067616</td>\n",
       "      <td>0.193216</td>\n",
       "      <td>-0.121475</td>\n",
       "      <td>0.101389</td>\n",
       "      <td>0.062210</td>\n",
       "      <td>-0.144931</td>\n",
       "    </tr>\n",
       "    <tr>\n",
       "      <th>chol</th>\n",
       "      <td>0.213678</td>\n",
       "      <td>-0.197912</td>\n",
       "      <td>-0.076904</td>\n",
       "      <td>0.123174</td>\n",
       "      <td>1.000000</td>\n",
       "      <td>0.013294</td>\n",
       "      <td>-0.151040</td>\n",
       "      <td>-0.009940</td>\n",
       "      <td>0.067023</td>\n",
       "      <td>0.053952</td>\n",
       "      <td>-0.004038</td>\n",
       "      <td>0.070511</td>\n",
       "      <td>0.098803</td>\n",
       "      <td>-0.085239</td>\n",
       "    </tr>\n",
       "    <tr>\n",
       "      <th>fbs</th>\n",
       "      <td>0.121308</td>\n",
       "      <td>0.045032</td>\n",
       "      <td>0.094444</td>\n",
       "      <td>0.177531</td>\n",
       "      <td>0.013294</td>\n",
       "      <td>1.000000</td>\n",
       "      <td>-0.084189</td>\n",
       "      <td>-0.008567</td>\n",
       "      <td>0.025665</td>\n",
       "      <td>0.005747</td>\n",
       "      <td>-0.059894</td>\n",
       "      <td>0.137979</td>\n",
       "      <td>-0.032019</td>\n",
       "      <td>-0.028046</td>\n",
       "    </tr>\n",
       "    <tr>\n",
       "      <th>restecg</th>\n",
       "      <td>-0.116211</td>\n",
       "      <td>-0.058196</td>\n",
       "      <td>0.044421</td>\n",
       "      <td>-0.114103</td>\n",
       "      <td>-0.151040</td>\n",
       "      <td>-0.084189</td>\n",
       "      <td>1.000000</td>\n",
       "      <td>0.044123</td>\n",
       "      <td>-0.070733</td>\n",
       "      <td>-0.058770</td>\n",
       "      <td>0.093045</td>\n",
       "      <td>-0.072042</td>\n",
       "      <td>-0.011981</td>\n",
       "      <td>0.137230</td>\n",
       "    </tr>\n",
       "    <tr>\n",
       "      <th>thalach</th>\n",
       "      <td>-0.398522</td>\n",
       "      <td>-0.044020</td>\n",
       "      <td>0.295762</td>\n",
       "      <td>-0.046698</td>\n",
       "      <td>-0.009940</td>\n",
       "      <td>-0.008567</td>\n",
       "      <td>0.044123</td>\n",
       "      <td>1.000000</td>\n",
       "      <td>-0.378812</td>\n",
       "      <td>-0.344187</td>\n",
       "      <td>0.386784</td>\n",
       "      <td>-0.213177</td>\n",
       "      <td>-0.096439</td>\n",
       "      <td>0.421741</td>\n",
       "    </tr>\n",
       "    <tr>\n",
       "      <th>exang</th>\n",
       "      <td>0.096801</td>\n",
       "      <td>0.141664</td>\n",
       "      <td>-0.394280</td>\n",
       "      <td>0.067616</td>\n",
       "      <td>0.067023</td>\n",
       "      <td>0.025665</td>\n",
       "      <td>-0.070733</td>\n",
       "      <td>-0.378812</td>\n",
       "      <td>1.000000</td>\n",
       "      <td>0.288223</td>\n",
       "      <td>-0.257748</td>\n",
       "      <td>0.115739</td>\n",
       "      <td>0.206754</td>\n",
       "      <td>-0.436757</td>\n",
       "    </tr>\n",
       "    <tr>\n",
       "      <th>oldpeak</th>\n",
       "      <td>0.210013</td>\n",
       "      <td>0.096093</td>\n",
       "      <td>-0.149230</td>\n",
       "      <td>0.193216</td>\n",
       "      <td>0.053952</td>\n",
       "      <td>0.005747</td>\n",
       "      <td>-0.058770</td>\n",
       "      <td>-0.344187</td>\n",
       "      <td>0.288223</td>\n",
       "      <td>1.000000</td>\n",
       "      <td>-0.577537</td>\n",
       "      <td>0.222682</td>\n",
       "      <td>0.210244</td>\n",
       "      <td>-0.430696</td>\n",
       "    </tr>\n",
       "    <tr>\n",
       "      <th>slope</th>\n",
       "      <td>-0.168814</td>\n",
       "      <td>-0.030711</td>\n",
       "      <td>0.119717</td>\n",
       "      <td>-0.121475</td>\n",
       "      <td>-0.004038</td>\n",
       "      <td>-0.059894</td>\n",
       "      <td>0.093045</td>\n",
       "      <td>0.386784</td>\n",
       "      <td>-0.257748</td>\n",
       "      <td>-0.577537</td>\n",
       "      <td>1.000000</td>\n",
       "      <td>-0.080155</td>\n",
       "      <td>-0.104764</td>\n",
       "      <td>0.345877</td>\n",
       "    </tr>\n",
       "    <tr>\n",
       "      <th>ca</th>\n",
       "      <td>0.276326</td>\n",
       "      <td>0.118261</td>\n",
       "      <td>-0.181053</td>\n",
       "      <td>0.101389</td>\n",
       "      <td>0.070511</td>\n",
       "      <td>0.137979</td>\n",
       "      <td>-0.072042</td>\n",
       "      <td>-0.213177</td>\n",
       "      <td>0.115739</td>\n",
       "      <td>0.222682</td>\n",
       "      <td>-0.080155</td>\n",
       "      <td>1.000000</td>\n",
       "      <td>0.151832</td>\n",
       "      <td>-0.391724</td>\n",
       "    </tr>\n",
       "    <tr>\n",
       "      <th>thal</th>\n",
       "      <td>0.068001</td>\n",
       "      <td>0.210041</td>\n",
       "      <td>-0.161736</td>\n",
       "      <td>0.062210</td>\n",
       "      <td>0.098803</td>\n",
       "      <td>-0.032019</td>\n",
       "      <td>-0.011981</td>\n",
       "      <td>-0.096439</td>\n",
       "      <td>0.206754</td>\n",
       "      <td>0.210244</td>\n",
       "      <td>-0.104764</td>\n",
       "      <td>0.151832</td>\n",
       "      <td>1.000000</td>\n",
       "      <td>-0.344029</td>\n",
       "    </tr>\n",
       "    <tr>\n",
       "      <th>target</th>\n",
       "      <td>-0.225439</td>\n",
       "      <td>-0.280937</td>\n",
       "      <td>0.433798</td>\n",
       "      <td>-0.144931</td>\n",
       "      <td>-0.085239</td>\n",
       "      <td>-0.028046</td>\n",
       "      <td>0.137230</td>\n",
       "      <td>0.421741</td>\n",
       "      <td>-0.436757</td>\n",
       "      <td>-0.430696</td>\n",
       "      <td>0.345877</td>\n",
       "      <td>-0.391724</td>\n",
       "      <td>-0.344029</td>\n",
       "      <td>1.000000</td>\n",
       "    </tr>\n",
       "  </tbody>\n",
       "</table>\n",
       "</div>"
      ],
      "text/plain": [
       "               age       sex        cp  trestbps      chol       fbs  \\\n",
       "age       1.000000 -0.098447 -0.068653  0.279351  0.213678  0.121308   \n",
       "sex      -0.098447  1.000000 -0.049353 -0.056769 -0.197912  0.045032   \n",
       "cp       -0.068653 -0.049353  1.000000  0.047608 -0.076904  0.094444   \n",
       "trestbps  0.279351 -0.056769  0.047608  1.000000  0.123174  0.177531   \n",
       "chol      0.213678 -0.197912 -0.076904  0.123174  1.000000  0.013294   \n",
       "fbs       0.121308  0.045032  0.094444  0.177531  0.013294  1.000000   \n",
       "restecg  -0.116211 -0.058196  0.044421 -0.114103 -0.151040 -0.084189   \n",
       "thalach  -0.398522 -0.044020  0.295762 -0.046698 -0.009940 -0.008567   \n",
       "exang     0.096801  0.141664 -0.394280  0.067616  0.067023  0.025665   \n",
       "oldpeak   0.210013  0.096093 -0.149230  0.193216  0.053952  0.005747   \n",
       "slope    -0.168814 -0.030711  0.119717 -0.121475 -0.004038 -0.059894   \n",
       "ca        0.276326  0.118261 -0.181053  0.101389  0.070511  0.137979   \n",
       "thal      0.068001  0.210041 -0.161736  0.062210  0.098803 -0.032019   \n",
       "target   -0.225439 -0.280937  0.433798 -0.144931 -0.085239 -0.028046   \n",
       "\n",
       "           restecg   thalach     exang   oldpeak     slope        ca  \\\n",
       "age      -0.116211 -0.398522  0.096801  0.210013 -0.168814  0.276326   \n",
       "sex      -0.058196 -0.044020  0.141664  0.096093 -0.030711  0.118261   \n",
       "cp        0.044421  0.295762 -0.394280 -0.149230  0.119717 -0.181053   \n",
       "trestbps -0.114103 -0.046698  0.067616  0.193216 -0.121475  0.101389   \n",
       "chol     -0.151040 -0.009940  0.067023  0.053952 -0.004038  0.070511   \n",
       "fbs      -0.084189 -0.008567  0.025665  0.005747 -0.059894  0.137979   \n",
       "restecg   1.000000  0.044123 -0.070733 -0.058770  0.093045 -0.072042   \n",
       "thalach   0.044123  1.000000 -0.378812 -0.344187  0.386784 -0.213177   \n",
       "exang    -0.070733 -0.378812  1.000000  0.288223 -0.257748  0.115739   \n",
       "oldpeak  -0.058770 -0.344187  0.288223  1.000000 -0.577537  0.222682   \n",
       "slope     0.093045  0.386784 -0.257748 -0.577537  1.000000 -0.080155   \n",
       "ca       -0.072042 -0.213177  0.115739  0.222682 -0.080155  1.000000   \n",
       "thal     -0.011981 -0.096439  0.206754  0.210244 -0.104764  0.151832   \n",
       "target    0.137230  0.421741 -0.436757 -0.430696  0.345877 -0.391724   \n",
       "\n",
       "              thal    target  \n",
       "age       0.068001 -0.225439  \n",
       "sex       0.210041 -0.280937  \n",
       "cp       -0.161736  0.433798  \n",
       "trestbps  0.062210 -0.144931  \n",
       "chol      0.098803 -0.085239  \n",
       "fbs      -0.032019 -0.028046  \n",
       "restecg  -0.011981  0.137230  \n",
       "thalach  -0.096439  0.421741  \n",
       "exang     0.206754 -0.436757  \n",
       "oldpeak   0.210244 -0.430696  \n",
       "slope    -0.104764  0.345877  \n",
       "ca        0.151832 -0.391724  \n",
       "thal      1.000000 -0.344029  \n",
       "target   -0.344029  1.000000  "
      ]
     },
     "execution_count": 18,
     "metadata": {},
     "output_type": "execute_result"
    }
   ],
   "source": [
    "df.corr()"
   ]
  },
  {
   "cell_type": "code",
   "execution_count": 19,
   "id": "e2f336b4",
   "metadata": {
    "scrolled": false
   },
   "outputs": [
    {
     "data": {
      "image/png": "[encoded data removed]",
      "text/plain": [
       "<Figure size 1500x2000 with 2 Axes>"
      ]
     },
     "metadata": {},
     "output_type": "display_data"
    }
   ],
   "source": [
    "# correlation matrix with Heat Map\n",
    "corr_matrix = df.corr()\n",
    "fig, ax = plt.subplots(figsize=(15, 20))\n",
    "ax = sns.heatmap(corr_matrix,\n",
    "                 annot=True,\n",
    "                 linewidths=0.5,\n",
    "                 fmt=\".2f\",\n",
    "                 cmap=\"YlGnBu\");"
   ]
  },
  {
   "cell_type": "markdown",
   "id": "65c8affe",
   "metadata": {},
   "source": [
    "**`Correlation`:**\n",
    "  * `Negative correlation`: is when two variables move opposite one another so that when one variable rises, the other falls.\n",
    "  * `Positive correlation`: exists when two variables operate in unison so that when one variable rises or falls, the other does the same.\n",
    "  \n",
    "* ***`Investigation of column exang`***: It is negative correlation so, if someone gets chest pain during exercise `exang=1`, their chance of having heart disease `target=0` goes down."
   ]
  },
  {
   "cell_type": "markdown",
   "id": "e019c3fe",
   "metadata": {},
   "source": [
    "### Modeling"
   ]
  },
  {
   "cell_type": "code",
   "execution_count": 20,
   "id": "dd4d842b",
   "metadata": {},
   "outputs": [
    {
     "data": {
      "text/html": [
       "<div>\n",
       "<style scoped>\n",
       "    .dataframe tbody tr th:only-of-type {\n",
       "        vertical-align: middle;\n",
       "    }\n",
       "\n",
       "    .dataframe tbody tr th {\n",
       "        vertical-align: top;\n",
       "    }\n",
       "\n",
       "    .dataframe thead th {\n",
       "        text-align: right;\n",
       "    }\n",
       "</style>\n",
       "<table border=\"1\" class=\"dataframe\">\n",
       "  <thead>\n",
       "    <tr style=\"text-align: right;\">\n",
       "      <th></th>\n",
       "      <th>age</th>\n",
       "      <th>sex</th>\n",
       "      <th>cp</th>\n",
       "      <th>trestbps</th>\n",
       "      <th>chol</th>\n",
       "      <th>fbs</th>\n",
       "      <th>restecg</th>\n",
       "      <th>thalach</th>\n",
       "      <th>exang</th>\n",
       "      <th>oldpeak</th>\n",
       "      <th>slope</th>\n",
       "      <th>ca</th>\n",
       "      <th>thal</th>\n",
       "      <th>target</th>\n",
       "    </tr>\n",
       "  </thead>\n",
       "  <tbody>\n",
       "    <tr>\n",
       "      <th>0</th>\n",
       "      <td>63</td>\n",
       "      <td>1</td>\n",
       "      <td>3</td>\n",
       "      <td>145</td>\n",
       "      <td>233</td>\n",
       "      <td>1</td>\n",
       "      <td>0</td>\n",
       "      <td>150</td>\n",
       "      <td>0</td>\n",
       "      <td>2.3</td>\n",
       "      <td>0</td>\n",
       "      <td>0</td>\n",
       "      <td>1</td>\n",
       "      <td>1</td>\n",
       "    </tr>\n",
       "    <tr>\n",
       "      <th>1</th>\n",
       "      <td>37</td>\n",
       "      <td>1</td>\n",
       "      <td>2</td>\n",
       "      <td>130</td>\n",
       "      <td>250</td>\n",
       "      <td>0</td>\n",
       "      <td>1</td>\n",
       "      <td>187</td>\n",
       "      <td>0</td>\n",
       "      <td>3.5</td>\n",
       "      <td>0</td>\n",
       "      <td>0</td>\n",
       "      <td>2</td>\n",
       "      <td>1</td>\n",
       "    </tr>\n",
       "    <tr>\n",
       "      <th>2</th>\n",
       "      <td>41</td>\n",
       "      <td>0</td>\n",
       "      <td>1</td>\n",
       "      <td>130</td>\n",
       "      <td>204</td>\n",
       "      <td>0</td>\n",
       "      <td>0</td>\n",
       "      <td>172</td>\n",
       "      <td>0</td>\n",
       "      <td>1.4</td>\n",
       "      <td>2</td>\n",
       "      <td>0</td>\n",
       "      <td>2</td>\n",
       "      <td>1</td>\n",
       "    </tr>\n",
       "    <tr>\n",
       "      <th>3</th>\n",
       "      <td>56</td>\n",
       "      <td>1</td>\n",
       "      <td>1</td>\n",
       "      <td>120</td>\n",
       "      <td>236</td>\n",
       "      <td>0</td>\n",
       "      <td>1</td>\n",
       "      <td>178</td>\n",
       "      <td>0</td>\n",
       "      <td>0.8</td>\n",
       "      <td>2</td>\n",
       "      <td>0</td>\n",
       "      <td>2</td>\n",
       "      <td>1</td>\n",
       "    </tr>\n",
       "    <tr>\n",
       "      <th>4</th>\n",
       "      <td>57</td>\n",
       "      <td>0</td>\n",
       "      <td>0</td>\n",
       "      <td>120</td>\n",
       "      <td>354</td>\n",
       "      <td>0</td>\n",
       "      <td>1</td>\n",
       "      <td>163</td>\n",
       "      <td>1</td>\n",
       "      <td>0.6</td>\n",
       "      <td>2</td>\n",
       "      <td>0</td>\n",
       "      <td>2</td>\n",
       "      <td>1</td>\n",
       "    </tr>\n",
       "  </tbody>\n",
       "</table>\n",
       "</div>"
      ],
      "text/plain": [
       "   age  sex  cp  trestbps  chol  fbs  restecg  thalach  exang  oldpeak  slope  \\\n",
       "0   63    1   3       145   233    1        0      150      0      2.3      0   \n",
       "1   37    1   2       130   250    0        1      187      0      3.5      0   \n",
       "2   41    0   1       130   204    0        0      172      0      1.4      2   \n",
       "3   56    1   1       120   236    0        1      178      0      0.8      2   \n",
       "4   57    0   0       120   354    0        1      163      1      0.6      2   \n",
       "\n",
       "   ca  thal  target  \n",
       "0   0     1       1  \n",
       "1   0     2       1  \n",
       "2   0     2       1  \n",
       "3   0     2       1  \n",
       "4   0     2       1  "
      ]
     },
     "execution_count": 20,
     "metadata": {},
     "output_type": "execute_result"
    }
   ],
   "source": [
    "df.head()"
   ]
  },
  {
   "cell_type": "markdown",
   "id": "70d1a2b7",
   "metadata": {},
   "source": [
    "#### Prepare data for applying Machine Learning algorithm"
   ]
  },
  {
   "cell_type": "code",
   "execution_count": 21,
   "id": "c410652c",
   "metadata": {},
   "outputs": [],
   "source": [
    "# split data into X and y\n",
    "X = df.drop(\"target\", axis=1)\n",
    "y = df[\"target\"]"
   ]
  },
  {
   "cell_type": "code",
   "execution_count": 22,
   "id": "70cef7e7",
   "metadata": {},
   "outputs": [],
   "source": [
    "# Random seed for reproducibility\n",
    "np.random.seed(42)\n",
    "\n",
    "# split into train and test set\n",
    "X_train, X_test, y_train, y_test = train_test_split(X, y, test_size=0.25)"
   ]
  },
  {
   "cell_type": "markdown",
   "id": "602713df",
   "metadata": {},
   "source": [
    "**`Notes`**: \n",
    "* Data splitted as training and test to build machine learning model.\n",
    "* Find pattern `train data`.\n",
    "* Use pattern `test data`.\n",
    "\n",
    "#### Model choices\n",
    "\n",
    "1. Logistic Regression - `Logistic Regression()`\n",
    "\n",
    "> Logistic regression, despite its name, is a linear model for classification rather than regression. Logistic regression is also known in the literature as logit regression, maximum-entropy classification (MaxEnt) or the log-linear classifier. In this model, the probabilities describing the possible outcomes of a single trial are modeled using a logistic function.\n",
    "\n",
    "2. K-Nearest Neighbors - `KNeighboursClassifier()`\n",
    "3. RandomForest - `RandomForestClassifier()`\n",
    "4. CatBoost - `CatBoostClassifier()`\n",
    "5. XgBoost - `XGBClassifier()`\n",
    "6. Naive Bayes - `GaussianNB()`\n",
    "7. Support Vector Machines - `SVC()`\n",
    "8. Stochastic Gradient Descent - `SGDClassifier()`"
   ]
  },
  {
   "cell_type": "code",
   "execution_count": 23,
   "id": "9821519f",
   "metadata": {},
   "outputs": [],
   "source": [
    "# models in a dictionary\n",
    "models = {\"Logistic Regression        \": LogisticRegression(max_iter=1000),\n",
    "          \"KNN                        \": KNeighborsClassifier(),\n",
    "          \"Random Forest              \": RandomForestClassifier(),\n",
    "          \"CatBoost                   \": CatBoostClassifier(),\n",
    "          \"XgBoost                    \": XGBClassifier(),\n",
    "          \"Naive Bayes                \": GaussianNB(),\n",
    "          \"Support Vector Machines    \": SVC(),\n",
    "          \"Stochastic Gradient Descent\": SGDClassifier()}\n",
    "\n",
    "# function to fit and score models\n",
    "def fit_and_score(models, X_train, X_test, y_train, y_test):\n",
    "    \"\"\"\n",
    "    Fits and evaluates given machine learning models.\n",
    "    models: dictionary of different Scikit-Learn machine learning models\n",
    "    X_train: training data (no labels)\n",
    "    X_test: testing data (no labels)\n",
    "    y_train: labels assosciated with training data\n",
    "    y_test: labels assosciated with test data\n",
    "    \"\"\"\n",
    "    # Random seed for reproducible results\n",
    "    np.random.seed(42)\n",
    "    # make a list to keep model scores\n",
    "    model_scores = {}\n",
    "    # loop through models\n",
    "    for name, model in models.items():\n",
    "        # fit the model to the data\n",
    "        model.fit(X_train, y_train)\n",
    "        # evaluate the model and append its score to model_scores\n",
    "        model_scores[name] = model.score(X_test, y_test)\n",
    "    return model_scores"
   ]
  },
  {
   "cell_type": "code",
   "execution_count": 24,
   "id": "abf52d90",
   "metadata": {
    "scrolled": true
   },
   "outputs": [
    {
     "name": "stdout",
     "output_type": "stream",
     "text": [
      "Learning rate set to 0.00547\n",
      "0:\tlearn: 0.6882407\ttotal: 133ms\tremaining: 2m 12s\n",
      "1:\tlearn: 0.6840606\ttotal: 134ms\tremaining: 1m 7s\n",
      "2:\tlearn: 0.6801035\ttotal: 136ms\tremaining: 45s\n",
      "3:\tlearn: 0.6758062\ttotal: 137ms\tremaining: 34s\n",
      "4:\tlearn: 0.6717442\ttotal: 138ms\tremaining: 27.4s\n",
      "5:\tlearn: 0.6671794\ttotal: 139ms\tremaining: 23s\n",
      "6:\tlearn: 0.6641249\ttotal: 140ms\tremaining: 19.9s\n",
      "7:\tlearn: 0.6603131\ttotal: 141ms\tremaining: 17.5s\n",
      "8:\tlearn: 0.6561870\ttotal: 142ms\tremaining: 15.6s\n",
      "9:\tlearn: 0.6524910\ttotal: 143ms\tremaining: 14.2s\n",
      "10:\tlearn: 0.6480964\ttotal: 144ms\tremaining: 12.9s\n",
      "11:\tlearn: 0.6445001\ttotal: 145ms\tremaining: 11.9s\n",
      "12:\tlearn: 0.6405990\ttotal: 146ms\tremaining: 11.1s\n",
      "13:\tlearn: 0.6369423\ttotal: 147ms\tremaining: 10.4s\n",
      "14:\tlearn: 0.6328240\ttotal: 148ms\tremaining: 9.72s\n",
      "15:\tlearn: 0.6285960\ttotal: 149ms\tremaining: 9.17s\n",
      "16:\tlearn: 0.6241533\ttotal: 150ms\tremaining: 8.68s\n",
      "17:\tlearn: 0.6199704\ttotal: 151ms\tremaining: 8.25s\n",
      "18:\tlearn: 0.6160648\ttotal: 152ms\tremaining: 7.86s\n",
      "19:\tlearn: 0.6119482\ttotal: 153ms\tremaining: 7.51s\n",
      "20:\tlearn: 0.6091846\ttotal: 154ms\tremaining: 7.2s\n",
      "21:\tlearn: 0.6056342\ttotal: 155ms\tremaining: 6.9s\n",
      "22:\tlearn: 0.6017260\ttotal: 156ms\tremaining: 6.63s\n",
      "23:\tlearn: 0.5986772\ttotal: 157ms\tremaining: 6.39s\n",
      "24:\tlearn: 0.5958222\ttotal: 158ms\tremaining: 6.16s\n",
      "25:\tlearn: 0.5934535\ttotal: 159ms\tremaining: 5.96s\n",
      "26:\tlearn: 0.5907329\ttotal: 160ms\tremaining: 5.77s\n",
      "27:\tlearn: 0.5889039\ttotal: 161ms\tremaining: 5.59s\n",
      "28:\tlearn: 0.5855544\ttotal: 162ms\tremaining: 5.42s\n",
      "29:\tlearn: 0.5824885\ttotal: 163ms\tremaining: 5.27s\n",
      "30:\tlearn: 0.5789959\ttotal: 164ms\tremaining: 5.13s\n",
      "31:\tlearn: 0.5759709\ttotal: 165ms\tremaining: 4.99s\n",
      "32:\tlearn: 0.5732851\ttotal: 166ms\tremaining: 4.86s\n",
      "33:\tlearn: 0.5707401\ttotal: 167ms\tremaining: 4.74s\n",
      "34:\tlearn: 0.5673375\ttotal: 168ms\tremaining: 4.63s\n",
      "35:\tlearn: 0.5642964\ttotal: 169ms\tremaining: 4.52s\n",
      "36:\tlearn: 0.5611795\ttotal: 170ms\tremaining: 4.42s\n",
      "37:\tlearn: 0.5582440\ttotal: 171ms\tremaining: 4.32s\n",
      "38:\tlearn: 0.5554546\ttotal: 172ms\tremaining: 4.23s\n",
      "39:\tlearn: 0.5518469\ttotal: 173ms\tremaining: 4.14s\n",
      "40:\tlearn: 0.5484554\ttotal: 174ms\tremaining: 4.06s\n",
      "41:\tlearn: 0.5449663\ttotal: 175ms\tremaining: 3.98s\n",
      "42:\tlearn: 0.5416633\ttotal: 176ms\tremaining: 3.91s\n",
      "43:\tlearn: 0.5389390\ttotal: 177ms\tremaining: 3.84s\n",
      "44:\tlearn: 0.5360423\ttotal: 178ms\tremaining: 3.77s\n",
      "45:\tlearn: 0.5331084\ttotal: 179ms\tremaining: 3.71s\n",
      "46:\tlearn: 0.5305650\ttotal: 180ms\tremaining: 3.64s\n",
      "47:\tlearn: 0.5284380\ttotal: 181ms\tremaining: 3.58s\n",
      "48:\tlearn: 0.5260462\ttotal: 182ms\tremaining: 3.52s\n",
      "49:\tlearn: 0.5233228\ttotal: 183ms\tremaining: 3.47s\n",
      "50:\tlearn: 0.5216262\ttotal: 184ms\tremaining: 3.41s\n",
      "51:\tlearn: 0.5188130\ttotal: 184ms\tremaining: 3.36s\n",
      "52:\tlearn: 0.5163564\ttotal: 185ms\tremaining: 3.31s\n",
      "53:\tlearn: 0.5136113\ttotal: 186ms\tremaining: 3.26s\n",
      "54:\tlearn: 0.5113044\ttotal: 187ms\tremaining: 3.22s\n",
      "55:\tlearn: 0.5085093\ttotal: 188ms\tremaining: 3.17s\n",
      "56:\tlearn: 0.5061818\ttotal: 189ms\tremaining: 3.13s\n",
      "57:\tlearn: 0.5039395\ttotal: 190ms\tremaining: 3.09s\n",
      "58:\tlearn: 0.5016783\ttotal: 192ms\tremaining: 3.05s\n",
      "59:\tlearn: 0.4992876\ttotal: 193ms\tremaining: 3.02s\n",
      "60:\tlearn: 0.4973397\ttotal: 193ms\tremaining: 2.98s\n",
      "61:\tlearn: 0.4951454\ttotal: 195ms\tremaining: 2.94s\n",
      "62:\tlearn: 0.4924815\ttotal: 196ms\tremaining: 2.91s\n",
      "63:\tlearn: 0.4901191\ttotal: 197ms\tremaining: 2.88s\n",
      "64:\tlearn: 0.4874945\ttotal: 198ms\tremaining: 2.84s\n",
      "65:\tlearn: 0.4852636\ttotal: 199ms\tremaining: 2.81s\n",
      "66:\tlearn: 0.4829626\ttotal: 199ms\tremaining: 2.78s\n",
      "67:\tlearn: 0.4810711\ttotal: 200ms\tremaining: 2.74s\n",
      "68:\tlearn: 0.4785053\ttotal: 201ms\tremaining: 2.71s\n",
      "69:\tlearn: 0.4766565\ttotal: 202ms\tremaining: 2.68s\n",
      "70:\tlearn: 0.4747354\ttotal: 203ms\tremaining: 2.66s\n",
      "71:\tlearn: 0.4734012\ttotal: 204ms\tremaining: 2.63s\n",
      "72:\tlearn: 0.4710619\ttotal: 205ms\tremaining: 2.61s\n",
      "73:\tlearn: 0.4686966\ttotal: 206ms\tremaining: 2.58s\n",
      "74:\tlearn: 0.4673246\ttotal: 207ms\tremaining: 2.56s\n",
      "75:\tlearn: 0.4655149\ttotal: 208ms\tremaining: 2.53s\n",
      "76:\tlearn: 0.4647302\ttotal: 209ms\tremaining: 2.5s\n",
      "77:\tlearn: 0.4623826\ttotal: 210ms\tremaining: 2.48s\n",
      "78:\tlearn: 0.4609591\ttotal: 211ms\tremaining: 2.46s\n",
      "79:\tlearn: 0.4591735\ttotal: 211ms\tremaining: 2.43s\n",
      "80:\tlearn: 0.4575741\ttotal: 213ms\tremaining: 2.41s\n",
      "81:\tlearn: 0.4557142\ttotal: 214ms\tremaining: 2.39s\n",
      "82:\tlearn: 0.4541098\ttotal: 215ms\tremaining: 2.37s\n",
      "83:\tlearn: 0.4525284\ttotal: 216ms\tremaining: 2.35s\n",
      "84:\tlearn: 0.4505224\ttotal: 217ms\tremaining: 2.33s\n",
      "85:\tlearn: 0.4493279\ttotal: 218ms\tremaining: 2.32s\n",
      "86:\tlearn: 0.4474542\ttotal: 219ms\tremaining: 2.3s\n",
      "87:\tlearn: 0.4458925\ttotal: 220ms\tremaining: 2.28s\n",
      "88:\tlearn: 0.4444264\ttotal: 221ms\tremaining: 2.27s\n",
      "89:\tlearn: 0.4428037\ttotal: 222ms\tremaining: 2.25s\n",
      "90:\tlearn: 0.4405070\ttotal: 223ms\tremaining: 2.23s\n",
      "91:\tlearn: 0.4385476\ttotal: 225ms\tremaining: 2.22s\n",
      "92:\tlearn: 0.4373902\ttotal: 226ms\tremaining: 2.2s\n",
      "93:\tlearn: 0.4360345\ttotal: 227ms\tremaining: 2.19s\n",
      "94:\tlearn: 0.4342312\ttotal: 228ms\tremaining: 2.17s\n",
      "95:\tlearn: 0.4323858\ttotal: 229ms\tremaining: 2.15s\n",
      "96:\tlearn: 0.4305086\ttotal: 230ms\tremaining: 2.14s\n",
      "97:\tlearn: 0.4287301\ttotal: 231ms\tremaining: 2.13s\n",
      "98:\tlearn: 0.4273178\ttotal: 232ms\tremaining: 2.11s\n",
      "99:\tlearn: 0.4258005\ttotal: 233ms\tremaining: 2.1s\n",
      "100:\tlearn: 0.4240275\ttotal: 234ms\tremaining: 2.08s\n",
      "101:\tlearn: 0.4219462\ttotal: 235ms\tremaining: 2.07s\n",
      "102:\tlearn: 0.4201885\ttotal: 236ms\tremaining: 2.06s\n",
      "103:\tlearn: 0.4186908\ttotal: 238ms\tremaining: 2.05s\n",
      "104:\tlearn: 0.4171350\ttotal: 239ms\tremaining: 2.03s\n",
      "105:\tlearn: 0.4152845\ttotal: 239ms\tremaining: 2.02s\n",
      "106:\tlearn: 0.4134103\ttotal: 240ms\tremaining: 2.01s\n",
      "107:\tlearn: 0.4119793\ttotal: 241ms\tremaining: 1.99s\n",
      "108:\tlearn: 0.4110005\ttotal: 242ms\tremaining: 1.98s\n",
      "109:\tlearn: 0.4095421\ttotal: 243ms\tremaining: 1.97s\n",
      "110:\tlearn: 0.4091581\ttotal: 244ms\tremaining: 1.95s\n",
      "111:\tlearn: 0.4077457\ttotal: 245ms\tremaining: 1.94s\n",
      "112:\tlearn: 0.4060485\ttotal: 246ms\tremaining: 1.93s\n",
      "113:\tlearn: 0.4043267\ttotal: 247ms\tremaining: 1.92s\n",
      "114:\tlearn: 0.4031578\ttotal: 248ms\tremaining: 1.91s\n",
      "115:\tlearn: 0.4013534\ttotal: 249ms\tremaining: 1.9s\n",
      "116:\tlearn: 0.4001461\ttotal: 250ms\tremaining: 1.89s\n",
      "117:\tlearn: 0.3984926\ttotal: 251ms\tremaining: 1.88s\n",
      "118:\tlearn: 0.3975507\ttotal: 252ms\tremaining: 1.87s\n",
      "119:\tlearn: 0.3960873\ttotal: 253ms\tremaining: 1.86s\n",
      "120:\tlearn: 0.3943824\ttotal: 254ms\tremaining: 1.85s\n",
      "121:\tlearn: 0.3923717\ttotal: 255ms\tremaining: 1.84s\n",
      "122:\tlearn: 0.3908237\ttotal: 256ms\tremaining: 1.83s\n",
      "123:\tlearn: 0.3891929\ttotal: 258ms\tremaining: 1.82s\n",
      "124:\tlearn: 0.3882075\ttotal: 259ms\tremaining: 1.81s\n",
      "125:\tlearn: 0.3865175\ttotal: 260ms\tremaining: 1.8s\n",
      "126:\tlearn: 0.3852798\ttotal: 261ms\tremaining: 1.79s\n",
      "127:\tlearn: 0.3837753\ttotal: 262ms\tremaining: 1.78s\n",
      "128:\tlearn: 0.3826970\ttotal: 263ms\tremaining: 1.77s\n",
      "129:\tlearn: 0.3810054\ttotal: 264ms\tremaining: 1.76s\n",
      "130:\tlearn: 0.3797467\ttotal: 265ms\tremaining: 1.76s\n",
      "131:\tlearn: 0.3785627\ttotal: 266ms\tremaining: 1.75s\n",
      "132:\tlearn: 0.3771860\ttotal: 267ms\tremaining: 1.74s\n",
      "133:\tlearn: 0.3759811\ttotal: 268ms\tremaining: 1.73s\n",
      "134:\tlearn: 0.3750305\ttotal: 269ms\tremaining: 1.72s\n",
      "135:\tlearn: 0.3742406\ttotal: 270ms\tremaining: 1.71s\n",
      "136:\tlearn: 0.3727157\ttotal: 270ms\tremaining: 1.7s\n",
      "137:\tlearn: 0.3714850\ttotal: 271ms\tremaining: 1.7s\n",
      "138:\tlearn: 0.3705490\ttotal: 272ms\tremaining: 1.69s\n",
      "139:\tlearn: 0.3695522\ttotal: 273ms\tremaining: 1.68s\n",
      "140:\tlearn: 0.3691544\ttotal: 274ms\tremaining: 1.67s\n",
      "141:\tlearn: 0.3678832\ttotal: 275ms\tremaining: 1.66s\n",
      "142:\tlearn: 0.3664736\ttotal: 276ms\tremaining: 1.65s\n",
      "143:\tlearn: 0.3655447\ttotal: 277ms\tremaining: 1.65s\n",
      "144:\tlearn: 0.3652715\ttotal: 277ms\tremaining: 1.64s\n",
      "145:\tlearn: 0.3642711\ttotal: 278ms\tremaining: 1.63s\n",
      "146:\tlearn: 0.3628541\ttotal: 279ms\tremaining: 1.62s\n",
      "147:\tlearn: 0.3611194\ttotal: 280ms\tremaining: 1.61s\n",
      "148:\tlearn: 0.3606917\ttotal: 281ms\tremaining: 1.6s\n",
      "149:\tlearn: 0.3592200\ttotal: 282ms\tremaining: 1.6s\n",
      "150:\tlearn: 0.3579208\ttotal: 283ms\tremaining: 1.59s\n",
      "151:\tlearn: 0.3570310\ttotal: 284ms\tremaining: 1.58s\n",
      "152:\tlearn: 0.3563421\ttotal: 285ms\tremaining: 1.58s\n",
      "153:\tlearn: 0.3554183\ttotal: 286ms\tremaining: 1.57s\n",
      "154:\tlearn: 0.3542719\ttotal: 287ms\tremaining: 1.56s\n",
      "155:\tlearn: 0.3534611\ttotal: 288ms\tremaining: 1.56s\n",
      "156:\tlearn: 0.3525917\ttotal: 289ms\tremaining: 1.55s\n",
      "157:\tlearn: 0.3515704\ttotal: 290ms\tremaining: 1.54s\n",
      "158:\tlearn: 0.3504063\ttotal: 291ms\tremaining: 1.54s\n",
      "159:\tlearn: 0.3495841\ttotal: 292ms\tremaining: 1.53s\n",
      "160:\tlearn: 0.3489807\ttotal: 293ms\tremaining: 1.52s\n",
      "161:\tlearn: 0.3482650\ttotal: 293ms\tremaining: 1.52s\n",
      "162:\tlearn: 0.3472010\ttotal: 294ms\tremaining: 1.51s\n",
      "163:\tlearn: 0.3461841\ttotal: 295ms\tremaining: 1.5s\n",
      "164:\tlearn: 0.3447567\ttotal: 296ms\tremaining: 1.5s\n",
      "165:\tlearn: 0.3439987\ttotal: 297ms\tremaining: 1.49s\n",
      "166:\tlearn: 0.3427842\ttotal: 298ms\tremaining: 1.49s\n",
      "167:\tlearn: 0.3415446\ttotal: 299ms\tremaining: 1.48s\n",
      "168:\tlearn: 0.3406774\ttotal: 300ms\tremaining: 1.47s\n",
      "169:\tlearn: 0.3396303\ttotal: 301ms\tremaining: 1.47s\n",
      "170:\tlearn: 0.3382839\ttotal: 302ms\tremaining: 1.46s\n",
      "171:\tlearn: 0.3373326\ttotal: 303ms\tremaining: 1.46s\n",
      "172:\tlearn: 0.3364031\ttotal: 304ms\tremaining: 1.45s\n",
      "173:\tlearn: 0.3351737\ttotal: 305ms\tremaining: 1.45s\n",
      "174:\tlearn: 0.3346494\ttotal: 305ms\tremaining: 1.44s\n",
      "175:\tlearn: 0.3336044\ttotal: 306ms\tremaining: 1.43s\n",
      "176:\tlearn: 0.3334300\ttotal: 307ms\tremaining: 1.43s\n",
      "177:\tlearn: 0.3323621\ttotal: 308ms\tremaining: 1.42s\n",
      "178:\tlearn: 0.3312194\ttotal: 309ms\tremaining: 1.42s\n",
      "179:\tlearn: 0.3303671\ttotal: 310ms\tremaining: 1.41s\n",
      "180:\tlearn: 0.3293965\ttotal: 311ms\tremaining: 1.41s\n",
      "181:\tlearn: 0.3285221\ttotal: 312ms\tremaining: 1.4s\n",
      "182:\tlearn: 0.3274913\ttotal: 313ms\tremaining: 1.4s\n",
      "183:\tlearn: 0.3270050\ttotal: 314ms\tremaining: 1.39s\n",
      "184:\tlearn: 0.3260970\ttotal: 315ms\tremaining: 1.39s\n",
      "185:\tlearn: 0.3254308\ttotal: 316ms\tremaining: 1.38s\n",
      "186:\tlearn: 0.3244141\ttotal: 317ms\tremaining: 1.38s\n",
      "187:\tlearn: 0.3236558\ttotal: 317ms\tremaining: 1.37s\n",
      "188:\tlearn: 0.3227974\ttotal: 318ms\tremaining: 1.37s\n",
      "189:\tlearn: 0.3222908\ttotal: 319ms\tremaining: 1.36s\n",
      "190:\tlearn: 0.3216597\ttotal: 320ms\tremaining: 1.36s\n",
      "191:\tlearn: 0.3206312\ttotal: 321ms\tremaining: 1.35s\n",
      "192:\tlearn: 0.3197157\ttotal: 322ms\tremaining: 1.35s\n",
      "193:\tlearn: 0.3186452\ttotal: 323ms\tremaining: 1.34s\n",
      "194:\tlearn: 0.3177780\ttotal: 324ms\tremaining: 1.34s\n",
      "195:\tlearn: 0.3171300\ttotal: 325ms\tremaining: 1.33s\n",
      "196:\tlearn: 0.3168206\ttotal: 325ms\tremaining: 1.33s\n",
      "197:\tlearn: 0.3158920\ttotal: 326ms\tremaining: 1.32s\n",
      "198:\tlearn: 0.3148919\ttotal: 327ms\tremaining: 1.32s\n",
      "199:\tlearn: 0.3141384\ttotal: 328ms\tremaining: 1.31s\n",
      "200:\tlearn: 0.3131444\ttotal: 329ms\tremaining: 1.31s\n",
      "201:\tlearn: 0.3126346\ttotal: 330ms\tremaining: 1.3s\n",
      "202:\tlearn: 0.3118400\ttotal: 331ms\tremaining: 1.3s\n",
      "203:\tlearn: 0.3108116\ttotal: 332ms\tremaining: 1.29s\n",
      "204:\tlearn: 0.3099025\ttotal: 333ms\tremaining: 1.29s\n",
      "205:\tlearn: 0.3092816\ttotal: 334ms\tremaining: 1.29s\n",
      "206:\tlearn: 0.3083750\ttotal: 335ms\tremaining: 1.28s\n",
      "207:\tlearn: 0.3077487\ttotal: 336ms\tremaining: 1.28s\n",
      "208:\tlearn: 0.3074046\ttotal: 337ms\tremaining: 1.27s\n",
      "209:\tlearn: 0.3064980\ttotal: 338ms\tremaining: 1.27s\n",
      "210:\tlearn: 0.3057344\ttotal: 339ms\tremaining: 1.27s\n",
      "211:\tlearn: 0.3047407\ttotal: 340ms\tremaining: 1.26s\n",
      "212:\tlearn: 0.3039013\ttotal: 341ms\tremaining: 1.26s\n",
      "213:\tlearn: 0.3034872\ttotal: 342ms\tremaining: 1.26s\n",
      "214:\tlearn: 0.3033045\ttotal: 343ms\tremaining: 1.25s\n",
      "215:\tlearn: 0.3029990\ttotal: 344ms\tremaining: 1.25s\n",
      "216:\tlearn: 0.3022683\ttotal: 345ms\tremaining: 1.24s\n",
      "217:\tlearn: 0.3016928\ttotal: 346ms\tremaining: 1.24s\n",
      "218:\tlearn: 0.3011289\ttotal: 347ms\tremaining: 1.24s\n",
      "219:\tlearn: 0.3002668\ttotal: 348ms\tremaining: 1.23s\n",
      "220:\tlearn: 0.2995523\ttotal: 349ms\tremaining: 1.23s\n",
      "221:\tlearn: 0.2987864\ttotal: 350ms\tremaining: 1.23s\n",
      "222:\tlearn: 0.2981469\ttotal: 351ms\tremaining: 1.22s\n",
      "223:\tlearn: 0.2973354\ttotal: 352ms\tremaining: 1.22s\n",
      "224:\tlearn: 0.2968415\ttotal: 353ms\tremaining: 1.21s\n",
      "225:\tlearn: 0.2961961\ttotal: 354ms\tremaining: 1.21s\n",
      "226:\tlearn: 0.2956530\ttotal: 355ms\tremaining: 1.21s\n",
      "227:\tlearn: 0.2947977\ttotal: 356ms\tremaining: 1.2s\n",
      "228:\tlearn: 0.2939949\ttotal: 357ms\tremaining: 1.2s\n",
      "229:\tlearn: 0.2930425\ttotal: 358ms\tremaining: 1.2s\n",
      "230:\tlearn: 0.2926206\ttotal: 359ms\tremaining: 1.2s\n",
      "231:\tlearn: 0.2918069\ttotal: 360ms\tremaining: 1.19s\n",
      "232:\tlearn: 0.2912525\ttotal: 361ms\tremaining: 1.19s\n",
      "233:\tlearn: 0.2904814\ttotal: 362ms\tremaining: 1.19s\n",
      "234:\tlearn: 0.2898969\ttotal: 363ms\tremaining: 1.18s\n",
      "235:\tlearn: 0.2891028\ttotal: 364ms\tremaining: 1.18s\n",
      "236:\tlearn: 0.2882513\ttotal: 365ms\tremaining: 1.18s\n",
      "237:\tlearn: 0.2877342\ttotal: 366ms\tremaining: 1.17s\n",
      "238:\tlearn: 0.2869685\ttotal: 367ms\tremaining: 1.17s\n",
      "239:\tlearn: 0.2862184\ttotal: 368ms\tremaining: 1.17s\n",
      "240:\tlearn: 0.2855897\ttotal: 369ms\tremaining: 1.16s\n",
      "241:\tlearn: 0.2849338\ttotal: 370ms\tremaining: 1.16s\n",
      "242:\tlearn: 0.2841919\ttotal: 371ms\tremaining: 1.16s\n",
      "243:\tlearn: 0.2833554\ttotal: 372ms\tremaining: 1.15s\n",
      "244:\tlearn: 0.2830996\ttotal: 373ms\tremaining: 1.15s\n",
      "245:\tlearn: 0.2823595\ttotal: 374ms\tremaining: 1.15s\n",
      "246:\tlearn: 0.2817243\ttotal: 375ms\tremaining: 1.14s\n",
      "247:\tlearn: 0.2810243\ttotal: 376ms\tremaining: 1.14s\n",
      "248:\tlearn: 0.2807899\ttotal: 377ms\tremaining: 1.14s\n",
      "249:\tlearn: 0.2801967\ttotal: 378ms\tremaining: 1.13s\n",
      "250:\tlearn: 0.2796687\ttotal: 379ms\tremaining: 1.13s\n",
      "251:\tlearn: 0.2792387\ttotal: 379ms\tremaining: 1.13s\n",
      "252:\tlearn: 0.2786447\ttotal: 380ms\tremaining: 1.12s\n",
      "253:\tlearn: 0.2781903\ttotal: 381ms\tremaining: 1.12s\n",
      "254:\tlearn: 0.2776738\ttotal: 382ms\tremaining: 1.12s\n",
      "255:\tlearn: 0.2771089\ttotal: 383ms\tremaining: 1.11s\n",
      "256:\tlearn: 0.2763707\ttotal: 384ms\tremaining: 1.11s\n",
      "257:\tlearn: 0.2759520\ttotal: 385ms\tremaining: 1.11s\n",
      "258:\tlearn: 0.2754150\ttotal: 386ms\tremaining: 1.1s\n",
      "259:\tlearn: 0.2749889\ttotal: 387ms\tremaining: 1.1s\n",
      "260:\tlearn: 0.2743203\ttotal: 388ms\tremaining: 1.1s\n",
      "261:\tlearn: 0.2736760\ttotal: 389ms\tremaining: 1.09s\n",
      "262:\tlearn: 0.2730536\ttotal: 390ms\tremaining: 1.09s\n",
      "263:\tlearn: 0.2722427\ttotal: 391ms\tremaining: 1.09s\n",
      "264:\tlearn: 0.2717257\ttotal: 391ms\tremaining: 1.08s\n",
      "265:\tlearn: 0.2711646\ttotal: 392ms\tremaining: 1.08s\n",
      "266:\tlearn: 0.2705573\ttotal: 393ms\tremaining: 1.08s\n",
      "267:\tlearn: 0.2702869\ttotal: 394ms\tremaining: 1.08s\n",
      "268:\tlearn: 0.2697451\ttotal: 395ms\tremaining: 1.07s\n",
      "269:\tlearn: 0.2693399\ttotal: 396ms\tremaining: 1.07s\n",
      "270:\tlearn: 0.2688202\ttotal: 397ms\tremaining: 1.07s\n",
      "271:\tlearn: 0.2682940\ttotal: 398ms\tremaining: 1.06s\n",
      "272:\tlearn: 0.2677013\ttotal: 399ms\tremaining: 1.06s\n"
     ]
    },
    {
     "name": "stdout",
     "output_type": "stream",
     "text": [
      "273:\tlearn: 0.2672491\ttotal: 400ms\tremaining: 1.06s\n",
      "274:\tlearn: 0.2665492\ttotal: 401ms\tremaining: 1.06s\n",
      "275:\tlearn: 0.2660805\ttotal: 402ms\tremaining: 1.05s\n",
      "276:\tlearn: 0.2654433\ttotal: 403ms\tremaining: 1.05s\n",
      "277:\tlearn: 0.2648171\ttotal: 404ms\tremaining: 1.05s\n",
      "278:\tlearn: 0.2643356\ttotal: 405ms\tremaining: 1.05s\n",
      "279:\tlearn: 0.2636644\ttotal: 406ms\tremaining: 1.04s\n",
      "280:\tlearn: 0.2631912\ttotal: 407ms\tremaining: 1.04s\n",
      "281:\tlearn: 0.2630341\ttotal: 408ms\tremaining: 1.04s\n",
      "282:\tlearn: 0.2623066\ttotal: 409ms\tremaining: 1.04s\n",
      "283:\tlearn: 0.2618107\ttotal: 410ms\tremaining: 1.03s\n",
      "284:\tlearn: 0.2611137\ttotal: 411ms\tremaining: 1.03s\n",
      "285:\tlearn: 0.2604239\ttotal: 412ms\tremaining: 1.03s\n",
      "286:\tlearn: 0.2596353\ttotal: 413ms\tremaining: 1.03s\n",
      "287:\tlearn: 0.2591192\ttotal: 414ms\tremaining: 1.02s\n",
      "288:\tlearn: 0.2585837\ttotal: 415ms\tremaining: 1.02s\n",
      "289:\tlearn: 0.2579952\ttotal: 416ms\tremaining: 1.02s\n",
      "290:\tlearn: 0.2576313\ttotal: 418ms\tremaining: 1.02s\n",
      "291:\tlearn: 0.2573470\ttotal: 419ms\tremaining: 1.01s\n",
      "292:\tlearn: 0.2569587\ttotal: 420ms\tremaining: 1.01s\n",
      "293:\tlearn: 0.2564614\ttotal: 421ms\tremaining: 1.01s\n",
      "294:\tlearn: 0.2558592\ttotal: 422ms\tremaining: 1.01s\n",
      "295:\tlearn: 0.2554383\ttotal: 423ms\tremaining: 1.01s\n",
      "296:\tlearn: 0.2549835\ttotal: 424ms\tremaining: 1s\n",
      "297:\tlearn: 0.2544597\ttotal: 425ms\tremaining: 1s\n",
      "298:\tlearn: 0.2540133\ttotal: 426ms\tremaining: 1000ms\n",
      "299:\tlearn: 0.2532938\ttotal: 428ms\tremaining: 998ms\n",
      "300:\tlearn: 0.2530020\ttotal: 429ms\tremaining: 995ms\n",
      "301:\tlearn: 0.2525860\ttotal: 430ms\tremaining: 993ms\n",
      "302:\tlearn: 0.2519841\ttotal: 431ms\tremaining: 991ms\n",
      "303:\tlearn: 0.2515891\ttotal: 432ms\tremaining: 989ms\n",
      "304:\tlearn: 0.2510022\ttotal: 433ms\tremaining: 987ms\n",
      "305:\tlearn: 0.2506313\ttotal: 434ms\tremaining: 984ms\n",
      "306:\tlearn: 0.2502460\ttotal: 435ms\tremaining: 981ms\n",
      "307:\tlearn: 0.2499798\ttotal: 436ms\tremaining: 979ms\n",
      "308:\tlearn: 0.2493317\ttotal: 437ms\tremaining: 976ms\n",
      "309:\tlearn: 0.2489592\ttotal: 438ms\tremaining: 974ms\n",
      "310:\tlearn: 0.2485242\ttotal: 438ms\tremaining: 971ms\n",
      "311:\tlearn: 0.2479721\ttotal: 439ms\tremaining: 969ms\n",
      "312:\tlearn: 0.2474756\ttotal: 440ms\tremaining: 966ms\n",
      "313:\tlearn: 0.2472410\ttotal: 441ms\tremaining: 964ms\n",
      "314:\tlearn: 0.2467183\ttotal: 442ms\tremaining: 962ms\n",
      "315:\tlearn: 0.2461869\ttotal: 443ms\tremaining: 960ms\n",
      "316:\tlearn: 0.2459302\ttotal: 444ms\tremaining: 957ms\n",
      "317:\tlearn: 0.2456094\ttotal: 445ms\tremaining: 955ms\n",
      "318:\tlearn: 0.2450588\ttotal: 446ms\tremaining: 952ms\n",
      "319:\tlearn: 0.2445524\ttotal: 447ms\tremaining: 950ms\n",
      "320:\tlearn: 0.2440635\ttotal: 448ms\tremaining: 947ms\n",
      "321:\tlearn: 0.2434969\ttotal: 449ms\tremaining: 945ms\n",
      "322:\tlearn: 0.2431506\ttotal: 450ms\tremaining: 943ms\n",
      "323:\tlearn: 0.2425681\ttotal: 451ms\tremaining: 940ms\n",
      "324:\tlearn: 0.2420789\ttotal: 452ms\tremaining: 938ms\n",
      "325:\tlearn: 0.2415670\ttotal: 452ms\tremaining: 935ms\n",
      "326:\tlearn: 0.2412395\ttotal: 453ms\tremaining: 933ms\n",
      "327:\tlearn: 0.2408188\ttotal: 454ms\tremaining: 931ms\n",
      "328:\tlearn: 0.2404565\ttotal: 455ms\tremaining: 929ms\n",
      "329:\tlearn: 0.2399270\ttotal: 456ms\tremaining: 927ms\n",
      "330:\tlearn: 0.2395687\ttotal: 457ms\tremaining: 924ms\n",
      "331:\tlearn: 0.2392429\ttotal: 458ms\tremaining: 922ms\n",
      "332:\tlearn: 0.2388310\ttotal: 459ms\tremaining: 920ms\n",
      "333:\tlearn: 0.2385830\ttotal: 460ms\tremaining: 918ms\n",
      "334:\tlearn: 0.2380142\ttotal: 461ms\tremaining: 916ms\n",
      "335:\tlearn: 0.2376491\ttotal: 462ms\tremaining: 914ms\n",
      "336:\tlearn: 0.2372190\ttotal: 463ms\tremaining: 911ms\n",
      "337:\tlearn: 0.2368793\ttotal: 464ms\tremaining: 909ms\n",
      "338:\tlearn: 0.2364644\ttotal: 465ms\tremaining: 907ms\n",
      "339:\tlearn: 0.2360405\ttotal: 466ms\tremaining: 905ms\n",
      "340:\tlearn: 0.2354193\ttotal: 467ms\tremaining: 902ms\n",
      "341:\tlearn: 0.2349881\ttotal: 468ms\tremaining: 900ms\n",
      "342:\tlearn: 0.2346811\ttotal: 469ms\tremaining: 898ms\n",
      "343:\tlearn: 0.2341633\ttotal: 470ms\tremaining: 896ms\n",
      "344:\tlearn: 0.2335688\ttotal: 471ms\tremaining: 894ms\n",
      "345:\tlearn: 0.2332073\ttotal: 472ms\tremaining: 892ms\n",
      "346:\tlearn: 0.2329417\ttotal: 473ms\tremaining: 889ms\n",
      "347:\tlearn: 0.2325031\ttotal: 474ms\tremaining: 887ms\n",
      "348:\tlearn: 0.2318334\ttotal: 474ms\tremaining: 885ms\n",
      "349:\tlearn: 0.2312545\ttotal: 475ms\tremaining: 883ms\n",
      "350:\tlearn: 0.2310084\ttotal: 476ms\tremaining: 881ms\n",
      "351:\tlearn: 0.2306022\ttotal: 477ms\tremaining: 878ms\n",
      "352:\tlearn: 0.2303490\ttotal: 478ms\tremaining: 876ms\n",
      "353:\tlearn: 0.2300484\ttotal: 479ms\tremaining: 874ms\n",
      "354:\tlearn: 0.2295421\ttotal: 480ms\tremaining: 872ms\n",
      "355:\tlearn: 0.2289824\ttotal: 481ms\tremaining: 870ms\n",
      "356:\tlearn: 0.2286260\ttotal: 482ms\tremaining: 868ms\n",
      "357:\tlearn: 0.2281131\ttotal: 483ms\tremaining: 866ms\n",
      "358:\tlearn: 0.2278613\ttotal: 484ms\tremaining: 864ms\n",
      "359:\tlearn: 0.2274585\ttotal: 485ms\tremaining: 862ms\n",
      "360:\tlearn: 0.2271262\ttotal: 486ms\tremaining: 860ms\n",
      "361:\tlearn: 0.2268067\ttotal: 487ms\tremaining: 858ms\n",
      "362:\tlearn: 0.2263290\ttotal: 488ms\tremaining: 856ms\n",
      "363:\tlearn: 0.2260951\ttotal: 489ms\tremaining: 854ms\n",
      "364:\tlearn: 0.2256782\ttotal: 490ms\tremaining: 852ms\n",
      "365:\tlearn: 0.2251820\ttotal: 491ms\tremaining: 850ms\n",
      "366:\tlearn: 0.2246673\ttotal: 492ms\tremaining: 848ms\n",
      "367:\tlearn: 0.2242310\ttotal: 493ms\tremaining: 846ms\n",
      "368:\tlearn: 0.2237206\ttotal: 493ms\tremaining: 844ms\n",
      "369:\tlearn: 0.2235201\ttotal: 494ms\tremaining: 841ms\n",
      "370:\tlearn: 0.2228684\ttotal: 495ms\tremaining: 840ms\n",
      "371:\tlearn: 0.2222790\ttotal: 496ms\tremaining: 837ms\n",
      "372:\tlearn: 0.2218664\ttotal: 497ms\tremaining: 835ms\n",
      "373:\tlearn: 0.2214014\ttotal: 498ms\tremaining: 833ms\n",
      "374:\tlearn: 0.2211455\ttotal: 499ms\tremaining: 831ms\n",
      "375:\tlearn: 0.2208425\ttotal: 500ms\tremaining: 829ms\n",
      "376:\tlearn: 0.2205565\ttotal: 501ms\tremaining: 828ms\n",
      "377:\tlearn: 0.2203685\ttotal: 502ms\tremaining: 826ms\n",
      "378:\tlearn: 0.2199600\ttotal: 503ms\tremaining: 823ms\n",
      "379:\tlearn: 0.2199141\ttotal: 503ms\tremaining: 821ms\n",
      "380:\tlearn: 0.2196216\ttotal: 504ms\tremaining: 819ms\n",
      "381:\tlearn: 0.2194953\ttotal: 505ms\tremaining: 817ms\n",
      "382:\tlearn: 0.2191102\ttotal: 506ms\tremaining: 815ms\n",
      "383:\tlearn: 0.2188737\ttotal: 507ms\tremaining: 813ms\n",
      "384:\tlearn: 0.2185711\ttotal: 507ms\tremaining: 811ms\n",
      "385:\tlearn: 0.2182769\ttotal: 508ms\tremaining: 809ms\n",
      "386:\tlearn: 0.2176007\ttotal: 509ms\tremaining: 807ms\n",
      "387:\tlearn: 0.2173416\ttotal: 510ms\tremaining: 805ms\n",
      "388:\tlearn: 0.2170878\ttotal: 511ms\tremaining: 803ms\n",
      "389:\tlearn: 0.2165988\ttotal: 512ms\tremaining: 801ms\n",
      "390:\tlearn: 0.2164031\ttotal: 513ms\tremaining: 799ms\n",
      "391:\tlearn: 0.2160690\ttotal: 514ms\tremaining: 798ms\n",
      "392:\tlearn: 0.2156793\ttotal: 515ms\tremaining: 796ms\n",
      "393:\tlearn: 0.2153662\ttotal: 516ms\tremaining: 794ms\n",
      "394:\tlearn: 0.2152260\ttotal: 517ms\tremaining: 792ms\n",
      "395:\tlearn: 0.2151838\ttotal: 517ms\tremaining: 789ms\n",
      "396:\tlearn: 0.2150033\ttotal: 518ms\tremaining: 787ms\n",
      "397:\tlearn: 0.2147507\ttotal: 519ms\tremaining: 785ms\n",
      "398:\tlearn: 0.2143957\ttotal: 520ms\tremaining: 783ms\n",
      "399:\tlearn: 0.2140200\ttotal: 521ms\tremaining: 782ms\n",
      "400:\tlearn: 0.2134707\ttotal: 522ms\tremaining: 780ms\n",
      "401:\tlearn: 0.2131925\ttotal: 523ms\tremaining: 778ms\n",
      "402:\tlearn: 0.2126766\ttotal: 524ms\tremaining: 776ms\n",
      "403:\tlearn: 0.2124597\ttotal: 525ms\tremaining: 774ms\n",
      "404:\tlearn: 0.2120921\ttotal: 526ms\tremaining: 772ms\n",
      "405:\tlearn: 0.2116478\ttotal: 527ms\tremaining: 770ms\n",
      "406:\tlearn: 0.2113661\ttotal: 528ms\tremaining: 769ms\n",
      "407:\tlearn: 0.2111420\ttotal: 529ms\tremaining: 767ms\n",
      "408:\tlearn: 0.2108950\ttotal: 529ms\tremaining: 765ms\n",
      "409:\tlearn: 0.2105499\ttotal: 530ms\tremaining: 763ms\n",
      "410:\tlearn: 0.2101592\ttotal: 531ms\tremaining: 761ms\n",
      "411:\tlearn: 0.2099795\ttotal: 532ms\tremaining: 760ms\n",
      "412:\tlearn: 0.2096252\ttotal: 533ms\tremaining: 758ms\n",
      "413:\tlearn: 0.2095162\ttotal: 534ms\tremaining: 756ms\n",
      "414:\tlearn: 0.2092221\ttotal: 535ms\tremaining: 754ms\n",
      "415:\tlearn: 0.2089079\ttotal: 536ms\tremaining: 753ms\n",
      "416:\tlearn: 0.2084640\ttotal: 537ms\tremaining: 751ms\n",
      "417:\tlearn: 0.2082345\ttotal: 538ms\tremaining: 749ms\n",
      "418:\tlearn: 0.2077957\ttotal: 539ms\tremaining: 747ms\n",
      "419:\tlearn: 0.2074674\ttotal: 540ms\tremaining: 746ms\n",
      "420:\tlearn: 0.2070324\ttotal: 541ms\tremaining: 744ms\n",
      "421:\tlearn: 0.2068019\ttotal: 542ms\tremaining: 742ms\n",
      "422:\tlearn: 0.2067014\ttotal: 543ms\tremaining: 740ms\n",
      "423:\tlearn: 0.2063248\ttotal: 544ms\tremaining: 739ms\n",
      "424:\tlearn: 0.2060632\ttotal: 545ms\tremaining: 737ms\n",
      "425:\tlearn: 0.2058197\ttotal: 546ms\tremaining: 735ms\n",
      "426:\tlearn: 0.2052391\ttotal: 547ms\tremaining: 734ms\n",
      "427:\tlearn: 0.2050437\ttotal: 548ms\tremaining: 732ms\n",
      "428:\tlearn: 0.2047480\ttotal: 549ms\tremaining: 730ms\n",
      "429:\tlearn: 0.2043808\ttotal: 549ms\tremaining: 728ms\n",
      "430:\tlearn: 0.2041170\ttotal: 550ms\tremaining: 727ms\n",
      "431:\tlearn: 0.2038954\ttotal: 551ms\tremaining: 725ms\n",
      "432:\tlearn: 0.2035313\ttotal: 552ms\tremaining: 723ms\n",
      "433:\tlearn: 0.2031892\ttotal: 553ms\tremaining: 721ms\n",
      "434:\tlearn: 0.2029181\ttotal: 554ms\tremaining: 720ms\n",
      "435:\tlearn: 0.2026333\ttotal: 555ms\tremaining: 718ms\n",
      "436:\tlearn: 0.2023421\ttotal: 556ms\tremaining: 716ms\n",
      "437:\tlearn: 0.2020074\ttotal: 557ms\tremaining: 715ms\n",
      "438:\tlearn: 0.2015305\ttotal: 558ms\tremaining: 713ms\n",
      "439:\tlearn: 0.2012079\ttotal: 559ms\tremaining: 711ms\n",
      "440:\tlearn: 0.2008694\ttotal: 560ms\tremaining: 710ms\n",
      "441:\tlearn: 0.2006144\ttotal: 561ms\tremaining: 708ms\n",
      "442:\tlearn: 0.2001104\ttotal: 562ms\tremaining: 706ms\n",
      "443:\tlearn: 0.1997714\ttotal: 563ms\tremaining: 704ms\n",
      "444:\tlearn: 0.1994723\ttotal: 563ms\tremaining: 703ms\n",
      "445:\tlearn: 0.1990546\ttotal: 564ms\tremaining: 701ms\n",
      "446:\tlearn: 0.1985923\ttotal: 565ms\tremaining: 699ms\n",
      "447:\tlearn: 0.1983735\ttotal: 566ms\tremaining: 698ms\n",
      "448:\tlearn: 0.1979427\ttotal: 567ms\tremaining: 696ms\n",
      "449:\tlearn: 0.1976401\ttotal: 568ms\tremaining: 695ms\n",
      "450:\tlearn: 0.1972633\ttotal: 569ms\tremaining: 693ms\n",
      "451:\tlearn: 0.1969658\ttotal: 570ms\tremaining: 691ms\n",
      "452:\tlearn: 0.1966007\ttotal: 571ms\tremaining: 690ms\n",
      "453:\tlearn: 0.1964559\ttotal: 572ms\tremaining: 688ms\n",
      "454:\tlearn: 0.1961843\ttotal: 573ms\tremaining: 687ms\n",
      "455:\tlearn: 0.1958641\ttotal: 574ms\tremaining: 685ms\n",
      "456:\tlearn: 0.1957479\ttotal: 575ms\tremaining: 683ms\n",
      "457:\tlearn: 0.1955182\ttotal: 576ms\tremaining: 682ms\n",
      "458:\tlearn: 0.1952387\ttotal: 577ms\tremaining: 680ms\n",
      "459:\tlearn: 0.1949172\ttotal: 578ms\tremaining: 678ms\n",
      "460:\tlearn: 0.1945534\ttotal: 579ms\tremaining: 677ms\n",
      "461:\tlearn: 0.1942048\ttotal: 580ms\tremaining: 675ms\n",
      "462:\tlearn: 0.1939445\ttotal: 581ms\tremaining: 674ms\n",
      "463:\tlearn: 0.1938685\ttotal: 581ms\tremaining: 672ms\n",
      "464:\tlearn: 0.1933523\ttotal: 582ms\tremaining: 670ms\n",
      "465:\tlearn: 0.1930338\ttotal: 583ms\tremaining: 668ms\n",
      "466:\tlearn: 0.1928040\ttotal: 584ms\tremaining: 667ms\n",
      "467:\tlearn: 0.1925811\ttotal: 585ms\tremaining: 665ms\n",
      "468:\tlearn: 0.1922221\ttotal: 586ms\tremaining: 664ms\n",
      "469:\tlearn: 0.1920253\ttotal: 587ms\tremaining: 662ms\n",
      "470:\tlearn: 0.1918306\ttotal: 588ms\tremaining: 661ms\n",
      "471:\tlearn: 0.1916332\ttotal: 589ms\tremaining: 659ms\n",
      "472:\tlearn: 0.1913468\ttotal: 590ms\tremaining: 658ms\n",
      "473:\tlearn: 0.1908726\ttotal: 591ms\tremaining: 656ms\n",
      "474:\tlearn: 0.1907081\ttotal: 592ms\tremaining: 655ms\n",
      "475:\tlearn: 0.1904814\ttotal: 593ms\tremaining: 653ms\n",
      "476:\tlearn: 0.1903192\ttotal: 594ms\tremaining: 652ms\n",
      "477:\tlearn: 0.1900892\ttotal: 595ms\tremaining: 650ms\n",
      "478:\tlearn: 0.1899002\ttotal: 596ms\tremaining: 649ms\n",
      "479:\tlearn: 0.1897051\ttotal: 597ms\tremaining: 647ms\n",
      "480:\tlearn: 0.1892798\ttotal: 598ms\tremaining: 646ms\n"
     ]
    },
    {
     "name": "stdout",
     "output_type": "stream",
     "text": [
      "481:\tlearn: 0.1890422\ttotal: 600ms\tremaining: 645ms\n",
      "482:\tlearn: 0.1886994\ttotal: 601ms\tremaining: 643ms\n",
      "483:\tlearn: 0.1884688\ttotal: 602ms\tremaining: 642ms\n",
      "484:\tlearn: 0.1880465\ttotal: 603ms\tremaining: 641ms\n",
      "485:\tlearn: 0.1876906\ttotal: 604ms\tremaining: 639ms\n",
      "486:\tlearn: 0.1873281\ttotal: 605ms\tremaining: 638ms\n",
      "487:\tlearn: 0.1870863\ttotal: 606ms\tremaining: 636ms\n",
      "488:\tlearn: 0.1866848\ttotal: 607ms\tremaining: 635ms\n",
      "489:\tlearn: 0.1863340\ttotal: 609ms\tremaining: 633ms\n",
      "490:\tlearn: 0.1860603\ttotal: 610ms\tremaining: 632ms\n",
      "491:\tlearn: 0.1858443\ttotal: 615ms\tremaining: 635ms\n",
      "492:\tlearn: 0.1856229\ttotal: 617ms\tremaining: 634ms\n",
      "493:\tlearn: 0.1853787\ttotal: 618ms\tremaining: 633ms\n",
      "494:\tlearn: 0.1850644\ttotal: 619ms\tremaining: 632ms\n",
      "495:\tlearn: 0.1846702\ttotal: 620ms\tremaining: 630ms\n",
      "496:\tlearn: 0.1843999\ttotal: 622ms\tremaining: 629ms\n",
      "497:\tlearn: 0.1842545\ttotal: 623ms\tremaining: 628ms\n",
      "498:\tlearn: 0.1840721\ttotal: 624ms\tremaining: 626ms\n",
      "499:\tlearn: 0.1837988\ttotal: 625ms\tremaining: 625ms\n",
      "500:\tlearn: 0.1835044\ttotal: 626ms\tremaining: 624ms\n",
      "501:\tlearn: 0.1833244\ttotal: 627ms\tremaining: 622ms\n",
      "502:\tlearn: 0.1829931\ttotal: 629ms\tremaining: 622ms\n",
      "503:\tlearn: 0.1828369\ttotal: 630ms\tremaining: 620ms\n",
      "504:\tlearn: 0.1827227\ttotal: 632ms\tremaining: 619ms\n",
      "505:\tlearn: 0.1825280\ttotal: 633ms\tremaining: 618ms\n",
      "506:\tlearn: 0.1821830\ttotal: 634ms\tremaining: 616ms\n",
      "507:\tlearn: 0.1818534\ttotal: 635ms\tremaining: 615ms\n",
      "508:\tlearn: 0.1815917\ttotal: 636ms\tremaining: 613ms\n",
      "509:\tlearn: 0.1812935\ttotal: 637ms\tremaining: 612ms\n",
      "510:\tlearn: 0.1809084\ttotal: 638ms\tremaining: 611ms\n",
      "511:\tlearn: 0.1806487\ttotal: 639ms\tremaining: 609ms\n",
      "512:\tlearn: 0.1803631\ttotal: 640ms\tremaining: 608ms\n",
      "513:\tlearn: 0.1800912\ttotal: 642ms\tremaining: 607ms\n",
      "514:\tlearn: 0.1799409\ttotal: 643ms\tremaining: 605ms\n",
      "515:\tlearn: 0.1796104\ttotal: 644ms\tremaining: 604ms\n",
      "516:\tlearn: 0.1794669\ttotal: 645ms\tremaining: 603ms\n",
      "517:\tlearn: 0.1791175\ttotal: 646ms\tremaining: 601ms\n",
      "518:\tlearn: 0.1788119\ttotal: 647ms\tremaining: 600ms\n",
      "519:\tlearn: 0.1785523\ttotal: 649ms\tremaining: 599ms\n",
      "520:\tlearn: 0.1783047\ttotal: 650ms\tremaining: 597ms\n",
      "521:\tlearn: 0.1781051\ttotal: 651ms\tremaining: 596ms\n",
      "522:\tlearn: 0.1777020\ttotal: 652ms\tremaining: 594ms\n",
      "523:\tlearn: 0.1775085\ttotal: 653ms\tremaining: 593ms\n",
      "524:\tlearn: 0.1771353\ttotal: 654ms\tremaining: 591ms\n",
      "525:\tlearn: 0.1768878\ttotal: 655ms\tremaining: 590ms\n",
      "526:\tlearn: 0.1765612\ttotal: 656ms\tremaining: 588ms\n",
      "527:\tlearn: 0.1763713\ttotal: 657ms\tremaining: 587ms\n",
      "528:\tlearn: 0.1761315\ttotal: 658ms\tremaining: 586ms\n",
      "529:\tlearn: 0.1758800\ttotal: 659ms\tremaining: 584ms\n",
      "530:\tlearn: 0.1756771\ttotal: 660ms\tremaining: 583ms\n",
      "531:\tlearn: 0.1755080\ttotal: 661ms\tremaining: 581ms\n",
      "532:\tlearn: 0.1752349\ttotal: 662ms\tremaining: 580ms\n",
      "533:\tlearn: 0.1749734\ttotal: 663ms\tremaining: 578ms\n",
      "534:\tlearn: 0.1746845\ttotal: 664ms\tremaining: 577ms\n",
      "535:\tlearn: 0.1744535\ttotal: 665ms\tremaining: 575ms\n",
      "536:\tlearn: 0.1742339\ttotal: 666ms\tremaining: 574ms\n",
      "537:\tlearn: 0.1740561\ttotal: 667ms\tremaining: 572ms\n",
      "538:\tlearn: 0.1738015\ttotal: 668ms\tremaining: 571ms\n",
      "539:\tlearn: 0.1735837\ttotal: 668ms\tremaining: 569ms\n",
      "540:\tlearn: 0.1732931\ttotal: 669ms\tremaining: 568ms\n",
      "541:\tlearn: 0.1730552\ttotal: 671ms\tremaining: 567ms\n",
      "542:\tlearn: 0.1729156\ttotal: 672ms\tremaining: 565ms\n",
      "543:\tlearn: 0.1727711\ttotal: 673ms\tremaining: 564ms\n",
      "544:\tlearn: 0.1726524\ttotal: 674ms\tremaining: 562ms\n",
      "545:\tlearn: 0.1724698\ttotal: 675ms\tremaining: 561ms\n",
      "546:\tlearn: 0.1721274\ttotal: 676ms\tremaining: 559ms\n",
      "547:\tlearn: 0.1717925\ttotal: 677ms\tremaining: 558ms\n",
      "548:\tlearn: 0.1715307\ttotal: 678ms\tremaining: 557ms\n",
      "549:\tlearn: 0.1712413\ttotal: 679ms\tremaining: 555ms\n",
      "550:\tlearn: 0.1710525\ttotal: 679ms\tremaining: 554ms\n",
      "551:\tlearn: 0.1708117\ttotal: 680ms\tremaining: 552ms\n",
      "552:\tlearn: 0.1705759\ttotal: 681ms\tremaining: 551ms\n",
      "553:\tlearn: 0.1703696\ttotal: 682ms\tremaining: 549ms\n",
      "554:\tlearn: 0.1702789\ttotal: 683ms\tremaining: 548ms\n",
      "555:\tlearn: 0.1700628\ttotal: 684ms\tremaining: 546ms\n",
      "556:\tlearn: 0.1698188\ttotal: 685ms\tremaining: 545ms\n",
      "557:\tlearn: 0.1696466\ttotal: 686ms\tremaining: 544ms\n",
      "558:\tlearn: 0.1694317\ttotal: 687ms\tremaining: 542ms\n",
      "559:\tlearn: 0.1692133\ttotal: 688ms\tremaining: 541ms\n",
      "560:\tlearn: 0.1690058\ttotal: 689ms\tremaining: 539ms\n",
      "561:\tlearn: 0.1687505\ttotal: 690ms\tremaining: 538ms\n",
      "562:\tlearn: 0.1685047\ttotal: 691ms\tremaining: 537ms\n",
      "563:\tlearn: 0.1683536\ttotal: 692ms\tremaining: 535ms\n",
      "564:\tlearn: 0.1681970\ttotal: 693ms\tremaining: 534ms\n",
      "565:\tlearn: 0.1679388\ttotal: 694ms\tremaining: 532ms\n",
      "566:\tlearn: 0.1678279\ttotal: 695ms\tremaining: 531ms\n",
      "567:\tlearn: 0.1675772\ttotal: 696ms\tremaining: 529ms\n",
      "568:\tlearn: 0.1673735\ttotal: 697ms\tremaining: 528ms\n",
      "569:\tlearn: 0.1672525\ttotal: 698ms\tremaining: 527ms\n",
      "570:\tlearn: 0.1669829\ttotal: 699ms\tremaining: 525ms\n",
      "571:\tlearn: 0.1668145\ttotal: 700ms\tremaining: 524ms\n",
      "572:\tlearn: 0.1665316\ttotal: 701ms\tremaining: 523ms\n",
      "573:\tlearn: 0.1663809\ttotal: 702ms\tremaining: 521ms\n",
      "574:\tlearn: 0.1660889\ttotal: 703ms\tremaining: 520ms\n",
      "575:\tlearn: 0.1659851\ttotal: 704ms\tremaining: 518ms\n",
      "576:\tlearn: 0.1657700\ttotal: 705ms\tremaining: 517ms\n",
      "577:\tlearn: 0.1655322\ttotal: 706ms\tremaining: 516ms\n",
      "578:\tlearn: 0.1654219\ttotal: 707ms\tremaining: 514ms\n",
      "579:\tlearn: 0.1651747\ttotal: 708ms\tremaining: 513ms\n",
      "580:\tlearn: 0.1648730\ttotal: 709ms\tremaining: 511ms\n",
      "581:\tlearn: 0.1646591\ttotal: 710ms\tremaining: 510ms\n",
      "582:\tlearn: 0.1642556\ttotal: 711ms\tremaining: 508ms\n",
      "583:\tlearn: 0.1640390\ttotal: 712ms\tremaining: 507ms\n",
      "584:\tlearn: 0.1636354\ttotal: 713ms\tremaining: 506ms\n",
      "585:\tlearn: 0.1633464\ttotal: 714ms\tremaining: 504ms\n",
      "586:\tlearn: 0.1631027\ttotal: 715ms\tremaining: 503ms\n",
      "587:\tlearn: 0.1627615\ttotal: 716ms\tremaining: 501ms\n",
      "588:\tlearn: 0.1625621\ttotal: 717ms\tremaining: 500ms\n",
      "589:\tlearn: 0.1623958\ttotal: 718ms\tremaining: 499ms\n",
      "590:\tlearn: 0.1622352\ttotal: 719ms\tremaining: 497ms\n",
      "591:\tlearn: 0.1620926\ttotal: 720ms\tremaining: 496ms\n",
      "592:\tlearn: 0.1619345\ttotal: 721ms\tremaining: 495ms\n",
      "593:\tlearn: 0.1617924\ttotal: 722ms\tremaining: 493ms\n",
      "594:\tlearn: 0.1616508\ttotal: 722ms\tremaining: 492ms\n",
      "595:\tlearn: 0.1616353\ttotal: 723ms\tremaining: 490ms\n",
      "596:\tlearn: 0.1615084\ttotal: 724ms\tremaining: 489ms\n",
      "597:\tlearn: 0.1613878\ttotal: 725ms\tremaining: 487ms\n",
      "598:\tlearn: 0.1612094\ttotal: 726ms\tremaining: 486ms\n",
      "599:\tlearn: 0.1610242\ttotal: 727ms\tremaining: 485ms\n",
      "600:\tlearn: 0.1608642\ttotal: 728ms\tremaining: 483ms\n",
      "601:\tlearn: 0.1606112\ttotal: 729ms\tremaining: 482ms\n",
      "602:\tlearn: 0.1602802\ttotal: 730ms\tremaining: 480ms\n",
      "603:\tlearn: 0.1601628\ttotal: 731ms\tremaining: 479ms\n",
      "604:\tlearn: 0.1600404\ttotal: 731ms\tremaining: 478ms\n",
      "605:\tlearn: 0.1599056\ttotal: 732ms\tremaining: 476ms\n",
      "606:\tlearn: 0.1598444\ttotal: 733ms\tremaining: 475ms\n",
      "607:\tlearn: 0.1596789\ttotal: 734ms\tremaining: 473ms\n",
      "608:\tlearn: 0.1594292\ttotal: 735ms\tremaining: 472ms\n",
      "609:\tlearn: 0.1591898\ttotal: 736ms\tremaining: 471ms\n",
      "610:\tlearn: 0.1590574\ttotal: 737ms\tremaining: 469ms\n",
      "611:\tlearn: 0.1587819\ttotal: 738ms\tremaining: 468ms\n",
      "612:\tlearn: 0.1586760\ttotal: 739ms\tremaining: 466ms\n",
      "613:\tlearn: 0.1585138\ttotal: 740ms\tremaining: 465ms\n",
      "614:\tlearn: 0.1582481\ttotal: 741ms\tremaining: 464ms\n",
      "615:\tlearn: 0.1580763\ttotal: 742ms\tremaining: 463ms\n",
      "616:\tlearn: 0.1578726\ttotal: 743ms\tremaining: 461ms\n",
      "617:\tlearn: 0.1576488\ttotal: 745ms\tremaining: 460ms\n",
      "618:\tlearn: 0.1575568\ttotal: 746ms\tremaining: 459ms\n",
      "619:\tlearn: 0.1573185\ttotal: 747ms\tremaining: 458ms\n",
      "620:\tlearn: 0.1570690\ttotal: 748ms\tremaining: 457ms\n",
      "621:\tlearn: 0.1569118\ttotal: 750ms\tremaining: 456ms\n",
      "622:\tlearn: 0.1566874\ttotal: 751ms\tremaining: 454ms\n",
      "623:\tlearn: 0.1565192\ttotal: 752ms\tremaining: 453ms\n",
      "624:\tlearn: 0.1562650\ttotal: 753ms\tremaining: 452ms\n",
      "625:\tlearn: 0.1560279\ttotal: 754ms\tremaining: 450ms\n",
      "626:\tlearn: 0.1558944\ttotal: 755ms\tremaining: 449ms\n",
      "627:\tlearn: 0.1556771\ttotal: 756ms\tremaining: 448ms\n",
      "628:\tlearn: 0.1555003\ttotal: 757ms\tremaining: 447ms\n",
      "629:\tlearn: 0.1553304\ttotal: 758ms\tremaining: 445ms\n",
      "630:\tlearn: 0.1551654\ttotal: 759ms\tremaining: 444ms\n",
      "631:\tlearn: 0.1550175\ttotal: 760ms\tremaining: 443ms\n",
      "632:\tlearn: 0.1547100\ttotal: 761ms\tremaining: 442ms\n",
      "633:\tlearn: 0.1545773\ttotal: 763ms\tremaining: 440ms\n",
      "634:\tlearn: 0.1543247\ttotal: 764ms\tremaining: 439ms\n",
      "635:\tlearn: 0.1540732\ttotal: 765ms\tremaining: 438ms\n",
      "636:\tlearn: 0.1539205\ttotal: 766ms\tremaining: 436ms\n",
      "637:\tlearn: 0.1536886\ttotal: 767ms\tremaining: 435ms\n",
      "638:\tlearn: 0.1533961\ttotal: 768ms\tremaining: 434ms\n",
      "639:\tlearn: 0.1532840\ttotal: 769ms\tremaining: 432ms\n",
      "640:\tlearn: 0.1530826\ttotal: 770ms\tremaining: 431ms\n",
      "641:\tlearn: 0.1529798\ttotal: 771ms\tremaining: 430ms\n",
      "642:\tlearn: 0.1526850\ttotal: 772ms\tremaining: 428ms\n",
      "643:\tlearn: 0.1525509\ttotal: 773ms\tremaining: 427ms\n",
      "644:\tlearn: 0.1523276\ttotal: 774ms\tremaining: 426ms\n",
      "645:\tlearn: 0.1520610\ttotal: 775ms\tremaining: 424ms\n",
      "646:\tlearn: 0.1517816\ttotal: 776ms\tremaining: 423ms\n",
      "647:\tlearn: 0.1515638\ttotal: 777ms\tremaining: 422ms\n",
      "648:\tlearn: 0.1513904\ttotal: 778ms\tremaining: 421ms\n",
      "649:\tlearn: 0.1513048\ttotal: 779ms\tremaining: 419ms\n",
      "650:\tlearn: 0.1510739\ttotal: 780ms\tremaining: 418ms\n",
      "651:\tlearn: 0.1509095\ttotal: 781ms\tremaining: 417ms\n",
      "652:\tlearn: 0.1507051\ttotal: 782ms\tremaining: 416ms\n",
      "653:\tlearn: 0.1505400\ttotal: 783ms\tremaining: 414ms\n",
      "654:\tlearn: 0.1504521\ttotal: 784ms\tremaining: 413ms\n",
      "655:\tlearn: 0.1502990\ttotal: 785ms\tremaining: 412ms\n",
      "656:\tlearn: 0.1500497\ttotal: 786ms\tremaining: 410ms\n",
      "657:\tlearn: 0.1498144\ttotal: 787ms\tremaining: 409ms\n",
      "658:\tlearn: 0.1496073\ttotal: 788ms\tremaining: 408ms\n",
      "659:\tlearn: 0.1491970\ttotal: 789ms\tremaining: 407ms\n",
      "660:\tlearn: 0.1491168\ttotal: 790ms\tremaining: 405ms\n",
      "661:\tlearn: 0.1488348\ttotal: 791ms\tremaining: 404ms\n",
      "662:\tlearn: 0.1487124\ttotal: 792ms\tremaining: 403ms\n",
      "663:\tlearn: 0.1485410\ttotal: 793ms\tremaining: 401ms\n",
      "664:\tlearn: 0.1484202\ttotal: 794ms\tremaining: 400ms\n",
      "665:\tlearn: 0.1481683\ttotal: 795ms\tremaining: 399ms\n"
     ]
    },
    {
     "name": "stdout",
     "output_type": "stream",
     "text": [
      "666:\tlearn: 0.1479768\ttotal: 797ms\tremaining: 398ms\n",
      "667:\tlearn: 0.1476490\ttotal: 798ms\tremaining: 396ms\n",
      "668:\tlearn: 0.1474957\ttotal: 799ms\tremaining: 395ms\n",
      "669:\tlearn: 0.1473865\ttotal: 800ms\tremaining: 394ms\n",
      "670:\tlearn: 0.1472305\ttotal: 801ms\tremaining: 393ms\n",
      "671:\tlearn: 0.1470435\ttotal: 802ms\tremaining: 391ms\n",
      "672:\tlearn: 0.1468717\ttotal: 803ms\tremaining: 390ms\n",
      "673:\tlearn: 0.1466501\ttotal: 804ms\tremaining: 389ms\n",
      "674:\tlearn: 0.1464365\ttotal: 806ms\tremaining: 388ms\n",
      "675:\tlearn: 0.1462251\ttotal: 807ms\tremaining: 387ms\n",
      "676:\tlearn: 0.1459786\ttotal: 808ms\tremaining: 386ms\n",
      "677:\tlearn: 0.1458112\ttotal: 809ms\tremaining: 384ms\n",
      "678:\tlearn: 0.1456363\ttotal: 811ms\tremaining: 383ms\n",
      "679:\tlearn: 0.1455805\ttotal: 812ms\tremaining: 382ms\n",
      "680:\tlearn: 0.1454123\ttotal: 813ms\tremaining: 381ms\n",
      "681:\tlearn: 0.1451609\ttotal: 814ms\tremaining: 380ms\n",
      "682:\tlearn: 0.1449433\ttotal: 815ms\tremaining: 378ms\n",
      "683:\tlearn: 0.1449094\ttotal: 816ms\tremaining: 377ms\n",
      "684:\tlearn: 0.1447704\ttotal: 817ms\tremaining: 376ms\n",
      "685:\tlearn: 0.1446000\ttotal: 819ms\tremaining: 375ms\n",
      "686:\tlearn: 0.1444155\ttotal: 820ms\tremaining: 374ms\n",
      "687:\tlearn: 0.1443309\ttotal: 821ms\tremaining: 372ms\n",
      "688:\tlearn: 0.1441126\ttotal: 822ms\tremaining: 371ms\n",
      "689:\tlearn: 0.1438854\ttotal: 823ms\tremaining: 370ms\n",
      "690:\tlearn: 0.1435857\ttotal: 824ms\tremaining: 369ms\n",
      "691:\tlearn: 0.1434324\ttotal: 825ms\tremaining: 367ms\n",
      "692:\tlearn: 0.1432615\ttotal: 826ms\tremaining: 366ms\n",
      "693:\tlearn: 0.1430201\ttotal: 827ms\tremaining: 365ms\n",
      "694:\tlearn: 0.1428253\ttotal: 828ms\tremaining: 364ms\n",
      "695:\tlearn: 0.1425462\ttotal: 829ms\tremaining: 362ms\n",
      "696:\tlearn: 0.1423349\ttotal: 830ms\tremaining: 361ms\n",
      "697:\tlearn: 0.1422765\ttotal: 831ms\tremaining: 360ms\n",
      "698:\tlearn: 0.1421243\ttotal: 832ms\tremaining: 358ms\n",
      "699:\tlearn: 0.1418918\ttotal: 833ms\tremaining: 357ms\n",
      "700:\tlearn: 0.1416901\ttotal: 834ms\tremaining: 356ms\n",
      "701:\tlearn: 0.1413383\ttotal: 835ms\tremaining: 355ms\n",
      "702:\tlearn: 0.1411938\ttotal: 836ms\tremaining: 353ms\n",
      "703:\tlearn: 0.1410759\ttotal: 837ms\tremaining: 352ms\n",
      "704:\tlearn: 0.1409635\ttotal: 838ms\tremaining: 351ms\n",
      "705:\tlearn: 0.1408002\ttotal: 839ms\tremaining: 350ms\n",
      "706:\tlearn: 0.1405725\ttotal: 840ms\tremaining: 348ms\n",
      "707:\tlearn: 0.1404650\ttotal: 842ms\tremaining: 347ms\n",
      "708:\tlearn: 0.1402532\ttotal: 843ms\tremaining: 346ms\n",
      "709:\tlearn: 0.1401454\ttotal: 844ms\tremaining: 345ms\n",
      "710:\tlearn: 0.1399482\ttotal: 845ms\tremaining: 343ms\n",
      "711:\tlearn: 0.1397987\ttotal: 846ms\tremaining: 342ms\n",
      "712:\tlearn: 0.1395199\ttotal: 847ms\tremaining: 341ms\n",
      "713:\tlearn: 0.1393816\ttotal: 848ms\tremaining: 340ms\n",
      "714:\tlearn: 0.1392053\ttotal: 849ms\tremaining: 338ms\n",
      "715:\tlearn: 0.1389571\ttotal: 850ms\tremaining: 337ms\n",
      "716:\tlearn: 0.1386145\ttotal: 851ms\tremaining: 336ms\n",
      "717:\tlearn: 0.1384738\ttotal: 852ms\tremaining: 335ms\n",
      "718:\tlearn: 0.1382943\ttotal: 853ms\tremaining: 334ms\n",
      "719:\tlearn: 0.1381570\ttotal: 855ms\tremaining: 332ms\n",
      "720:\tlearn: 0.1379624\ttotal: 856ms\tremaining: 331ms\n",
      "721:\tlearn: 0.1378592\ttotal: 857ms\tremaining: 330ms\n",
      "722:\tlearn: 0.1377703\ttotal: 858ms\tremaining: 329ms\n",
      "723:\tlearn: 0.1376416\ttotal: 859ms\tremaining: 327ms\n",
      "724:\tlearn: 0.1372922\ttotal: 860ms\tremaining: 326ms\n",
      "725:\tlearn: 0.1370335\ttotal: 861ms\tremaining: 325ms\n",
      "726:\tlearn: 0.1368248\ttotal: 862ms\tremaining: 324ms\n",
      "727:\tlearn: 0.1365677\ttotal: 863ms\tremaining: 322ms\n",
      "728:\tlearn: 0.1364987\ttotal: 864ms\tremaining: 321ms\n",
      "729:\tlearn: 0.1364179\ttotal: 865ms\tremaining: 320ms\n",
      "730:\tlearn: 0.1362104\ttotal: 866ms\tremaining: 319ms\n",
      "731:\tlearn: 0.1359993\ttotal: 867ms\tremaining: 318ms\n",
      "732:\tlearn: 0.1358806\ttotal: 868ms\tremaining: 316ms\n",
      "733:\tlearn: 0.1356665\ttotal: 869ms\tremaining: 315ms\n",
      "734:\tlearn: 0.1354222\ttotal: 870ms\tremaining: 314ms\n",
      "735:\tlearn: 0.1352670\ttotal: 871ms\tremaining: 313ms\n",
      "736:\tlearn: 0.1350502\ttotal: 873ms\tremaining: 311ms\n",
      "737:\tlearn: 0.1348363\ttotal: 874ms\tremaining: 310ms\n",
      "738:\tlearn: 0.1346502\ttotal: 875ms\tremaining: 309ms\n",
      "739:\tlearn: 0.1345401\ttotal: 876ms\tremaining: 308ms\n",
      "740:\tlearn: 0.1344652\ttotal: 877ms\tremaining: 307ms\n",
      "741:\tlearn: 0.1343887\ttotal: 878ms\tremaining: 305ms\n",
      "742:\tlearn: 0.1341986\ttotal: 879ms\tremaining: 304ms\n",
      "743:\tlearn: 0.1340249\ttotal: 880ms\tremaining: 303ms\n",
      "744:\tlearn: 0.1338070\ttotal: 881ms\tremaining: 302ms\n",
      "745:\tlearn: 0.1335953\ttotal: 882ms\tremaining: 300ms\n",
      "746:\tlearn: 0.1333425\ttotal: 883ms\tremaining: 299ms\n",
      "747:\tlearn: 0.1331688\ttotal: 884ms\tremaining: 298ms\n",
      "748:\tlearn: 0.1330121\ttotal: 885ms\tremaining: 297ms\n",
      "749:\tlearn: 0.1328836\ttotal: 886ms\tremaining: 295ms\n",
      "750:\tlearn: 0.1326229\ttotal: 887ms\tremaining: 294ms\n",
      "751:\tlearn: 0.1324811\ttotal: 888ms\tremaining: 293ms\n",
      "752:\tlearn: 0.1323629\ttotal: 889ms\tremaining: 292ms\n",
      "753:\tlearn: 0.1322080\ttotal: 890ms\tremaining: 291ms\n",
      "754:\tlearn: 0.1319545\ttotal: 891ms\tremaining: 289ms\n",
      "755:\tlearn: 0.1318788\ttotal: 892ms\tremaining: 288ms\n",
      "756:\tlearn: 0.1316728\ttotal: 893ms\tremaining: 287ms\n",
      "757:\tlearn: 0.1315670\ttotal: 894ms\tremaining: 286ms\n",
      "758:\tlearn: 0.1313689\ttotal: 895ms\tremaining: 284ms\n",
      "759:\tlearn: 0.1311970\ttotal: 897ms\tremaining: 283ms\n",
      "760:\tlearn: 0.1310281\ttotal: 897ms\tremaining: 282ms\n",
      "761:\tlearn: 0.1308659\ttotal: 898ms\tremaining: 281ms\n",
      "762:\tlearn: 0.1306370\ttotal: 899ms\tremaining: 279ms\n",
      "763:\tlearn: 0.1305942\ttotal: 901ms\tremaining: 278ms\n",
      "764:\tlearn: 0.1304475\ttotal: 902ms\tremaining: 277ms\n",
      "765:\tlearn: 0.1303011\ttotal: 903ms\tremaining: 276ms\n",
      "766:\tlearn: 0.1301315\ttotal: 904ms\tremaining: 274ms\n",
      "767:\tlearn: 0.1298988\ttotal: 905ms\tremaining: 273ms\n",
      "768:\tlearn: 0.1296950\ttotal: 906ms\tremaining: 272ms\n",
      "769:\tlearn: 0.1295221\ttotal: 907ms\tremaining: 271ms\n",
      "770:\tlearn: 0.1293159\ttotal: 908ms\tremaining: 270ms\n",
      "771:\tlearn: 0.1291353\ttotal: 909ms\tremaining: 268ms\n",
      "772:\tlearn: 0.1289701\ttotal: 910ms\tremaining: 267ms\n",
      "773:\tlearn: 0.1288781\ttotal: 911ms\tremaining: 266ms\n",
      "774:\tlearn: 0.1286999\ttotal: 912ms\tremaining: 265ms\n",
      "775:\tlearn: 0.1284973\ttotal: 913ms\tremaining: 264ms\n",
      "776:\tlearn: 0.1283593\ttotal: 915ms\tremaining: 262ms\n",
      "777:\tlearn: 0.1282055\ttotal: 916ms\tremaining: 261ms\n",
      "778:\tlearn: 0.1281141\ttotal: 917ms\tremaining: 260ms\n",
      "779:\tlearn: 0.1279931\ttotal: 918ms\tremaining: 259ms\n",
      "780:\tlearn: 0.1278085\ttotal: 919ms\tremaining: 258ms\n",
      "781:\tlearn: 0.1276729\ttotal: 920ms\tremaining: 256ms\n",
      "782:\tlearn: 0.1275708\ttotal: 921ms\tremaining: 255ms\n",
      "783:\tlearn: 0.1274072\ttotal: 922ms\tremaining: 254ms\n",
      "784:\tlearn: 0.1272051\ttotal: 923ms\tremaining: 253ms\n",
      "785:\tlearn: 0.1270781\ttotal: 924ms\tremaining: 252ms\n",
      "786:\tlearn: 0.1268819\ttotal: 925ms\tremaining: 250ms\n",
      "787:\tlearn: 0.1267000\ttotal: 926ms\tremaining: 249ms\n",
      "788:\tlearn: 0.1265059\ttotal: 927ms\tremaining: 248ms\n",
      "789:\tlearn: 0.1263528\ttotal: 928ms\tremaining: 247ms\n",
      "790:\tlearn: 0.1261050\ttotal: 930ms\tremaining: 246ms\n",
      "791:\tlearn: 0.1259081\ttotal: 931ms\tremaining: 244ms\n",
      "792:\tlearn: 0.1257717\ttotal: 932ms\tremaining: 243ms\n",
      "793:\tlearn: 0.1256627\ttotal: 933ms\tremaining: 242ms\n",
      "794:\tlearn: 0.1255706\ttotal: 934ms\tremaining: 241ms\n",
      "795:\tlearn: 0.1254704\ttotal: 935ms\tremaining: 240ms\n",
      "796:\tlearn: 0.1252202\ttotal: 936ms\tremaining: 238ms\n",
      "797:\tlearn: 0.1250847\ttotal: 937ms\tremaining: 237ms\n",
      "798:\tlearn: 0.1248717\ttotal: 938ms\tremaining: 236ms\n",
      "799:\tlearn: 0.1246164\ttotal: 939ms\tremaining: 235ms\n",
      "800:\tlearn: 0.1243925\ttotal: 940ms\tremaining: 234ms\n",
      "801:\tlearn: 0.1242743\ttotal: 941ms\tremaining: 232ms\n",
      "802:\tlearn: 0.1240850\ttotal: 942ms\tremaining: 231ms\n",
      "803:\tlearn: 0.1238765\ttotal: 943ms\tremaining: 230ms\n",
      "804:\tlearn: 0.1237193\ttotal: 944ms\tremaining: 229ms\n",
      "805:\tlearn: 0.1237037\ttotal: 945ms\tremaining: 227ms\n",
      "806:\tlearn: 0.1236170\ttotal: 946ms\tremaining: 226ms\n",
      "807:\tlearn: 0.1234416\ttotal: 947ms\tremaining: 225ms\n",
      "808:\tlearn: 0.1232683\ttotal: 948ms\tremaining: 224ms\n",
      "809:\tlearn: 0.1230390\ttotal: 949ms\tremaining: 223ms\n",
      "810:\tlearn: 0.1229278\ttotal: 950ms\tremaining: 222ms\n",
      "811:\tlearn: 0.1228417\ttotal: 952ms\tremaining: 220ms\n",
      "812:\tlearn: 0.1227541\ttotal: 953ms\tremaining: 219ms\n",
      "813:\tlearn: 0.1226540\ttotal: 954ms\tremaining: 218ms\n",
      "814:\tlearn: 0.1224734\ttotal: 955ms\tremaining: 217ms\n",
      "815:\tlearn: 0.1224148\ttotal: 956ms\tremaining: 216ms\n",
      "816:\tlearn: 0.1222279\ttotal: 957ms\tremaining: 214ms\n",
      "817:\tlearn: 0.1222042\ttotal: 958ms\tremaining: 213ms\n",
      "818:\tlearn: 0.1220806\ttotal: 959ms\tremaining: 212ms\n",
      "819:\tlearn: 0.1219322\ttotal: 960ms\tremaining: 211ms\n",
      "820:\tlearn: 0.1216884\ttotal: 961ms\tremaining: 209ms\n",
      "821:\tlearn: 0.1215770\ttotal: 962ms\tremaining: 208ms\n",
      "822:\tlearn: 0.1215461\ttotal: 962ms\tremaining: 207ms\n",
      "823:\tlearn: 0.1213800\ttotal: 963ms\tremaining: 206ms\n",
      "824:\tlearn: 0.1212090\ttotal: 965ms\tremaining: 205ms\n",
      "825:\tlearn: 0.1210857\ttotal: 966ms\tremaining: 203ms\n",
      "826:\tlearn: 0.1210567\ttotal: 967ms\tremaining: 202ms\n",
      "827:\tlearn: 0.1209453\ttotal: 968ms\tremaining: 201ms\n",
      "828:\tlearn: 0.1207094\ttotal: 969ms\tremaining: 200ms\n",
      "829:\tlearn: 0.1206502\ttotal: 970ms\tremaining: 199ms\n",
      "830:\tlearn: 0.1204536\ttotal: 971ms\tremaining: 197ms\n",
      "831:\tlearn: 0.1204012\ttotal: 972ms\tremaining: 196ms\n",
      "832:\tlearn: 0.1202774\ttotal: 973ms\tremaining: 195ms\n",
      "833:\tlearn: 0.1200796\ttotal: 974ms\tremaining: 194ms\n",
      "834:\tlearn: 0.1199195\ttotal: 975ms\tremaining: 193ms\n",
      "835:\tlearn: 0.1197118\ttotal: 976ms\tremaining: 192ms\n",
      "836:\tlearn: 0.1194992\ttotal: 978ms\tremaining: 190ms\n",
      "837:\tlearn: 0.1193464\ttotal: 979ms\tremaining: 189ms\n",
      "838:\tlearn: 0.1191725\ttotal: 980ms\tremaining: 188ms\n",
      "839:\tlearn: 0.1190198\ttotal: 981ms\tremaining: 187ms\n",
      "840:\tlearn: 0.1189080\ttotal: 982ms\tremaining: 186ms\n",
      "841:\tlearn: 0.1187256\ttotal: 983ms\tremaining: 184ms\n",
      "842:\tlearn: 0.1186432\ttotal: 984ms\tremaining: 183ms\n",
      "843:\tlearn: 0.1184316\ttotal: 985ms\tremaining: 182ms\n",
      "844:\tlearn: 0.1183903\ttotal: 986ms\tremaining: 181ms\n",
      "845:\tlearn: 0.1181777\ttotal: 987ms\tremaining: 180ms\n",
      "846:\tlearn: 0.1179517\ttotal: 988ms\tremaining: 178ms\n",
      "847:\tlearn: 0.1177905\ttotal: 989ms\tremaining: 177ms\n",
      "848:\tlearn: 0.1176258\ttotal: 989ms\tremaining: 176ms\n",
      "849:\tlearn: 0.1174781\ttotal: 990ms\tremaining: 175ms\n",
      "850:\tlearn: 0.1173907\ttotal: 991ms\tremaining: 174ms\n"
     ]
    },
    {
     "name": "stdout",
     "output_type": "stream",
     "text": [
      "851:\tlearn: 0.1173123\ttotal: 993ms\tremaining: 172ms\n",
      "852:\tlearn: 0.1172148\ttotal: 994ms\tremaining: 171ms\n",
      "853:\tlearn: 0.1170649\ttotal: 995ms\tremaining: 170ms\n",
      "854:\tlearn: 0.1169403\ttotal: 996ms\tremaining: 169ms\n",
      "855:\tlearn: 0.1167605\ttotal: 997ms\tremaining: 168ms\n",
      "856:\tlearn: 0.1166982\ttotal: 998ms\tremaining: 167ms\n",
      "857:\tlearn: 0.1164921\ttotal: 999ms\tremaining: 165ms\n",
      "858:\tlearn: 0.1163821\ttotal: 1000ms\tremaining: 164ms\n",
      "859:\tlearn: 0.1162876\ttotal: 1s\tremaining: 163ms\n",
      "860:\tlearn: 0.1160566\ttotal: 1s\tremaining: 162ms\n",
      "861:\tlearn: 0.1158656\ttotal: 1s\tremaining: 161ms\n",
      "862:\tlearn: 0.1157786\ttotal: 1s\tremaining: 159ms\n",
      "863:\tlearn: 0.1155482\ttotal: 1s\tremaining: 158ms\n",
      "864:\tlearn: 0.1154190\ttotal: 1.01s\tremaining: 157ms\n",
      "865:\tlearn: 0.1152755\ttotal: 1.01s\tremaining: 156ms\n",
      "866:\tlearn: 0.1150477\ttotal: 1.01s\tremaining: 155ms\n",
      "867:\tlearn: 0.1149482\ttotal: 1.01s\tremaining: 154ms\n",
      "868:\tlearn: 0.1147310\ttotal: 1.01s\tremaining: 152ms\n",
      "869:\tlearn: 0.1146468\ttotal: 1.01s\tremaining: 151ms\n",
      "870:\tlearn: 0.1144939\ttotal: 1.01s\tremaining: 150ms\n",
      "871:\tlearn: 0.1144347\ttotal: 1.01s\tremaining: 149ms\n",
      "872:\tlearn: 0.1142276\ttotal: 1.01s\tremaining: 148ms\n",
      "873:\tlearn: 0.1140387\ttotal: 1.02s\tremaining: 147ms\n",
      "874:\tlearn: 0.1139259\ttotal: 1.02s\tremaining: 145ms\n",
      "875:\tlearn: 0.1137659\ttotal: 1.02s\tremaining: 144ms\n",
      "876:\tlearn: 0.1136374\ttotal: 1.02s\tremaining: 143ms\n",
      "877:\tlearn: 0.1135051\ttotal: 1.02s\tremaining: 142ms\n",
      "878:\tlearn: 0.1133494\ttotal: 1.02s\tremaining: 141ms\n",
      "879:\tlearn: 0.1132600\ttotal: 1.02s\tremaining: 139ms\n",
      "880:\tlearn: 0.1131843\ttotal: 1.02s\tremaining: 138ms\n",
      "881:\tlearn: 0.1130420\ttotal: 1.02s\tremaining: 137ms\n",
      "882:\tlearn: 0.1129045\ttotal: 1.03s\tremaining: 136ms\n",
      "883:\tlearn: 0.1127879\ttotal: 1.03s\tremaining: 135ms\n",
      "884:\tlearn: 0.1126766\ttotal: 1.03s\tremaining: 134ms\n",
      "885:\tlearn: 0.1124682\ttotal: 1.03s\tremaining: 132ms\n",
      "886:\tlearn: 0.1123418\ttotal: 1.03s\tremaining: 131ms\n",
      "887:\tlearn: 0.1122816\ttotal: 1.03s\tremaining: 130ms\n",
      "888:\tlearn: 0.1120941\ttotal: 1.03s\tremaining: 129ms\n",
      "889:\tlearn: 0.1120014\ttotal: 1.03s\tremaining: 128ms\n",
      "890:\tlearn: 0.1118826\ttotal: 1.03s\tremaining: 127ms\n",
      "891:\tlearn: 0.1117690\ttotal: 1.03s\tremaining: 125ms\n",
      "892:\tlearn: 0.1116619\ttotal: 1.04s\tremaining: 124ms\n",
      "893:\tlearn: 0.1115198\ttotal: 1.04s\tremaining: 123ms\n",
      "894:\tlearn: 0.1114090\ttotal: 1.04s\tremaining: 122ms\n",
      "895:\tlearn: 0.1113393\ttotal: 1.04s\tremaining: 121ms\n",
      "896:\tlearn: 0.1112379\ttotal: 1.04s\tremaining: 120ms\n",
      "897:\tlearn: 0.1110395\ttotal: 1.04s\tremaining: 118ms\n",
      "898:\tlearn: 0.1109396\ttotal: 1.04s\tremaining: 117ms\n",
      "899:\tlearn: 0.1108020\ttotal: 1.04s\tremaining: 116ms\n",
      "900:\tlearn: 0.1106865\ttotal: 1.04s\tremaining: 115ms\n",
      "901:\tlearn: 0.1105940\ttotal: 1.05s\tremaining: 114ms\n",
      "902:\tlearn: 0.1104147\ttotal: 1.05s\tremaining: 112ms\n",
      "903:\tlearn: 0.1103249\ttotal: 1.05s\tremaining: 111ms\n",
      "904:\tlearn: 0.1100992\ttotal: 1.05s\tremaining: 110ms\n",
      "905:\tlearn: 0.1099225\ttotal: 1.05s\tremaining: 109ms\n",
      "906:\tlearn: 0.1098611\ttotal: 1.05s\tremaining: 108ms\n",
      "907:\tlearn: 0.1097430\ttotal: 1.05s\tremaining: 107ms\n",
      "908:\tlearn: 0.1095340\ttotal: 1.05s\tremaining: 105ms\n",
      "909:\tlearn: 0.1094941\ttotal: 1.05s\tremaining: 104ms\n",
      "910:\tlearn: 0.1093566\ttotal: 1.05s\tremaining: 103ms\n",
      "911:\tlearn: 0.1092462\ttotal: 1.06s\tremaining: 102ms\n",
      "912:\tlearn: 0.1091184\ttotal: 1.06s\tremaining: 101ms\n",
      "913:\tlearn: 0.1090052\ttotal: 1.06s\tremaining: 99.7ms\n",
      "914:\tlearn: 0.1088470\ttotal: 1.06s\tremaining: 98.5ms\n",
      "915:\tlearn: 0.1086616\ttotal: 1.06s\tremaining: 97.3ms\n",
      "916:\tlearn: 0.1084670\ttotal: 1.06s\tremaining: 96.2ms\n",
      "917:\tlearn: 0.1083022\ttotal: 1.06s\tremaining: 95ms\n",
      "918:\tlearn: 0.1082581\ttotal: 1.06s\tremaining: 93.8ms\n",
      "919:\tlearn: 0.1081177\ttotal: 1.06s\tremaining: 92.7ms\n",
      "920:\tlearn: 0.1080246\ttotal: 1.07s\tremaining: 91.5ms\n",
      "921:\tlearn: 0.1079174\ttotal: 1.07s\tremaining: 90.4ms\n",
      "922:\tlearn: 0.1078460\ttotal: 1.07s\tremaining: 89.2ms\n",
      "923:\tlearn: 0.1077205\ttotal: 1.07s\tremaining: 88ms\n",
      "924:\tlearn: 0.1076054\ttotal: 1.07s\tremaining: 86.9ms\n",
      "925:\tlearn: 0.1074625\ttotal: 1.07s\tremaining: 85.7ms\n",
      "926:\tlearn: 0.1074055\ttotal: 1.07s\tremaining: 84.6ms\n",
      "927:\tlearn: 0.1073089\ttotal: 1.07s\tremaining: 83.4ms\n",
      "928:\tlearn: 0.1071584\ttotal: 1.08s\tremaining: 82.2ms\n",
      "929:\tlearn: 0.1070564\ttotal: 1.08s\tremaining: 81.1ms\n",
      "930:\tlearn: 0.1069943\ttotal: 1.08s\tremaining: 79.9ms\n",
      "931:\tlearn: 0.1067837\ttotal: 1.08s\tremaining: 78.7ms\n",
      "932:\tlearn: 0.1066422\ttotal: 1.08s\tremaining: 77.6ms\n",
      "933:\tlearn: 0.1064200\ttotal: 1.08s\tremaining: 76.4ms\n",
      "934:\tlearn: 0.1063649\ttotal: 1.08s\tremaining: 75.2ms\n",
      "935:\tlearn: 0.1062408\ttotal: 1.08s\tremaining: 74.1ms\n",
      "936:\tlearn: 0.1061169\ttotal: 1.08s\tremaining: 72.9ms\n",
      "937:\tlearn: 0.1059610\ttotal: 1.08s\tremaining: 71.8ms\n",
      "938:\tlearn: 0.1058748\ttotal: 1.09s\tremaining: 70.6ms\n",
      "939:\tlearn: 0.1057031\ttotal: 1.09s\tremaining: 69.4ms\n",
      "940:\tlearn: 0.1055890\ttotal: 1.09s\tremaining: 68.3ms\n",
      "941:\tlearn: 0.1055189\ttotal: 1.09s\tremaining: 67.1ms\n",
      "942:\tlearn: 0.1054421\ttotal: 1.09s\tremaining: 66ms\n",
      "943:\tlearn: 0.1053559\ttotal: 1.09s\tremaining: 64.8ms\n",
      "944:\tlearn: 0.1052585\ttotal: 1.09s\tremaining: 63.6ms\n",
      "945:\tlearn: 0.1051605\ttotal: 1.09s\tremaining: 62.5ms\n",
      "946:\tlearn: 0.1050411\ttotal: 1.09s\tremaining: 61.3ms\n",
      "947:\tlearn: 0.1049299\ttotal: 1.1s\tremaining: 60.1ms\n",
      "948:\tlearn: 0.1048396\ttotal: 1.1s\tremaining: 59ms\n",
      "949:\tlearn: 0.1047033\ttotal: 1.1s\tremaining: 57.8ms\n",
      "950:\tlearn: 0.1046004\ttotal: 1.1s\tremaining: 56.6ms\n",
      "951:\tlearn: 0.1044263\ttotal: 1.1s\tremaining: 55.5ms\n",
      "952:\tlearn: 0.1043486\ttotal: 1.1s\tremaining: 54.3ms\n",
      "953:\tlearn: 0.1042182\ttotal: 1.1s\tremaining: 53.2ms\n",
      "954:\tlearn: 0.1041777\ttotal: 1.1s\tremaining: 52ms\n",
      "955:\tlearn: 0.1040549\ttotal: 1.1s\tremaining: 50.8ms\n",
      "956:\tlearn: 0.1039542\ttotal: 1.1s\tremaining: 49.7ms\n",
      "957:\tlearn: 0.1038484\ttotal: 1.11s\tremaining: 48.5ms\n",
      "958:\tlearn: 0.1037573\ttotal: 1.11s\tremaining: 47.3ms\n",
      "959:\tlearn: 0.1035990\ttotal: 1.11s\tremaining: 46.2ms\n",
      "960:\tlearn: 0.1034538\ttotal: 1.11s\tremaining: 45ms\n",
      "961:\tlearn: 0.1033183\ttotal: 1.11s\tremaining: 43.8ms\n",
      "962:\tlearn: 0.1032291\ttotal: 1.11s\tremaining: 42.7ms\n",
      "963:\tlearn: 0.1031509\ttotal: 1.11s\tremaining: 41.5ms\n",
      "964:\tlearn: 0.1031063\ttotal: 1.11s\tremaining: 40.4ms\n",
      "965:\tlearn: 0.1029710\ttotal: 1.11s\tremaining: 39.2ms\n",
      "966:\tlearn: 0.1029093\ttotal: 1.11s\tremaining: 38ms\n",
      "967:\tlearn: 0.1028207\ttotal: 1.11s\tremaining: 36.9ms\n",
      "968:\tlearn: 0.1027152\ttotal: 1.12s\tremaining: 35.7ms\n",
      "969:\tlearn: 0.1026259\ttotal: 1.12s\tremaining: 34.6ms\n",
      "970:\tlearn: 0.1025117\ttotal: 1.12s\tremaining: 33.4ms\n",
      "971:\tlearn: 0.1024000\ttotal: 1.12s\tremaining: 32.3ms\n",
      "972:\tlearn: 0.1021980\ttotal: 1.12s\tremaining: 31.1ms\n",
      "973:\tlearn: 0.1020826\ttotal: 1.12s\tremaining: 29.9ms\n",
      "974:\tlearn: 0.1020159\ttotal: 1.12s\tremaining: 28.8ms\n",
      "975:\tlearn: 0.1019709\ttotal: 1.12s\tremaining: 27.6ms\n",
      "976:\tlearn: 0.1018428\ttotal: 1.12s\tremaining: 26.5ms\n",
      "977:\tlearn: 0.1017750\ttotal: 1.13s\tremaining: 25.3ms\n",
      "978:\tlearn: 0.1016929\ttotal: 1.13s\tremaining: 24.2ms\n",
      "979:\tlearn: 0.1015620\ttotal: 1.13s\tremaining: 23ms\n",
      "980:\tlearn: 0.1014997\ttotal: 1.13s\tremaining: 21.9ms\n",
      "981:\tlearn: 0.1014000\ttotal: 1.13s\tremaining: 20.7ms\n",
      "982:\tlearn: 0.1013201\ttotal: 1.13s\tremaining: 19.6ms\n",
      "983:\tlearn: 0.1012261\ttotal: 1.13s\tremaining: 18.4ms\n",
      "984:\tlearn: 0.1011475\ttotal: 1.13s\tremaining: 17.3ms\n",
      "985:\tlearn: 0.1010624\ttotal: 1.13s\tremaining: 16.1ms\n",
      "986:\tlearn: 0.1009364\ttotal: 1.13s\tremaining: 14.9ms\n",
      "987:\tlearn: 0.1007708\ttotal: 1.14s\tremaining: 13.8ms\n",
      "988:\tlearn: 0.1006476\ttotal: 1.14s\tremaining: 12.6ms\n",
      "989:\tlearn: 0.1005170\ttotal: 1.14s\tremaining: 11.5ms\n",
      "990:\tlearn: 0.1003547\ttotal: 1.14s\tremaining: 10.3ms\n",
      "991:\tlearn: 0.1002426\ttotal: 1.14s\tremaining: 9.19ms\n",
      "992:\tlearn: 0.1001458\ttotal: 1.14s\tremaining: 8.04ms\n",
      "993:\tlearn: 0.1000203\ttotal: 1.14s\tremaining: 6.89ms\n",
      "994:\tlearn: 0.0999122\ttotal: 1.14s\tremaining: 5.74ms\n",
      "995:\tlearn: 0.0998241\ttotal: 1.14s\tremaining: 4.59ms\n",
      "996:\tlearn: 0.0996733\ttotal: 1.15s\tremaining: 3.44ms\n",
      "997:\tlearn: 0.0996095\ttotal: 1.15s\tremaining: 2.3ms\n",
      "998:\tlearn: 0.0994673\ttotal: 1.15s\tremaining: 1.15ms\n",
      "999:\tlearn: 0.0993388\ttotal: 1.15s\tremaining: 0us\n"
     ]
    },
    {
     "data": {
      "text/plain": [
       "{'Logistic Regression        ': 0.8947368421052632,\n",
       " 'KNN                        ': 0.6973684210526315,\n",
       " 'Random Forest              ': 0.8157894736842105,\n",
       " 'CatBoost                   ': 0.8157894736842105,\n",
       " 'XgBoost                    ': 0.8157894736842105,\n",
       " 'Naive Bayes                ': 0.881578947368421,\n",
       " 'Support Vector Machines    ': 0.6973684210526315,\n",
       " 'Stochastic Gradient Descent': 0.5526315789473685}"
      ]
     },
     "execution_count": 24,
     "metadata": {},
     "output_type": "execute_result"
    }
   ],
   "source": [
    "model_scores = fit_and_score(models=models, X_train=X_train, X_test=X_test, y_train=y_train, y_test=y_test)\n",
    "model_scores"
   ]
  },
  {
   "cell_type": "markdown",
   "id": "136d8f21",
   "metadata": {},
   "source": [
    "#### Model Comparison"
   ]
  },
  {
   "cell_type": "code",
   "execution_count": 25,
   "id": "43d44550",
   "metadata": {
    "scrolled": false
   },
   "outputs": [
    {
     "data": {
      "image/png": "[encoded data removed]",
      "text/plain": [
       "<Figure size 640x480 with 1 Axes>"
      ]
     },
     "metadata": {},
     "output_type": "display_data"
    }
   ],
   "source": [
    "model_compare = pd.DataFrame(model_scores, index=[\"accuracy\"])\n",
    "model_compare.T.plot.bar();"
   ]
  },
  {
   "cell_type": "markdown",
   "id": "4dc37bfe",
   "metadata": {},
   "source": [
    "figure out ***`classification` report, `confusion matrix`, `cross-validated precision`, `recall`, `F1 scores` and `ROC curve`***\n",
    "\n",
    "**Important sections with descriptions**\n",
    "\n",
    "* `Hyperparameter tuning`: Each model you use has a series of dials you can turn to dictate how they perform. Changing these values may increase or decrease model performance.\n",
    "* `Feature importance`: If there are a large amount of features we're using to make predictions, do some have more importance than others? For example, for predicting heart disease, which is more important, sex or age?\n",
    "* `Confusion matrix`: Compares the predicted values with the true values in a tabular way, if 100% correct, all values in the matrix will be top left to bottom right (diagnol line).\n",
    "* `Cross-validation`: Splits your dataset into multiple parts and train and tests your model on each part and evaluates performance as an average.\n",
    "* `Precision`: Proportion of true positives over total number of samples. Higher precision leads to less false positives.\n",
    "* `Recall`: Proportion of true positives over total number of true positives and false negatives. Higher recall leads to less false negatives.\n",
    "* `F1 score`: Combines precision and recall into one metric. 1 is best, 0 is worst.\n",
    "* `Classification report`: Sklearn has a built-in function called classification_report() which returns some of the main classification metrics such as precision, recall and f1-score.\n",
    "* `ROC Curve`: Receiver Operating Characterisitc is a plot of true positive rate versus false positive rate.\n",
    "* `Area Under Curve (AUC)`: The area underneath the ROC curve. A perfect model achieves a score of 1.0."
   ]
  },
  {
   "cell_type": "markdown",
   "id": "d55e60fc",
   "metadata": {},
   "source": [
    "#### Hyperparameter tuning"
   ]
  },
  {
   "cell_type": "code",
   "execution_count": 26,
   "id": "8ed26d6a",
   "metadata": {},
   "outputs": [],
   "source": [
    "# tune KNN\n",
    "train_score = []\n",
    "test_score = []\n",
    "\n",
    "# list of different values for n_neighbors\n",
    "neighbors = range(1, 21)\n",
    "\n",
    "# KNN instance\n",
    "knn = KNeighborsClassifier()\n",
    "\n",
    "# loop through different n_neighbors\n",
    "for i in neighbors:\n",
    "    knn.set_params(n_neighbors=i)\n",
    "\n",
    "    # fit the algorithm\n",
    "    knn.fit(X_train, y_train)\n",
    "\n",
    "    # update the training score list\n",
    "    train_score.append(knn.score(X_train, y_train))\n",
    "\n",
    "    # update the test score list\n",
    "    test_score.append(knn.score(X_test, y_test))"
   ]
  },
  {
   "cell_type": "code",
   "execution_count": 27,
   "id": "9f7e7221",
   "metadata": {
    "scrolled": false
   },
   "outputs": [
    {
     "data": {
      "text/plain": [
       "[1.0,\n",
       " 0.7929515418502202,\n",
       " 0.7709251101321586,\n",
       " 0.7444933920704846,\n",
       " 0.7577092511013216,\n",
       " 0.73568281938326,\n",
       " 0.7268722466960352,\n",
       " 0.7136563876651982,\n",
       " 0.7224669603524229,\n",
       " 0.7136563876651982,\n",
       " 0.7312775330396476,\n",
       " 0.7136563876651982,\n",
       " 0.7092511013215859,\n",
       " 0.6960352422907489,\n",
       " 0.6960352422907489,\n",
       " 0.6784140969162996,\n",
       " 0.6960352422907489,\n",
       " 0.6607929515418502,\n",
       " 0.6916299559471366,\n",
       " 0.6784140969162996]"
      ]
     },
     "execution_count": 27,
     "metadata": {},
     "output_type": "execute_result"
    }
   ],
   "source": [
    "train_score"
   ]
  },
  {
   "cell_type": "code",
   "execution_count": 28,
   "id": "b55eb5aa",
   "metadata": {
    "scrolled": true
   },
   "outputs": [
    {
     "data": {
      "text/plain": [
       "[0.6052631578947368,\n",
       " 0.6052631578947368,\n",
       " 0.6710526315789473,\n",
       " 0.6973684210526315,\n",
       " 0.6973684210526315,\n",
       " 0.7105263157894737,\n",
       " 0.7236842105263158,\n",
       " 0.7236842105263158,\n",
       " 0.7105263157894737,\n",
       " 0.7368421052631579,\n",
       " 0.75,\n",
       " 0.7105263157894737,\n",
       " 0.7105263157894737,\n",
       " 0.6973684210526315,\n",
       " 0.6842105263157895,\n",
       " 0.7236842105263158,\n",
       " 0.7236842105263158,\n",
       " 0.7236842105263158,\n",
       " 0.7368421052631579,\n",
       " 0.7236842105263158]"
      ]
     },
     "execution_count": 28,
     "metadata": {},
     "output_type": "execute_result"
    }
   ],
   "source": [
    "test_score"
   ]
  },
  {
   "cell_type": "code",
   "execution_count": 29,
   "id": "9e5fdab3",
   "metadata": {},
   "outputs": [
    {
     "name": "stdout",
     "output_type": "stream",
     "text": [
      "Maximum KNN score on the test data: 75.00%\n"
     ]
    },
    {
     "data": {
      "image/png": "[encoded data removed]",
      "text/plain": [
       "<Figure size 640x480 with 1 Axes>"
      ]
     },
     "metadata": {},
     "output_type": "display_data"
    }
   ],
   "source": [
    "plt.plot(neighbors, train_score, label=\"Train score\")\n",
    "plt.plot(neighbors, test_score, label=\"Test score\")\n",
    "plt.xticks(np.arange(1, 21, 1))\n",
    "plt.xlabel(\"Number of neighbors\")\n",
    "plt.ylabel(\"Model score\")\n",
    "plt.legend()\n",
    "\n",
    "print(f\"Maximum KNN score on the test data: {max(test_score)*100:.2f}%\")"
   ]
  },
  {
   "cell_type": "markdown",
   "id": "96ee7ca5",
   "metadata": {},
   "source": [
    "**KNN model**: `n_neighbors (11)`.This is maximum accuracy for KNN model."
   ]
  },
  {
   "cell_type": "markdown",
   "id": "f8a39f4b",
   "metadata": {},
   "source": [
    "### Hyperparameter tuning with `RandomizedSearchCV`\n",
    "\n",
    "* LogisticRegression()\n",
    "* RandomForestClassifier()\n",
    "* GaussianNB()\n",
    "\n",
    "**`LogisticRegression()`**"
   ]
  },
  {
   "cell_type": "code",
   "execution_count": 30,
   "id": "add33e73",
   "metadata": {},
   "outputs": [],
   "source": [
    "# Number of trees in random forest\n",
    "n_estimators = [int(x) for x in np.linspace(start = 10, stop = 2000, num = 11)]\n",
    "\n",
    "# Number of features to consider at every split\n",
    "max_features = ['sqrt']\n",
    "\n",
    "# Maximum number of levels in tree\n",
    "max_depth = [int(x) for x in np.linspace(80, 210, num = 3)]\n",
    "max_depth.append(None)\n",
    "\n",
    "# Minimum number of samples required to split a node\n",
    "min_samples_split = [int(x) for x in np.linspace(2, 110, num = 3)]\n",
    "\n",
    "# Minimum number of samples required at each leaf node\n",
    "min_samples_leaf = [int(x) for x in np.linspace(2, 110, num = 3)]\n",
    "\n",
    "# Method of selecting samples for training each tree\n",
    "bootstrap = [True, False]\n",
    "\n",
    "# hyperparameter grid for LogisticRegression\n",
    "log_reg_grid = {\"C\": np.logspace(-4, 4, 20),\n",
    "                \"max_iter\": np.arange(1000, 5000, 1000),\n",
    "                \"solver\": ['liblinear'],\n",
    "                \"penalty\": ['l1', 'l2']}\n",
    "\n",
    "# hyperparameter grid for RandomForestClassifier\n",
    "rf_grid ={'n_estimators': n_estimators,\n",
    "          'max_features': max_features,\n",
    "          'max_depth': max_depth,\n",
    "          'min_samples_split': min_samples_split,\n",
    "          'min_samples_leaf': min_samples_leaf,\n",
    "          'bootstrap': bootstrap}\n",
    "\n",
    "# hyperparameter grid for GaussianNB\n",
    "nb_grid = {'var_smoothing': np.logspace(0, -9, 100)}"
   ]
  },
  {
   "cell_type": "code",
   "execution_count": 31,
   "id": "28671515",
   "metadata": {},
   "outputs": [
    {
     "name": "stdout",
     "output_type": "stream",
     "text": [
      "Fitting 5 folds for each of 40 candidates, totalling 200 fits\n"
     ]
    }
   ],
   "source": [
    "# setup random seed\n",
    "np.random.seed(42)\n",
    "\n",
    "# setup random hyperparameter search for logisticRegression\n",
    "rs_log_reg = RandomizedSearchCV(LogisticRegression(),\n",
    "                                param_distributions=log_reg_grid,\n",
    "                                cv=StratifiedKFold(),\n",
    "                                n_iter=40,\n",
    "                                verbose=True)\n",
    "\n",
    "# fit random hyperparameter search model\n",
    "rs_log_reg.fit(X_train, y_train);"
   ]
  },
  {
   "cell_type": "code",
   "execution_count": 32,
   "id": "eb885166",
   "metadata": {},
   "outputs": [
    {
     "data": {
      "text/plain": [
       "{'solver': 'liblinear',\n",
       " 'penalty': 'l2',\n",
       " 'max_iter': 3000,\n",
       " 'C': 0.23357214690901212}"
      ]
     },
     "execution_count": 32,
     "metadata": {},
     "output_type": "execute_result"
    }
   ],
   "source": [
    "rs_log_reg.best_params_"
   ]
  },
  {
   "cell_type": "code",
   "execution_count": 33,
   "id": "be5d5eee",
   "metadata": {
    "scrolled": true
   },
   "outputs": [
    {
     "data": {
      "text/plain": [
       "0.8947368421052632"
      ]
     },
     "execution_count": 33,
     "metadata": {},
     "output_type": "execute_result"
    }
   ],
   "source": [
    "rs_log_reg.score(X_test, y_test)"
   ]
  },
  {
   "cell_type": "markdown",
   "id": "ac0c0413",
   "metadata": {},
   "source": [
    "**`RandomForestClassifier()`**"
   ]
  },
  {
   "cell_type": "code",
   "execution_count": 34,
   "id": "a58cf141",
   "metadata": {},
   "outputs": [
    {
     "name": "stdout",
     "output_type": "stream",
     "text": [
      "Fitting 5 folds for each of 50 candidates, totalling 250 fits\n"
     ]
    },
    {
     "data": {
      "text/html": [
       "<style>#sk-container-id-1 {color: black;background-color: white;}#sk-container-id-1 pre{padding: 0;}#sk-container-id-1 div.sk-toggleable {background-color: white;}#sk-container-id-1 label.sk-toggleable__label {cursor: pointer;display: block;width: 100%;margin-bottom: 0;padding: 0.3em;box-sizing: border-box;text-align: center;}#sk-container-id-1 label.sk-toggleable__label-arrow:before {content: \"▸\";float: left;margin-right: 0.25em;color: #696969;}#sk-container-id-1 label.sk-toggleable__label-arrow:hover:before {color: black;}#sk-container-id-1 div.sk-estimator:hover label.sk-toggleable__label-arrow:before {color: black;}#sk-container-id-1 div.sk-toggleable__content {max-height: 0;max-width: 0;overflow: hidden;text-align: left;background-color: #f0f8ff;}#sk-container-id-1 div.sk-toggleable__content pre {margin: 0.2em;color: black;border-radius: 0.25em;background-color: #f0f8ff;}#sk-container-id-1 input.sk-toggleable__control:checked~div.sk-toggleable__content {max-height: 200px;max-width: 100%;overflow: auto;}#sk-container-id-1 input.sk-toggleable__control:checked~label.sk-toggleable__label-arrow:before {content: \"▾\";}#sk-container-id-1 div.sk-estimator input.sk-toggleable__control:checked~label.sk-toggleable__label {background-color: #d4ebff;}#sk-container-id-1 div.sk-label input.sk-toggleable__control:checked~label.sk-toggleable__label {background-color: #d4ebff;}#sk-container-id-1 input.sk-hidden--visually {border: 0;clip: rect(1px 1px 1px 1px);clip: rect(1px, 1px, 1px, 1px);height: 1px;margin: -1px;overflow: hidden;padding: 0;position: absolute;width: 1px;}#sk-container-id-1 div.sk-estimator {font-family: monospace;background-color: #f0f8ff;border: 1px dotted black;border-radius: 0.25em;box-sizing: border-box;margin-bottom: 0.5em;}#sk-container-id-1 div.sk-estimator:hover {background-color: #d4ebff;}#sk-container-id-1 div.sk-parallel-item::after {content: \"\";width: 100%;border-bottom: 1px solid gray;flex-grow: 1;}#sk-container-id-1 div.sk-label:hover label.sk-toggleable__label {background-color: #d4ebff;}#sk-container-id-1 div.sk-serial::before {content: \"\";position: absolute;border-left: 1px solid gray;box-sizing: border-box;top: 0;bottom: 0;left: 50%;z-index: 0;}#sk-container-id-1 div.sk-serial {display: flex;flex-direction: column;align-items: center;background-color: white;padding-right: 0.2em;padding-left: 0.2em;position: relative;}#sk-container-id-1 div.sk-item {position: relative;z-index: 1;}#sk-container-id-1 div.sk-parallel {display: flex;align-items: stretch;justify-content: center;background-color: white;position: relative;}#sk-container-id-1 div.sk-item::before, #sk-container-id-1 div.sk-parallel-item::before {content: \"\";position: absolute;border-left: 1px solid gray;box-sizing: border-box;top: 0;bottom: 0;left: 50%;z-index: -1;}#sk-container-id-1 div.sk-parallel-item {display: flex;flex-direction: column;z-index: 1;position: relative;background-color: white;}#sk-container-id-1 div.sk-parallel-item:first-child::after {align-self: flex-end;width: 50%;}#sk-container-id-1 div.sk-parallel-item:last-child::after {align-self: flex-start;width: 50%;}#sk-container-id-1 div.sk-parallel-item:only-child::after {width: 0;}#sk-container-id-1 div.sk-dashed-wrapped {border: 1px dashed gray;margin: 0 0.4em 0.5em 0.4em;box-sizing: border-box;padding-bottom: 0.4em;background-color: white;}#sk-container-id-1 div.sk-label label {font-family: monospace;font-weight: bold;display: inline-block;line-height: 1.2em;}#sk-container-id-1 div.sk-label-container {text-align: center;}#sk-container-id-1 div.sk-container {/* jupyter's `normalize.less` sets `[hidden] { display: none; }` but bootstrap.min.css set `[hidden] { display: none !important; }` so we also need the `!important` here to be able to override the default hidden behavior on the sphinx rendered scikit-learn.org. See: https://github.com/scikit-learn/scikit-learn/issues/21755 */display: inline-block !important;position: relative;}#sk-container-id-1 div.sk-text-repr-fallback {display: none;}</style><div id=\"sk-container-id-1\" class=\"sk-top-container\"><div class=\"sk-text-repr-fallback\"><pre>RandomizedSearchCV(cv=StratifiedKFold(n_splits=5, random_state=None, shuffle=False),\n",
       "                   estimator=RandomForestClassifier(), n_iter=50, n_jobs=-1,\n",
       "                   param_distributions={&#x27;bootstrap&#x27;: [True, False],\n",
       "                                        &#x27;max_depth&#x27;: [80, 145, 210, None],\n",
       "                                        &#x27;max_features&#x27;: [&#x27;sqrt&#x27;],\n",
       "                                        &#x27;min_samples_leaf&#x27;: [2, 56, 110],\n",
       "                                        &#x27;min_samples_split&#x27;: [2, 56, 110],\n",
       "                                        &#x27;n_estimators&#x27;: [10, 209, 408, 607, 806,\n",
       "                                                         1005, 1204, 1403, 1602,\n",
       "                                                         1801, 2000]},\n",
       "                   verbose=True)</pre><b>In a Jupyter environment, please rerun this cell to show the HTML representation or trust the notebook. <br />On GitHub, the HTML representation is unable to render, please try loading this page with nbviewer.org.</b></div><div class=\"sk-container\" hidden><div class=\"sk-item sk-dashed-wrapped\"><div class=\"sk-label-container\"><div class=\"sk-label sk-toggleable\"><input class=\"sk-toggleable__control sk-hidden--visually\" id=\"sk-estimator-id-1\" type=\"checkbox\" ><label for=\"sk-estimator-id-1\" class=\"sk-toggleable__label sk-toggleable__label-arrow\">RandomizedSearchCV</label><div class=\"sk-toggleable__content\"><pre>RandomizedSearchCV(cv=StratifiedKFold(n_splits=5, random_state=None, shuffle=False),\n",
       "                   estimator=RandomForestClassifier(), n_iter=50, n_jobs=-1,\n",
       "                   param_distributions={&#x27;bootstrap&#x27;: [True, False],\n",
       "                                        &#x27;max_depth&#x27;: [80, 145, 210, None],\n",
       "                                        &#x27;max_features&#x27;: [&#x27;sqrt&#x27;],\n",
       "                                        &#x27;min_samples_leaf&#x27;: [2, 56, 110],\n",
       "                                        &#x27;min_samples_split&#x27;: [2, 56, 110],\n",
       "                                        &#x27;n_estimators&#x27;: [10, 209, 408, 607, 806,\n",
       "                                                         1005, 1204, 1403, 1602,\n",
       "                                                         1801, 2000]},\n",
       "                   verbose=True)</pre></div></div></div><div class=\"sk-parallel\"><div class=\"sk-parallel-item\"><div class=\"sk-item\"><div class=\"sk-label-container\"><div class=\"sk-label sk-toggleable\"><input class=\"sk-toggleable__control sk-hidden--visually\" id=\"sk-estimator-id-2\" type=\"checkbox\" ><label for=\"sk-estimator-id-2\" class=\"sk-toggleable__label sk-toggleable__label-arrow\">estimator: RandomForestClassifier</label><div class=\"sk-toggleable__content\"><pre>RandomForestClassifier()</pre></div></div></div><div class=\"sk-serial\"><div class=\"sk-item\"><div class=\"sk-estimator sk-toggleable\"><input class=\"sk-toggleable__control sk-hidden--visually\" id=\"sk-estimator-id-3\" type=\"checkbox\" ><label for=\"sk-estimator-id-3\" class=\"sk-toggleable__label sk-toggleable__label-arrow\">RandomForestClassifier</label><div class=\"sk-toggleable__content\"><pre>RandomForestClassifier()</pre></div></div></div></div></div></div></div></div></div></div>"
      ],
      "text/plain": [
       "RandomizedSearchCV(cv=StratifiedKFold(n_splits=5, random_state=None, shuffle=False),\n",
       "                   estimator=RandomForestClassifier(), n_iter=50, n_jobs=-1,\n",
       "                   param_distributions={'bootstrap': [True, False],\n",
       "                                        'max_depth': [80, 145, 210, None],\n",
       "                                        'max_features': ['sqrt'],\n",
       "                                        'min_samples_leaf': [2, 56, 110],\n",
       "                                        'min_samples_split': [2, 56, 110],\n",
       "                                        'n_estimators': [10, 209, 408, 607, 806,\n",
       "                                                         1005, 1204, 1403, 1602,\n",
       "                                                         1801, 2000]},\n",
       "                   verbose=True)"
      ]
     },
     "execution_count": 34,
     "metadata": {},
     "output_type": "execute_result"
    }
   ],
   "source": [
    "# setup random seed\n",
    "np.random.seed(42)\n",
    "\n",
    "# setup random hyperparameter search for RandomForestClassifier\n",
    "rs_rf = RandomizedSearchCV(RandomForestClassifier(),\n",
    "                           param_distributions=rf_grid,\n",
    "                           cv=StratifiedKFold(),\n",
    "                           n_iter=50,\n",
    "                           verbose=True,\n",
    "                           n_jobs=-1)\n",
    "\n",
    "# fit random hyperparameter search model\n",
    "rs_rf.fit(X_train, y_train)"
   ]
  },
  {
   "cell_type": "code",
   "execution_count": 35,
   "id": "58442a86",
   "metadata": {},
   "outputs": [
    {
     "data": {
      "text/plain": [
       "{'n_estimators': 209,\n",
       " 'min_samples_split': 56,\n",
       " 'min_samples_leaf': 2,\n",
       " 'max_features': 'sqrt',\n",
       " 'max_depth': 210,\n",
       " 'bootstrap': False}"
      ]
     },
     "execution_count": 35,
     "metadata": {},
     "output_type": "execute_result"
    }
   ],
   "source": [
    "# find best parameters\n",
    "rs_rf.best_params_"
   ]
  },
  {
   "cell_type": "code",
   "execution_count": 36,
   "id": "bb0f173b",
   "metadata": {},
   "outputs": [
    {
     "data": {
      "text/plain": [
       "0.8421052631578947"
      ]
     },
     "execution_count": 36,
     "metadata": {},
     "output_type": "execute_result"
    }
   ],
   "source": [
    "# evaluate the randomized search RandomForestClassifier model\n",
    "rs_rf.score(X_test, y_test)"
   ]
  },
  {
   "cell_type": "code",
   "execution_count": 37,
   "id": "30ac1020",
   "metadata": {},
   "outputs": [
    {
     "data": {
      "text/plain": [
       "{'Logistic Regression        ': 0.8947368421052632,\n",
       " 'KNN                        ': 0.6973684210526315,\n",
       " 'Random Forest              ': 0.8157894736842105,\n",
       " 'CatBoost                   ': 0.8157894736842105,\n",
       " 'XgBoost                    ': 0.8157894736842105,\n",
       " 'Naive Bayes                ': 0.881578947368421,\n",
       " 'Support Vector Machines    ': 0.6973684210526315,\n",
       " 'Stochastic Gradient Descent': 0.5526315789473685}"
      ]
     },
     "execution_count": 37,
     "metadata": {},
     "output_type": "execute_result"
    }
   ],
   "source": [
    "model_scores"
   ]
  },
  {
   "cell_type": "code",
   "execution_count": 38,
   "id": "170e8427",
   "metadata": {},
   "outputs": [
    {
     "data": {
      "text/plain": [
       "0.02631578947368418"
      ]
     },
     "execution_count": 38,
     "metadata": {},
     "output_type": "execute_result"
    }
   ],
   "source": [
    "# how much increased as per base model\n",
    "rs_rf_improve = (rs_rf.score(X_test, y_test) - model_scores.get('Random Forest              '))\n",
    "rs_rf_improve"
   ]
  },
  {
   "cell_type": "markdown",
   "id": "7137aeb5",
   "metadata": {},
   "source": [
    "**`GaussianNB()`**"
   ]
  },
  {
   "cell_type": "code",
   "execution_count": 39,
   "id": "8cf196c7",
   "metadata": {},
   "outputs": [
    {
     "name": "stdout",
     "output_type": "stream",
     "text": [
      "Fitting 5 folds for each of 40 candidates, totalling 200 fits\n"
     ]
    }
   ],
   "source": [
    "# setup random seed\n",
    "np.random.seed(42)\n",
    "\n",
    "# setup random hyperparameter search for logisticRegression\n",
    "rs_nb = RandomizedSearchCV(GaussianNB(),\n",
    "                                param_distributions=nb_grid,\n",
    "                                cv=StratifiedKFold(),\n",
    "                                n_iter=40,\n",
    "                                verbose=True)\n",
    "\n",
    "# fit random hyperparameter search model\n",
    "rs_nb.fit(X_train, y_train);"
   ]
  },
  {
   "cell_type": "code",
   "execution_count": 40,
   "id": "7c063e3b",
   "metadata": {},
   "outputs": [
    {
     "data": {
      "text/plain": [
       "0.8947368421052632"
      ]
     },
     "execution_count": 40,
     "metadata": {},
     "output_type": "execute_result"
    }
   ],
   "source": [
    "rs_nb.score(X_test, y_test)"
   ]
  },
  {
   "cell_type": "markdown",
   "id": "4efeb068",
   "metadata": {},
   "source": [
    "### Hyperparameter Tuning with GridSearchCV\n",
    "\n",
    "* LogisticRegression\n",
    "* RandomForestClassifier\n",
    "* CatboostClassifier\n",
    "* GaussianNB\n",
    "\n",
    "***Experiments with GridSearchCV for above best models***\n",
    "\n",
    "**`LogisticRegression`**"
   ]
  },
  {
   "cell_type": "code",
   "execution_count": 41,
   "id": "10dbf1eb",
   "metadata": {},
   "outputs": [
    {
     "name": "stdout",
     "output_type": "stream",
     "text": [
      "Fitting 5 folds for each of 800 candidates, totalling 4000 fits\n"
     ]
    }
   ],
   "source": [
    "# hyperparameter grid for LogisticRegression\n",
    "# log_reg_grid = {\"penalty\": ['l1', 'l2', 'elasticnet', 'none'],\n",
    "#                 \"C\": np.logspace(-4, 4, 20),\n",
    "#                 \"solver\": ['liblinear', 'lbfgs', 'newton-cg', 'sag', 'saga'],\n",
    "#                 'max_iter': [5000]\n",
    "#                 }\n",
    "\n",
    "log_reg_grid = {\"C\": np.logspace(-4, 4, 50),\n",
    "                \"max_iter\": np.arange(1000, 5000, 500),\n",
    "                \"solver\": ['liblinear'],\n",
    "                \"penalty\": ['l1', 'l2']}\n",
    "\n",
    "# setup random hyperparameter search for logisticRegression\n",
    "gs_log_reg = GridSearchCV(LogisticRegression(),\n",
    "                          param_grid=log_reg_grid,\n",
    "                          cv=StratifiedKFold(),\n",
    "                          verbose=True,\n",
    "                          n_jobs=-1)\n",
    "\n",
    "# fit grid hyperparameter search model\n",
    "gs_log_reg.fit(X_train, y_train);"
   ]
  },
  {
   "cell_type": "code",
   "execution_count": 42,
   "id": "d53e85a4",
   "metadata": {},
   "outputs": [
    {
     "data": {
      "text/plain": [
       "{'C': 0.18420699693267145,\n",
       " 'max_iter': 1000,\n",
       " 'penalty': 'l2',\n",
       " 'solver': 'liblinear'}"
      ]
     },
     "execution_count": 42,
     "metadata": {},
     "output_type": "execute_result"
    }
   ],
   "source": [
    "# check the best parameters\n",
    "gs_log_reg.best_params_"
   ]
  },
  {
   "cell_type": "code",
   "execution_count": 43,
   "id": "fd8cf199",
   "metadata": {},
   "outputs": [
    {
     "data": {
      "text/plain": [
       "0.8947368421052632"
      ]
     },
     "execution_count": 43,
     "metadata": {},
     "output_type": "execute_result"
    }
   ],
   "source": [
    "gs_log_reg.score(X_test, y_test)"
   ]
  },
  {
   "cell_type": "code",
   "execution_count": 44,
   "id": "e4dff537",
   "metadata": {},
   "outputs": [
    {
     "name": "stdout",
     "output_type": "stream",
     "text": [
      "Accuracy: 0.895\n"
     ]
    }
   ],
   "source": [
    "print(f'Accuracy: {gs_log_reg.score(X_test, y_test):.3f}')"
   ]
  },
  {
   "cell_type": "markdown",
   "id": "e1e3c066",
   "metadata": {},
   "source": [
    "**`RandomForestClassifier`**"
   ]
  },
  {
   "cell_type": "code",
   "execution_count": 45,
   "id": "7d4fd22d",
   "metadata": {},
   "outputs": [
    {
     "name": "stdout",
     "output_type": "stream",
     "text": [
      "Fitting 5 folds for each of 216 candidates, totalling 1080 fits\n"
     ]
    },
    {
     "data": {
      "text/html": [
       "<style>#sk-container-id-2 {color: black;background-color: white;}#sk-container-id-2 pre{padding: 0;}#sk-container-id-2 div.sk-toggleable {background-color: white;}#sk-container-id-2 label.sk-toggleable__label {cursor: pointer;display: block;width: 100%;margin-bottom: 0;padding: 0.3em;box-sizing: border-box;text-align: center;}#sk-container-id-2 label.sk-toggleable__label-arrow:before {content: \"▸\";float: left;margin-right: 0.25em;color: #696969;}#sk-container-id-2 label.sk-toggleable__label-arrow:hover:before {color: black;}#sk-container-id-2 div.sk-estimator:hover label.sk-toggleable__label-arrow:before {color: black;}#sk-container-id-2 div.sk-toggleable__content {max-height: 0;max-width: 0;overflow: hidden;text-align: left;background-color: #f0f8ff;}#sk-container-id-2 div.sk-toggleable__content pre {margin: 0.2em;color: black;border-radius: 0.25em;background-color: #f0f8ff;}#sk-container-id-2 input.sk-toggleable__control:checked~div.sk-toggleable__content {max-height: 200px;max-width: 100%;overflow: auto;}#sk-container-id-2 input.sk-toggleable__control:checked~label.sk-toggleable__label-arrow:before {content: \"▾\";}#sk-container-id-2 div.sk-estimator input.sk-toggleable__control:checked~label.sk-toggleable__label {background-color: #d4ebff;}#sk-container-id-2 div.sk-label input.sk-toggleable__control:checked~label.sk-toggleable__label {background-color: #d4ebff;}#sk-container-id-2 input.sk-hidden--visually {border: 0;clip: rect(1px 1px 1px 1px);clip: rect(1px, 1px, 1px, 1px);height: 1px;margin: -1px;overflow: hidden;padding: 0;position: absolute;width: 1px;}#sk-container-id-2 div.sk-estimator {font-family: monospace;background-color: #f0f8ff;border: 1px dotted black;border-radius: 0.25em;box-sizing: border-box;margin-bottom: 0.5em;}#sk-container-id-2 div.sk-estimator:hover {background-color: #d4ebff;}#sk-container-id-2 div.sk-parallel-item::after {content: \"\";width: 100%;border-bottom: 1px solid gray;flex-grow: 1;}#sk-container-id-2 div.sk-label:hover label.sk-toggleable__label {background-color: #d4ebff;}#sk-container-id-2 div.sk-serial::before {content: \"\";position: absolute;border-left: 1px solid gray;box-sizing: border-box;top: 0;bottom: 0;left: 50%;z-index: 0;}#sk-container-id-2 div.sk-serial {display: flex;flex-direction: column;align-items: center;background-color: white;padding-right: 0.2em;padding-left: 0.2em;position: relative;}#sk-container-id-2 div.sk-item {position: relative;z-index: 1;}#sk-container-id-2 div.sk-parallel {display: flex;align-items: stretch;justify-content: center;background-color: white;position: relative;}#sk-container-id-2 div.sk-item::before, #sk-container-id-2 div.sk-parallel-item::before {content: \"\";position: absolute;border-left: 1px solid gray;box-sizing: border-box;top: 0;bottom: 0;left: 50%;z-index: -1;}#sk-container-id-2 div.sk-parallel-item {display: flex;flex-direction: column;z-index: 1;position: relative;background-color: white;}#sk-container-id-2 div.sk-parallel-item:first-child::after {align-self: flex-end;width: 50%;}#sk-container-id-2 div.sk-parallel-item:last-child::after {align-self: flex-start;width: 50%;}#sk-container-id-2 div.sk-parallel-item:only-child::after {width: 0;}#sk-container-id-2 div.sk-dashed-wrapped {border: 1px dashed gray;margin: 0 0.4em 0.5em 0.4em;box-sizing: border-box;padding-bottom: 0.4em;background-color: white;}#sk-container-id-2 div.sk-label label {font-family: monospace;font-weight: bold;display: inline-block;line-height: 1.2em;}#sk-container-id-2 div.sk-label-container {text-align: center;}#sk-container-id-2 div.sk-container {/* jupyter's `normalize.less` sets `[hidden] { display: none; }` but bootstrap.min.css set `[hidden] { display: none !important; }` so we also need the `!important` here to be able to override the default hidden behavior on the sphinx rendered scikit-learn.org. See: https://github.com/scikit-learn/scikit-learn/issues/21755 */display: inline-block !important;position: relative;}#sk-container-id-2 div.sk-text-repr-fallback {display: none;}</style><div id=\"sk-container-id-2\" class=\"sk-top-container\"><div class=\"sk-text-repr-fallback\"><pre>GridSearchCV(cv=StratifiedKFold(n_splits=5, random_state=None, shuffle=False),\n",
       "             estimator=RandomForestClassifier(), n_jobs=-1,\n",
       "             param_grid={&#x27;bootstrap&#x27;: [True, False],\n",
       "                         &#x27;max_depth&#x27;: [80, 145, 210, None],\n",
       "                         &#x27;max_features&#x27;: [&#x27;sqrt&#x27;],\n",
       "                         &#x27;min_samples_leaf&#x27;: [56, 83, 110],\n",
       "                         &#x27;min_samples_split&#x27;: [56, 83, 110],\n",
       "                         &#x27;n_estimators&#x27;: [10, 1005, 2000]},\n",
       "             verbose=True)</pre><b>In a Jupyter environment, please rerun this cell to show the HTML representation or trust the notebook. <br />On GitHub, the HTML representation is unable to render, please try loading this page with nbviewer.org.</b></div><div class=\"sk-container\" hidden><div class=\"sk-item sk-dashed-wrapped\"><div class=\"sk-label-container\"><div class=\"sk-label sk-toggleable\"><input class=\"sk-toggleable__control sk-hidden--visually\" id=\"sk-estimator-id-4\" type=\"checkbox\" ><label for=\"sk-estimator-id-4\" class=\"sk-toggleable__label sk-toggleable__label-arrow\">GridSearchCV</label><div class=\"sk-toggleable__content\"><pre>GridSearchCV(cv=StratifiedKFold(n_splits=5, random_state=None, shuffle=False),\n",
       "             estimator=RandomForestClassifier(), n_jobs=-1,\n",
       "             param_grid={&#x27;bootstrap&#x27;: [True, False],\n",
       "                         &#x27;max_depth&#x27;: [80, 145, 210, None],\n",
       "                         &#x27;max_features&#x27;: [&#x27;sqrt&#x27;],\n",
       "                         &#x27;min_samples_leaf&#x27;: [56, 83, 110],\n",
       "                         &#x27;min_samples_split&#x27;: [56, 83, 110],\n",
       "                         &#x27;n_estimators&#x27;: [10, 1005, 2000]},\n",
       "             verbose=True)</pre></div></div></div><div class=\"sk-parallel\"><div class=\"sk-parallel-item\"><div class=\"sk-item\"><div class=\"sk-label-container\"><div class=\"sk-label sk-toggleable\"><input class=\"sk-toggleable__control sk-hidden--visually\" id=\"sk-estimator-id-5\" type=\"checkbox\" ><label for=\"sk-estimator-id-5\" class=\"sk-toggleable__label sk-toggleable__label-arrow\">estimator: RandomForestClassifier</label><div class=\"sk-toggleable__content\"><pre>RandomForestClassifier()</pre></div></div></div><div class=\"sk-serial\"><div class=\"sk-item\"><div class=\"sk-estimator sk-toggleable\"><input class=\"sk-toggleable__control sk-hidden--visually\" id=\"sk-estimator-id-6\" type=\"checkbox\" ><label for=\"sk-estimator-id-6\" class=\"sk-toggleable__label sk-toggleable__label-arrow\">RandomForestClassifier</label><div class=\"sk-toggleable__content\"><pre>RandomForestClassifier()</pre></div></div></div></div></div></div></div></div></div></div>"
      ],
      "text/plain": [
       "GridSearchCV(cv=StratifiedKFold(n_splits=5, random_state=None, shuffle=False),\n",
       "             estimator=RandomForestClassifier(), n_jobs=-1,\n",
       "             param_grid={'bootstrap': [True, False],\n",
       "                         'max_depth': [80, 145, 210, None],\n",
       "                         'max_features': ['sqrt'],\n",
       "                         'min_samples_leaf': [56, 83, 110],\n",
       "                         'min_samples_split': [56, 83, 110],\n",
       "                         'n_estimators': [10, 1005, 2000]},\n",
       "             verbose=True)"
      ]
     },
     "execution_count": 45,
     "metadata": {},
     "output_type": "execute_result"
    }
   ],
   "source": [
    "# Number of trees in random forest\n",
    "n_estimators = [int(x) for x in np.linspace(start = 10, stop = 2000, num = 3)]\n",
    "\n",
    "# Number of features to consider at every split\n",
    "max_features = ['sqrt']\n",
    "\n",
    "# Maximum number of levels in tree\n",
    "max_depth = [int(x) for x in np.linspace(80, 210, num = 3)]\n",
    "max_depth.append(None)\n",
    "\n",
    "# Minimum number of samples required to split a node\n",
    "min_samples_split = [int(x) for x in np.linspace(56, 110, num = 3)]\n",
    "\n",
    "# Minimum number of samples required at each leaf node\n",
    "min_samples_leaf = [int(x) for x in np.linspace(56, 110, num = 3)]\n",
    "\n",
    "# Method of selecting samples for training each tree\n",
    "bootstrap = [True, False]\n",
    "\n",
    "# hyperparameter grid for RandomForestClassifier\n",
    "rf_grid ={'n_estimators': n_estimators,\n",
    "          'max_features': max_features,\n",
    "          'max_depth': max_depth,\n",
    "          'min_samples_split': min_samples_split,\n",
    "          'min_samples_leaf': min_samples_leaf,\n",
    "          'bootstrap': bootstrap}\n",
    "\n",
    "# setup GridSearchCV hyperparameter for RandomForestClassifier\n",
    "gs_rf = GridSearchCV(RandomForestClassifier(),\n",
    "                     param_grid=rf_grid,\n",
    "                     cv=StratifiedKFold(),\n",
    "                     verbose=True,\n",
    "                     n_jobs=-1)\n",
    "\n",
    "# fit grid hyperparameter\n",
    "gs_rf.fit(X_train, y_train)"
   ]
  },
  {
   "cell_type": "code",
   "execution_count": 46,
   "id": "5d56c7d6",
   "metadata": {},
   "outputs": [
    {
     "data": {
      "text/html": [
       "<style>#sk-container-id-3 {color: black;background-color: white;}#sk-container-id-3 pre{padding: 0;}#sk-container-id-3 div.sk-toggleable {background-color: white;}#sk-container-id-3 label.sk-toggleable__label {cursor: pointer;display: block;width: 100%;margin-bottom: 0;padding: 0.3em;box-sizing: border-box;text-align: center;}#sk-container-id-3 label.sk-toggleable__label-arrow:before {content: \"▸\";float: left;margin-right: 0.25em;color: #696969;}#sk-container-id-3 label.sk-toggleable__label-arrow:hover:before {color: black;}#sk-container-id-3 div.sk-estimator:hover label.sk-toggleable__label-arrow:before {color: black;}#sk-container-id-3 div.sk-toggleable__content {max-height: 0;max-width: 0;overflow: hidden;text-align: left;background-color: #f0f8ff;}#sk-container-id-3 div.sk-toggleable__content pre {margin: 0.2em;color: black;border-radius: 0.25em;background-color: #f0f8ff;}#sk-container-id-3 input.sk-toggleable__control:checked~div.sk-toggleable__content {max-height: 200px;max-width: 100%;overflow: auto;}#sk-container-id-3 input.sk-toggleable__control:checked~label.sk-toggleable__label-arrow:before {content: \"▾\";}#sk-container-id-3 div.sk-estimator input.sk-toggleable__control:checked~label.sk-toggleable__label {background-color: #d4ebff;}#sk-container-id-3 div.sk-label input.sk-toggleable__control:checked~label.sk-toggleable__label {background-color: #d4ebff;}#sk-container-id-3 input.sk-hidden--visually {border: 0;clip: rect(1px 1px 1px 1px);clip: rect(1px, 1px, 1px, 1px);height: 1px;margin: -1px;overflow: hidden;padding: 0;position: absolute;width: 1px;}#sk-container-id-3 div.sk-estimator {font-family: monospace;background-color: #f0f8ff;border: 1px dotted black;border-radius: 0.25em;box-sizing: border-box;margin-bottom: 0.5em;}#sk-container-id-3 div.sk-estimator:hover {background-color: #d4ebff;}#sk-container-id-3 div.sk-parallel-item::after {content: \"\";width: 100%;border-bottom: 1px solid gray;flex-grow: 1;}#sk-container-id-3 div.sk-label:hover label.sk-toggleable__label {background-color: #d4ebff;}#sk-container-id-3 div.sk-serial::before {content: \"\";position: absolute;border-left: 1px solid gray;box-sizing: border-box;top: 0;bottom: 0;left: 50%;z-index: 0;}#sk-container-id-3 div.sk-serial {display: flex;flex-direction: column;align-items: center;background-color: white;padding-right: 0.2em;padding-left: 0.2em;position: relative;}#sk-container-id-3 div.sk-item {position: relative;z-index: 1;}#sk-container-id-3 div.sk-parallel {display: flex;align-items: stretch;justify-content: center;background-color: white;position: relative;}#sk-container-id-3 div.sk-item::before, #sk-container-id-3 div.sk-parallel-item::before {content: \"\";position: absolute;border-left: 1px solid gray;box-sizing: border-box;top: 0;bottom: 0;left: 50%;z-index: -1;}#sk-container-id-3 div.sk-parallel-item {display: flex;flex-direction: column;z-index: 1;position: relative;background-color: white;}#sk-container-id-3 div.sk-parallel-item:first-child::after {align-self: flex-end;width: 50%;}#sk-container-id-3 div.sk-parallel-item:last-child::after {align-self: flex-start;width: 50%;}#sk-container-id-3 div.sk-parallel-item:only-child::after {width: 0;}#sk-container-id-3 div.sk-dashed-wrapped {border: 1px dashed gray;margin: 0 0.4em 0.5em 0.4em;box-sizing: border-box;padding-bottom: 0.4em;background-color: white;}#sk-container-id-3 div.sk-label label {font-family: monospace;font-weight: bold;display: inline-block;line-height: 1.2em;}#sk-container-id-3 div.sk-label-container {text-align: center;}#sk-container-id-3 div.sk-container {/* jupyter's `normalize.less` sets `[hidden] { display: none; }` but bootstrap.min.css set `[hidden] { display: none !important; }` so we also need the `!important` here to be able to override the default hidden behavior on the sphinx rendered scikit-learn.org. See: https://github.com/scikit-learn/scikit-learn/issues/21755 */display: inline-block !important;position: relative;}#sk-container-id-3 div.sk-text-repr-fallback {display: none;}</style><div id=\"sk-container-id-3\" class=\"sk-top-container\"><div class=\"sk-text-repr-fallback\"><pre>RandomForestClassifier(bootstrap=False, max_depth=210, min_samples_leaf=56,\n",
       "                       min_samples_split=110, n_estimators=1005)</pre><b>In a Jupyter environment, please rerun this cell to show the HTML representation or trust the notebook. <br />On GitHub, the HTML representation is unable to render, please try loading this page with nbviewer.org.</b></div><div class=\"sk-container\" hidden><div class=\"sk-item\"><div class=\"sk-estimator sk-toggleable\"><input class=\"sk-toggleable__control sk-hidden--visually\" id=\"sk-estimator-id-7\" type=\"checkbox\" checked><label for=\"sk-estimator-id-7\" class=\"sk-toggleable__label sk-toggleable__label-arrow\">RandomForestClassifier</label><div class=\"sk-toggleable__content\"><pre>RandomForestClassifier(bootstrap=False, max_depth=210, min_samples_leaf=56,\n",
       "                       min_samples_split=110, n_estimators=1005)</pre></div></div></div></div></div>"
      ],
      "text/plain": [
       "RandomForestClassifier(bootstrap=False, max_depth=210, min_samples_leaf=56,\n",
       "                       min_samples_split=110, n_estimators=1005)"
      ]
     },
     "execution_count": 46,
     "metadata": {},
     "output_type": "execute_result"
    }
   ],
   "source": [
    "gs_rf.best_estimator_"
   ]
  },
  {
   "cell_type": "code",
   "execution_count": 47,
   "id": "c35a36c2",
   "metadata": {},
   "outputs": [
    {
     "data": {
      "text/plain": [
       "{'bootstrap': False,\n",
       " 'max_depth': 210,\n",
       " 'max_features': 'sqrt',\n",
       " 'min_samples_leaf': 56,\n",
       " 'min_samples_split': 110,\n",
       " 'n_estimators': 1005}"
      ]
     },
     "execution_count": 47,
     "metadata": {},
     "output_type": "execute_result"
    }
   ],
   "source": [
    "gs_rf.best_params_"
   ]
  },
  {
   "cell_type": "code",
   "execution_count": 48,
   "id": "1caf7486",
   "metadata": {},
   "outputs": [
    {
     "data": {
      "text/plain": [
       "0.9078947368421053"
      ]
     },
     "execution_count": 48,
     "metadata": {},
     "output_type": "execute_result"
    }
   ],
   "source": [
    "gs_rf.score(X_test, y_test)"
   ]
  },
  {
   "cell_type": "code",
   "execution_count": 49,
   "id": "f845a3e4",
   "metadata": {},
   "outputs": [
    {
     "name": "stdout",
     "output_type": "stream",
     "text": [
      "Accuracy: 0.908\n"
     ]
    }
   ],
   "source": [
    "print(f'Accuracy: {gs_rf.score(X_test, y_test):.3f}')"
   ]
  },
  {
   "cell_type": "code",
   "execution_count": 50,
   "id": "09bcfd26",
   "metadata": {},
   "outputs": [
    {
     "data": {
      "text/plain": [
       "0.0921052631578948"
      ]
     },
     "execution_count": 50,
     "metadata": {},
     "output_type": "execute_result"
    }
   ],
   "source": [
    "# how much increased as per base model\n",
    "gs_rf_improve = (gs_rf.score(X_test, y_test) - model_scores.get('Random Forest              '))\n",
    "gs_rf_improve"
   ]
  },
  {
   "cell_type": "markdown",
   "id": "4d8c9063",
   "metadata": {},
   "source": [
    "**`CatboostClassifier`**"
   ]
  },
  {
   "cell_type": "code",
   "execution_count": 51,
   "id": "cedaa6ec",
   "metadata": {
    "scrolled": false
   },
   "outputs": [
    {
     "name": "stdout",
     "output_type": "stream",
     "text": [
      "Fitting 5 folds for each of 125 candidates, totalling 625 fits\n",
      "0:\tlearn: 0.6737615\ttotal: 2.37ms\tremaining: 68.7ms\n",
      "1:\tlearn: 0.6531845\ttotal: 4.6ms\tremaining: 64.4ms\n",
      "2:\tlearn: 0.6413713\ttotal: 6.63ms\tremaining: 59.6ms\n",
      "3:\tlearn: 0.6222068\ttotal: 7.88ms\tremaining: 51.2ms\n",
      "4:\tlearn: 0.5962512\ttotal: 8.31ms\tremaining: 41.6ms\n",
      "5:\tlearn: 0.5847062\ttotal: 10.2ms\tremaining: 41ms\n",
      "6:\tlearn: 0.5686715\ttotal: 10.8ms\tremaining: 35.5ms\n",
      "7:\tlearn: 0.5579293\ttotal: 12.8ms\tremaining: 35.1ms\n",
      "8:\tlearn: 0.5496587\ttotal: 14.7ms\tremaining: 34.4ms\n",
      "9:\tlearn: 0.5363895\ttotal: 16ms\tremaining: 32ms\n",
      "10:\tlearn: 0.5236062\ttotal: 16.8ms\tremaining: 29.1ms\n",
      "11:\tlearn: 0.5157541\ttotal: 18.9ms\tremaining: 28.3ms\n",
      "12:\tlearn: 0.5048443\ttotal: 20.8ms\tremaining: 27.2ms\n",
      "13:\tlearn: 0.4913515\ttotal: 22ms\tremaining: 25.2ms\n",
      "14:\tlearn: 0.4839496\ttotal: 23.9ms\tremaining: 23.9ms\n",
      "15:\tlearn: 0.4766455\ttotal: 25.9ms\tremaining: 22.6ms\n",
      "16:\tlearn: 0.4697709\ttotal: 27.7ms\tremaining: 21.2ms\n",
      "17:\tlearn: 0.4598366\ttotal: 28.3ms\tremaining: 18.9ms\n",
      "18:\tlearn: 0.4536907\ttotal: 30.4ms\tremaining: 17.6ms\n",
      "19:\tlearn: 0.4452292\ttotal: 31.7ms\tremaining: 15.8ms\n",
      "20:\tlearn: 0.4398087\ttotal: 33.8ms\tremaining: 14.5ms\n",
      "21:\tlearn: 0.4317993\ttotal: 35.7ms\tremaining: 13ms\n",
      "22:\tlearn: 0.4252789\ttotal: 37.6ms\tremaining: 11.4ms\n",
      "23:\tlearn: 0.4185602\ttotal: 39.5ms\tremaining: 9.88ms\n",
      "24:\tlearn: 0.4137007\ttotal: 41.5ms\tremaining: 8.29ms\n",
      "25:\tlearn: 0.4091604\ttotal: 43.4ms\tremaining: 6.67ms\n",
      "26:\tlearn: 0.4053587\ttotal: 45.3ms\tremaining: 5.04ms\n",
      "27:\tlearn: 0.3996797\ttotal: 47.3ms\tremaining: 3.38ms\n",
      "28:\tlearn: 0.3938241\ttotal: 49.2ms\tremaining: 1.7ms\n",
      "29:\tlearn: 0.3891675\ttotal: 51.1ms\tremaining: 0us\n"
     ]
    }
   ],
   "source": [
    "depth = [int(x) for x in np.linspace(6, 11, num = 5)]\n",
    "\n",
    "learning_rate = [float(x) for x in np.linspace(0.04, 0.09, num = 5)]\n",
    "\n",
    "iterations = [int(x) for x in np.linspace(10, 50, num = 5)]\n",
    "\n",
    "cb_grid = {'depth': depth,\n",
    "           'learning_rate': learning_rate,\n",
    "           'iterations': iterations}\n",
    "\n",
    "# setup hyperparameter for CatBoost Classifier\n",
    "gs_cb = GridSearchCV(CatBoostClassifier(),\n",
    "                     param_grid=cb_grid,\n",
    "                     cv=StratifiedKFold(),\n",
    "                     verbose=True,\n",
    "                     n_jobs=-1)\n",
    "\n",
    "# fit grid hyperparameter\n",
    "gs_cb.fit(X_train, y_train);"
   ]
  },
  {
   "cell_type": "code",
   "execution_count": 52,
   "id": "7734cc16",
   "metadata": {
    "scrolled": false
   },
   "outputs": [
    {
     "name": "stdout",
     "output_type": "stream",
     "text": [
      " Results from Grid Search \n",
      "\n",
      " The best parameters across ALL searched params:\n",
      " {'depth': 9, 'iterations': 30, 'learning_rate': 0.09}\n",
      "\n",
      " Accuracy: 0.829\n"
     ]
    }
   ],
   "source": [
    "print(\" Results from Grid Search \" )\n",
    "print(\"\\n The best parameters across ALL searched params:\\n\",gs_cb.best_params_)\n",
    "print(f'\\n Accuracy: {gs_cb.score(X_test, y_test):.3f}')"
   ]
  },
  {
   "cell_type": "markdown",
   "id": "b9cac1fc",
   "metadata": {},
   "source": [
    "**`GaussianNB`**"
   ]
  },
  {
   "cell_type": "code",
   "execution_count": 53,
   "id": "e700e040",
   "metadata": {},
   "outputs": [
    {
     "name": "stdout",
     "output_type": "stream",
     "text": [
      "Fitting 5 folds for each of 100 candidates, totalling 500 fits\n"
     ]
    }
   ],
   "source": [
    "# hyperparameter grid for GaussianNB\n",
    "nb_grid = {'var_smoothing': np.logspace(-4, -9, 100)}\n",
    "\n",
    "# setup hyperparameter for GaussianNB\n",
    "gs_nb = GridSearchCV(GaussianNB(),\n",
    "                     param_grid=nb_grid,\n",
    "                     cv=StratifiedKFold(),\n",
    "                     verbose=True,\n",
    "                     n_jobs=-1)\n",
    "\n",
    "# fit grid hyperparameter\n",
    "gs_nb.fit(X_train, y_train);"
   ]
  },
  {
   "cell_type": "code",
   "execution_count": 54,
   "id": "e215f686",
   "metadata": {},
   "outputs": [
    {
     "name": "stdout",
     "output_type": "stream",
     "text": [
      " Results from Grid Search \n",
      "\n",
      " The best parameters across ALL searched params:\n",
      " {'var_smoothing': 6.280291441834246e-05}\n",
      "\n",
      " Accuracy: 0.895\n"
     ]
    }
   ],
   "source": [
    "print(\" Results from Grid Search \" )\n",
    "print(\"\\n The best parameters across ALL searched params:\\n\",gs_nb.best_params_)\n",
    "print(f'\\n Accuracy: {gs_nb.score(X_test, y_test):.3f}')"
   ]
  },
  {
   "cell_type": "markdown",
   "id": "cbc5638e",
   "metadata": {},
   "source": [
    "evaluate our classification model for TEAM.\n",
    "\n",
    "### Evaluating the `BEST classification model`, beyond accuracy\n",
    "\n",
    "* **ROC curve and AUC score**: `plot_roc_curve()`\n",
    "* **Confusion matrix**: `confusion_matrix()`\n",
    "* **Classification report**: `classification_report()`\n",
    "* **Precision**: `precision_score()`\n",
    "* **Recall**: `recall_score()`\n",
    "* **F1-score**: `f1_score()`"
   ]
  },
  {
   "cell_type": "code",
   "execution_count": 55,
   "id": "1e403e8c",
   "metadata": {},
   "outputs": [],
   "source": [
    "# make predictions with tuned model\n",
    "y_preds = gs_log_reg.predict(X_test)"
   ]
  },
  {
   "cell_type": "code",
   "execution_count": 56,
   "id": "5b4f264f",
   "metadata": {},
   "outputs": [
    {
     "data": {
      "text/html": [
       "<div>\n",
       "<style scoped>\n",
       "    .dataframe tbody tr th:only-of-type {\n",
       "        vertical-align: middle;\n",
       "    }\n",
       "\n",
       "    .dataframe tbody tr th {\n",
       "        vertical-align: top;\n",
       "    }\n",
       "\n",
       "    .dataframe thead th {\n",
       "        text-align: right;\n",
       "    }\n",
       "</style>\n",
       "<table border=\"1\" class=\"dataframe\">\n",
       "  <thead>\n",
       "    <tr style=\"text-align: right;\">\n",
       "      <th></th>\n",
       "      <th>True Label</th>\n",
       "      <th>Predict Label</th>\n",
       "    </tr>\n",
       "  </thead>\n",
       "  <tbody>\n",
       "    <tr>\n",
       "      <th>179</th>\n",
       "      <td>0</td>\n",
       "      <td>0</td>\n",
       "    </tr>\n",
       "    <tr>\n",
       "      <th>228</th>\n",
       "      <td>0</td>\n",
       "      <td>1</td>\n",
       "    </tr>\n",
       "    <tr>\n",
       "      <th>111</th>\n",
       "      <td>1</td>\n",
       "      <td>1</td>\n",
       "    </tr>\n",
       "    <tr>\n",
       "      <th>246</th>\n",
       "      <td>0</td>\n",
       "      <td>0</td>\n",
       "    </tr>\n",
       "    <tr>\n",
       "      <th>60</th>\n",
       "      <td>1</td>\n",
       "      <td>1</td>\n",
       "    </tr>\n",
       "    <tr>\n",
       "      <th>...</th>\n",
       "      <td>...</td>\n",
       "      <td>...</td>\n",
       "    </tr>\n",
       "    <tr>\n",
       "      <th>22</th>\n",
       "      <td>1</td>\n",
       "      <td>1</td>\n",
       "    </tr>\n",
       "    <tr>\n",
       "      <th>258</th>\n",
       "      <td>0</td>\n",
       "      <td>0</td>\n",
       "    </tr>\n",
       "    <tr>\n",
       "      <th>56</th>\n",
       "      <td>1</td>\n",
       "      <td>1</td>\n",
       "    </tr>\n",
       "    <tr>\n",
       "      <th>242</th>\n",
       "      <td>0</td>\n",
       "      <td>0</td>\n",
       "    </tr>\n",
       "    <tr>\n",
       "      <th>114</th>\n",
       "      <td>1</td>\n",
       "      <td>1</td>\n",
       "    </tr>\n",
       "  </tbody>\n",
       "</table>\n",
       "<p>76 rows × 2 columns</p>\n",
       "</div>"
      ],
      "text/plain": [
       "     True Label  Predict Label\n",
       "179           0              0\n",
       "228           0              1\n",
       "111           1              1\n",
       "246           0              0\n",
       "60            1              1\n",
       "..          ...            ...\n",
       "22            1              1\n",
       "258           0              0\n",
       "56            1              1\n",
       "242           0              0\n",
       "114           1              1\n",
       "\n",
       "[76 rows x 2 columns]"
      ]
     },
     "execution_count": 56,
     "metadata": {},
     "output_type": "execute_result"
    }
   ],
   "source": [
    "pd.DataFrame({'True Label': y_test, 'Predict Label': y_preds})"
   ]
  },
  {
   "cell_type": "markdown",
   "id": "e4869f91",
   "metadata": {},
   "source": [
    "### `1. ROC curve and AUC score`\n",
    "\n",
    "**ROC curve**: performing by comparing the `true positive` rate to the `false positive` rate.\n",
    "> To get an appropriate example in a real-world problem, consider a diagnostic test that seeks to determine whether a person has a certain disease. A false positive in this case occurs when the person tests positive, but does not actually have the disease. A false negative, on the other hand, occurs when the person tests negative, suggesting they are healthy, when they actually do have the disease.\n",
    "\n",
    "**AUC score**: area under the curve."
   ]
  },
  {
   "cell_type": "code",
   "execution_count": 57,
   "id": "07005656",
   "metadata": {},
   "outputs": [
    {
     "data": {
      "image/png": "[encoded data removed]",
      "text/plain": [
       "<Figure size 640x480 with 1 Axes>"
      ]
     },
     "metadata": {},
     "output_type": "display_data"
    }
   ],
   "source": [
    "# ignore warnings\n",
    "import warnings\n",
    "warnings.filterwarnings(\"ignore\")\n",
    "\n",
    "# Plot ROC curve and calculate AUC metric\n",
    "plot_roc_curve(gs_rf, X_test, y_test);\n",
    "\n",
    "warnings.filterwarnings(\"default\")"
   ]
  },
  {
   "cell_type": "markdown",
   "id": "5aa0e015",
   "metadata": {},
   "source": [
    "**`AUC`**: Calcuated Area Under Curve, maximum value is `1`, model is good as per how much you close to maximum value. \n",
    "\n",
    "###  `2. Confusion matrix`"
   ]
  },
  {
   "cell_type": "code",
   "execution_count": 58,
   "id": "c7a386f0",
   "metadata": {},
   "outputs": [
    {
     "name": "stdout",
     "output_type": "stream",
     "text": [
      "[[30  5]\n",
      " [ 3 38]]\n"
     ]
    }
   ],
   "source": [
    "print(confusion_matrix(y_test, y_preds))"
   ]
  },
  {
   "cell_type": "code",
   "execution_count": 59,
   "id": "0d20551f",
   "metadata": {
    "scrolled": true
   },
   "outputs": [
    {
     "data": {
      "image/png": "[encoded data removed]",
      "text/plain": [
       "<Figure size 300x300 with 1 Axes>"
      ]
     },
     "metadata": {},
     "output_type": "display_data"
    }
   ],
   "source": [
    "# plot matrix by custom\n",
    "sns.set(font_scale=1.5)\n",
    "\n",
    "def plot_conf_mat(y_test, y_preds):\n",
    "    \"\"\"\n",
    "    Plots a nice looking confusion matrix using Seaborn's heatmap()\n",
    "    \"\"\"\n",
    "    fig, ax = plt.subplots(figsize=(3, 3))\n",
    "    ax = sns.heatmap(confusion_matrix(y_test, y_preds),\n",
    "                     annot=True,\n",
    "                     cbar=False)\n",
    "    \n",
    "    plt.xlabel(\"Predicted label\")\n",
    "    plt.ylabel(\"True label\")\n",
    "    \n",
    "plot_conf_mat(y_test, y_preds)"
   ]
  },
  {
   "cell_type": "code",
   "execution_count": 60,
   "id": "994ed23b",
   "metadata": {},
   "outputs": [
    {
     "data": {
      "text/plain": [
       "<sklearn.metrics._plot.confusion_matrix.ConfusionMatrixDisplay at 0x1b96af35900>"
      ]
     },
     "execution_count": 60,
     "metadata": {},
     "output_type": "execute_result"
    },
    {
     "data": {
      "image/png": "[encoded data removed]",
      "text/plain": [
       "<Figure size 640x480 with 2 Axes>"
      ]
     },
     "metadata": {},
     "output_type": "display_data"
    }
   ],
   "source": [
    "# plot matrix by sklearn library\n",
    "from sklearn.metrics import ConfusionMatrixDisplay\n",
    "\n",
    "# matrix for predictions\n",
    "ConfusionMatrixDisplay.from_predictions(y_true=y_test, y_pred=y_preds)"
   ]
  },
  {
   "cell_type": "code",
   "execution_count": 61,
   "id": "b48469a1",
   "metadata": {},
   "outputs": [
    {
     "data": {
      "image/png": "[encoded data removed]",
      "text/plain": [
       "<Figure size 640x480 with 2 Axes>"
      ]
     },
     "metadata": {},
     "output_type": "display_data"
    }
   ],
   "source": [
    "# confusion matrix for estimator\n",
    "ConfusionMatrixDisplay.from_estimator(estimator=gs_rf, X=X, y=y);"
   ]
  },
  {
   "cell_type": "markdown",
   "id": "c9281b69",
   "metadata": {},
   "source": [
    "### `3. Classification report`\n",
    "\n",
    "#### Due to Normal Train and Test Split"
   ]
  },
  {
   "cell_type": "code",
   "execution_count": 62,
   "id": "cd91c28c",
   "metadata": {},
   "outputs": [
    {
     "name": "stdout",
     "output_type": "stream",
     "text": [
      "              precision    recall  f1-score   support\n",
      "\n",
      "           0       0.91      0.86      0.88        35\n",
      "           1       0.88      0.93      0.90        41\n",
      "\n",
      "    accuracy                           0.89        76\n",
      "   macro avg       0.90      0.89      0.89        76\n",
      "weighted avg       0.90      0.89      0.89        76\n",
      "\n"
     ]
    }
   ],
   "source": [
    "print(classification_report(y_test, y_preds))"
   ]
  },
  {
   "cell_type": "markdown",
   "id": "d96e5b80",
   "metadata": {},
   "source": [
    "**Key Descriptions**\n",
    "* **`Precision`**: Indicates the proportion of positive identifications (model predicted class 1) which were actually correct. A model which produces no false positives has a precision of 1.0.\n",
    "* **`Recall`**: Indicates the proportion of actual positives which were correctly classified. A model which produces no false negatives has a recall of 1.0.\n",
    "* **`F1 score`**: A combination of precision and recall. A perfect model achieves an F1 score of 1.0.\n",
    "* **`Support`**: The number of samples each metric was calculated on.\n",
    "* **`Accuracy`**: The accuracy of the model in decimal form. Perfect accuracy is equal to 1.0.\n",
    "* **`Macro avg`**: Short for macro average, the average precision, recall and F1 score between classes. Macro avg doesn’t class imbalance into effort, so if you do have class imbalances, pay attention to this metric.\n",
    "* **`Weighted avg`**: Short for weighted average, the weighted average precision, recall and F1 score between classes. Weighted means each metric is calculated with respect to how many samples there are in each class. This metric will favour the majority class (e.g. will give a high value when one class out performs another due to having more samples)."
   ]
  },
  {
   "cell_type": "markdown",
   "id": "595e144d",
   "metadata": {},
   "source": [
    "### Due to Cross-validation, calculate evaluation metrics\n",
    "**`cross_val_score()`**: works by taking an estimator (machine learning model) along with data and labels. It then evaluates the machine learning model on the data and labels using `cross-validation` and a defined `scoring` parameter.\n",
    "\n",
    "* **cross validated metrics**"
   ]
  },
  {
   "cell_type": "code",
   "execution_count": 63,
   "id": "06f62d54",
   "metadata": {},
   "outputs": [
    {
     "data": {
      "text/plain": [
       "{'C': 0.18420699693267145,\n",
       " 'max_iter': 1000,\n",
       " 'penalty': 'l2',\n",
       " 'solver': 'liblinear'}"
      ]
     },
     "execution_count": 63,
     "metadata": {},
     "output_type": "execute_result"
    }
   ],
   "source": [
    "# check best hyperparameters\n",
    "gs_log_reg.best_params_"
   ]
  },
  {
   "cell_type": "code",
   "execution_count": 77,
   "id": "878f61ec",
   "metadata": {},
   "outputs": [
    {
     "data": {
      "text/plain": [
       "0.8947368421052632"
      ]
     },
     "execution_count": 77,
     "metadata": {},
     "output_type": "execute_result"
    }
   ],
   "source": [
    "# final score\n",
    "gs_log_reg.score(X_test, y_test)"
   ]
  },
  {
   "cell_type": "code",
   "execution_count": 64,
   "id": "a9d160e2",
   "metadata": {},
   "outputs": [],
   "source": [
    "# Instantiate best model with best hyperparameters\n",
    "clf = LogisticRegression(C=0.20433597178569418,\n",
    "                         max_iter=1000,\n",
    "                         penalty='l2',\n",
    "                         solver='liblinear')"
   ]
  },
  {
   "cell_type": "code",
   "execution_count": 65,
   "id": "d5b58f4b",
   "metadata": {},
   "outputs": [
    {
     "data": {
      "text/plain": [
       "array([0.81967213, 0.90163934, 0.86885246, 0.88333333, 0.75      ])"
      ]
     },
     "execution_count": 65,
     "metadata": {},
     "output_type": "execute_result"
    }
   ],
   "source": [
    "# cross-validated accuracy score\n",
    "cv_acc = cross_val_score(clf, X, y, cv=StratifiedKFold(), scoring='accuracy')\n",
    "cv_acc"
   ]
  },
  {
   "cell_type": "code",
   "execution_count": 66,
   "id": "9ebe6615",
   "metadata": {},
   "outputs": [
    {
     "data": {
      "text/plain": [
       "0.8446994535519124"
      ]
     },
     "execution_count": 66,
     "metadata": {},
     "output_type": "execute_result"
    }
   ],
   "source": [
    "# calculate average of cross-validation\n",
    "cv_acc = np.mean(cv_acc)\n",
    "cv_acc"
   ]
  },
  {
   "cell_type": "code",
   "execution_count": 67,
   "id": "c18d3d83",
   "metadata": {},
   "outputs": [
    {
     "data": {
      "text/plain": [
       "0.8207936507936507"
      ]
     },
     "execution_count": 67,
     "metadata": {},
     "output_type": "execute_result"
    }
   ],
   "source": [
    "# cross-validated precision score\n",
    "cv_precision = cross_val_score(clf, X, y, cv=StratifiedKFold(), scoring='precision')\n",
    "cv_precision = np.mean(cv_precision)\n",
    "cv_precision"
   ]
  },
  {
   "cell_type": "code",
   "execution_count": 68,
   "id": "51a66ded",
   "metadata": {},
   "outputs": [
    {
     "data": {
      "text/plain": [
       "0.9212121212121213"
      ]
     },
     "execution_count": 68,
     "metadata": {},
     "output_type": "execute_result"
    }
   ],
   "source": [
    "# cross-validated recall score\n",
    "cv_recall = cross_val_score(clf, X, y, cv=StratifiedKFold(), scoring='recall')\n",
    "cv_recall = np.mean(cv_recall)\n",
    "cv_recall"
   ]
  },
  {
   "cell_type": "code",
   "execution_count": 69,
   "id": "ce44a61a",
   "metadata": {},
   "outputs": [
    {
     "data": {
      "text/plain": [
       "0.8673007976269721"
      ]
     },
     "execution_count": 69,
     "metadata": {},
     "output_type": "execute_result"
    }
   ],
   "source": [
    "# cross-validated F1 score\n",
    "cv_f1 = cross_val_score(clf, X, y, cv=StratifiedKFold(), scoring='f1')\n",
    "cv_f1 = np.mean(cv_f1)\n",
    "cv_f1"
   ]
  },
  {
   "cell_type": "code",
   "execution_count": 70,
   "id": "47c90256",
   "metadata": {},
   "outputs": [
    {
     "data": {
      "image/png": "[encoded data removed]",
      "text/plain": [
       "<Figure size 640x480 with 1 Axes>"
      ]
     },
     "metadata": {},
     "output_type": "display_data"
    }
   ],
   "source": [
    "# Visualizing cross-validated metrics\n",
    "cv_metrics = pd.DataFrame({\"Accuracy\": cv_acc,\n",
    "                           \"Precision\": cv_precision,\n",
    "                           \"Recall\": cv_recall,\n",
    "                           \"F1\": cv_f1}, index=[0])\n",
    "\n",
    "cv_metrics.T.plot.bar(title=\"Cross-validated Metrics\", legend=False);"
   ]
  },
  {
   "cell_type": "markdown",
   "id": "0894acb8",
   "metadata": {},
   "source": [
    "### Feature Importance\n",
    "\n",
    "Feature importance is another way of asking, `which features contributing most to the outcomes of the model?`\n",
    "\n",
    "> for our problem, trying to predict heart disease using a patient's medical characterisitcs, `which charateristics contribute most to a model predicting whether someone has heart disease or not?`\n",
    "\n",
    "***Finding feature importance is different for each machine learning model***\n",
    "\n",
    "* `LogisticRegression`: coefficient"
   ]
  },
  {
   "cell_type": "code",
   "execution_count": 71,
   "id": "3fe678fe",
   "metadata": {},
   "outputs": [
    {
     "data": {
      "text/html": [
       "<style>#sk-container-id-4 {color: black;background-color: white;}#sk-container-id-4 pre{padding: 0;}#sk-container-id-4 div.sk-toggleable {background-color: white;}#sk-container-id-4 label.sk-toggleable__label {cursor: pointer;display: block;width: 100%;margin-bottom: 0;padding: 0.3em;box-sizing: border-box;text-align: center;}#sk-container-id-4 label.sk-toggleable__label-arrow:before {content: \"▸\";float: left;margin-right: 0.25em;color: #696969;}#sk-container-id-4 label.sk-toggleable__label-arrow:hover:before {color: black;}#sk-container-id-4 div.sk-estimator:hover label.sk-toggleable__label-arrow:before {color: black;}#sk-container-id-4 div.sk-toggleable__content {max-height: 0;max-width: 0;overflow: hidden;text-align: left;background-color: #f0f8ff;}#sk-container-id-4 div.sk-toggleable__content pre {margin: 0.2em;color: black;border-radius: 0.25em;background-color: #f0f8ff;}#sk-container-id-4 input.sk-toggleable__control:checked~div.sk-toggleable__content {max-height: 200px;max-width: 100%;overflow: auto;}#sk-container-id-4 input.sk-toggleable__control:checked~label.sk-toggleable__label-arrow:before {content: \"▾\";}#sk-container-id-4 div.sk-estimator input.sk-toggleable__control:checked~label.sk-toggleable__label {background-color: #d4ebff;}#sk-container-id-4 div.sk-label input.sk-toggleable__control:checked~label.sk-toggleable__label {background-color: #d4ebff;}#sk-container-id-4 input.sk-hidden--visually {border: 0;clip: rect(1px 1px 1px 1px);clip: rect(1px, 1px, 1px, 1px);height: 1px;margin: -1px;overflow: hidden;padding: 0;position: absolute;width: 1px;}#sk-container-id-4 div.sk-estimator {font-family: monospace;background-color: #f0f8ff;border: 1px dotted black;border-radius: 0.25em;box-sizing: border-box;margin-bottom: 0.5em;}#sk-container-id-4 div.sk-estimator:hover {background-color: #d4ebff;}#sk-container-id-4 div.sk-parallel-item::after {content: \"\";width: 100%;border-bottom: 1px solid gray;flex-grow: 1;}#sk-container-id-4 div.sk-label:hover label.sk-toggleable__label {background-color: #d4ebff;}#sk-container-id-4 div.sk-serial::before {content: \"\";position: absolute;border-left: 1px solid gray;box-sizing: border-box;top: 0;bottom: 0;left: 50%;z-index: 0;}#sk-container-id-4 div.sk-serial {display: flex;flex-direction: column;align-items: center;background-color: white;padding-right: 0.2em;padding-left: 0.2em;position: relative;}#sk-container-id-4 div.sk-item {position: relative;z-index: 1;}#sk-container-id-4 div.sk-parallel {display: flex;align-items: stretch;justify-content: center;background-color: white;position: relative;}#sk-container-id-4 div.sk-item::before, #sk-container-id-4 div.sk-parallel-item::before {content: \"\";position: absolute;border-left: 1px solid gray;box-sizing: border-box;top: 0;bottom: 0;left: 50%;z-index: -1;}#sk-container-id-4 div.sk-parallel-item {display: flex;flex-direction: column;z-index: 1;position: relative;background-color: white;}#sk-container-id-4 div.sk-parallel-item:first-child::after {align-self: flex-end;width: 50%;}#sk-container-id-4 div.sk-parallel-item:last-child::after {align-self: flex-start;width: 50%;}#sk-container-id-4 div.sk-parallel-item:only-child::after {width: 0;}#sk-container-id-4 div.sk-dashed-wrapped {border: 1px dashed gray;margin: 0 0.4em 0.5em 0.4em;box-sizing: border-box;padding-bottom: 0.4em;background-color: white;}#sk-container-id-4 div.sk-label label {font-family: monospace;font-weight: bold;display: inline-block;line-height: 1.2em;}#sk-container-id-4 div.sk-label-container {text-align: center;}#sk-container-id-4 div.sk-container {/* jupyter's `normalize.less` sets `[hidden] { display: none; }` but bootstrap.min.css set `[hidden] { display: none !important; }` so we also need the `!important` here to be able to override the default hidden behavior on the sphinx rendered scikit-learn.org. See: https://github.com/scikit-learn/scikit-learn/issues/21755 */display: inline-block !important;position: relative;}#sk-container-id-4 div.sk-text-repr-fallback {display: none;}</style><div id=\"sk-container-id-4\" class=\"sk-top-container\"><div class=\"sk-text-repr-fallback\"><pre>LogisticRegression(C=0.20433597178569418, max_iter=1000, solver=&#x27;liblinear&#x27;)</pre><b>In a Jupyter environment, please rerun this cell to show the HTML representation or trust the notebook. <br />On GitHub, the HTML representation is unable to render, please try loading this page with nbviewer.org.</b></div><div class=\"sk-container\" hidden><div class=\"sk-item\"><div class=\"sk-estimator sk-toggleable\"><input class=\"sk-toggleable__control sk-hidden--visually\" id=\"sk-estimator-id-8\" type=\"checkbox\" checked><label for=\"sk-estimator-id-8\" class=\"sk-toggleable__label sk-toggleable__label-arrow\">LogisticRegression</label><div class=\"sk-toggleable__content\"><pre>LogisticRegression(C=0.20433597178569418, max_iter=1000, solver=&#x27;liblinear&#x27;)</pre></div></div></div></div></div>"
      ],
      "text/plain": [
       "LogisticRegression(C=0.20433597178569418, max_iter=1000, solver='liblinear')"
      ]
     },
     "execution_count": 71,
     "metadata": {},
     "output_type": "execute_result"
    }
   ],
   "source": [
    "# fit an instance of LogisticRegression\n",
    "clf.fit(X_train, y_train)"
   ]
  },
  {
   "cell_type": "code",
   "execution_count": 72,
   "id": "d8d0181f",
   "metadata": {},
   "outputs": [
    {
     "data": {
      "text/plain": [
       "array([[ 0.00503922, -0.76947823,  0.68812983, -0.00991718, -0.00127897,\n",
       "         0.00226276,  0.40721864,  0.02147257, -0.60142004, -0.54531813,\n",
       "         0.45519223, -0.6569426 , -0.70184842]])"
      ]
     },
     "execution_count": 72,
     "metadata": {},
     "output_type": "execute_result"
    }
   ],
   "source": [
    "# check coefficient\n",
    "clf.coef_"
   ]
  },
  {
   "cell_type": "code",
   "execution_count": 73,
   "id": "cb976513",
   "metadata": {},
   "outputs": [
    {
     "data": {
      "text/plain": [
       "{'age': 0.005039219028197717,\n",
       " 'sex': -0.7694782261251526,\n",
       " 'cp': 0.6881298272584871,\n",
       " 'trestbps': -0.009917184184719494,\n",
       " 'chol': -0.0012789704596882492,\n",
       " 'fbs': 0.002262758498285967,\n",
       " 'restecg': 0.40721864391970897,\n",
       " 'thalach': 0.02147257412019282,\n",
       " 'exang': -0.6014200434372448,\n",
       " 'oldpeak': -0.5453181276533761,\n",
       " 'slope': 0.4551922319697744,\n",
       " 'ca': -0.6569426022962225,\n",
       " 'thal': -0.7018484174338481}"
      ]
     },
     "execution_count": 73,
     "metadata": {},
     "output_type": "execute_result"
    }
   ],
   "source": [
    "# match features to column\n",
    "features_dict = dict(zip(df.columns, list(clf.coef_[0])))\n",
    "features_dict"
   ]
  },
  {
   "cell_type": "code",
   "execution_count": 74,
   "id": "af3b541f",
   "metadata": {},
   "outputs": [
    {
     "data": {
      "image/png": "[encoded data removed]",
      "text/plain": [
       "<Figure size 640x480 with 1 Axes>"
      ]
     },
     "metadata": {},
     "output_type": "display_data"
    }
   ],
   "source": [
    "# Visualize feature importance\n",
    "features_df = pd.DataFrame(features_dict, index=[0])\n",
    "features_df.T.plot.bar(title=\"Feature Importance\", legend=False);"
   ]
  },
  {
   "cell_type": "markdown",
   "id": "b0458704",
   "metadata": {},
   "source": [
    "***The larger the value (bigger bar), the more the `feature contributes` to the models decision.***\n",
    "\n",
    "> For example, the sex attribute has a negative value of -0.904, which means as the value for sex increases, the target value decreases."
   ]
  },
  {
   "cell_type": "code",
   "execution_count": 75,
   "id": "77f4b3c7",
   "metadata": {},
   "outputs": [
    {
     "data": {
      "text/html": [
       "<div>\n",
       "<style scoped>\n",
       "    .dataframe tbody tr th:only-of-type {\n",
       "        vertical-align: middle;\n",
       "    }\n",
       "\n",
       "    .dataframe tbody tr th {\n",
       "        vertical-align: top;\n",
       "    }\n",
       "\n",
       "    .dataframe thead th {\n",
       "        text-align: right;\n",
       "    }\n",
       "</style>\n",
       "<table border=\"1\" class=\"dataframe\">\n",
       "  <thead>\n",
       "    <tr style=\"text-align: right;\">\n",
       "      <th>target</th>\n",
       "      <th>0</th>\n",
       "      <th>1</th>\n",
       "    </tr>\n",
       "    <tr>\n",
       "      <th>sex</th>\n",
       "      <th></th>\n",
       "      <th></th>\n",
       "    </tr>\n",
       "  </thead>\n",
       "  <tbody>\n",
       "    <tr>\n",
       "      <th>0</th>\n",
       "      <td>24</td>\n",
       "      <td>72</td>\n",
       "    </tr>\n",
       "    <tr>\n",
       "      <th>1</th>\n",
       "      <td>114</td>\n",
       "      <td>93</td>\n",
       "    </tr>\n",
       "  </tbody>\n",
       "</table>\n",
       "</div>"
      ],
      "text/plain": [
       "target    0   1\n",
       "sex            \n",
       "0        24  72\n",
       "1       114  93"
      ]
     },
     "execution_count": 75,
     "metadata": {},
     "output_type": "execute_result"
    }
   ],
   "source": [
    "pd.crosstab(df[\"sex\"], df[\"target\"])"
   ]
  },
  {
   "cell_type": "markdown",
   "id": "a3224655",
   "metadata": {},
   "source": [
    "* when sex is 0 (female), there are almost 3 times as many `(72 vs. 24)` people with heart disease `(target = 1)` than without.\n",
    "\n",
    "* when sex increases to 1 (male), the ratio goes down to almost 1 to 1 `(114 vs. 93)` of people who have heart disease and who don't.\n",
    "\n",
    ">  it seems if the patient is female, they're more likely to have heart disease."
   ]
  },
  {
   "cell_type": "code",
   "execution_count": 76,
   "id": "ab2568ba",
   "metadata": {},
   "outputs": [
    {
     "data": {
      "text/html": [
       "<div>\n",
       "<style scoped>\n",
       "    .dataframe tbody tr th:only-of-type {\n",
       "        vertical-align: middle;\n",
       "    }\n",
       "\n",
       "    .dataframe tbody tr th {\n",
       "        vertical-align: top;\n",
       "    }\n",
       "\n",
       "    .dataframe thead th {\n",
       "        text-align: right;\n",
       "    }\n",
       "</style>\n",
       "<table border=\"1\" class=\"dataframe\">\n",
       "  <thead>\n",
       "    <tr style=\"text-align: right;\">\n",
       "      <th>target</th>\n",
       "      <th>0</th>\n",
       "      <th>1</th>\n",
       "    </tr>\n",
       "    <tr>\n",
       "      <th>slope</th>\n",
       "      <th></th>\n",
       "      <th></th>\n",
       "    </tr>\n",
       "  </thead>\n",
       "  <tbody>\n",
       "    <tr>\n",
       "      <th>0</th>\n",
       "      <td>12</td>\n",
       "      <td>9</td>\n",
       "    </tr>\n",
       "    <tr>\n",
       "      <th>1</th>\n",
       "      <td>91</td>\n",
       "      <td>49</td>\n",
       "    </tr>\n",
       "    <tr>\n",
       "      <th>2</th>\n",
       "      <td>35</td>\n",
       "      <td>107</td>\n",
       "    </tr>\n",
       "  </tbody>\n",
       "</table>\n",
       "</div>"
      ],
      "text/plain": [
       "target   0    1\n",
       "slope          \n",
       "0       12    9\n",
       "1       91   49\n",
       "2       35  107"
      ]
     },
     "execution_count": 76,
     "metadata": {},
     "output_type": "execute_result"
    }
   ],
   "source": [
    "# Contrast slope \"positive coefficient\" with target\n",
    "pd.crosstab(df[\"slope\"], df[\"target\"])"
   ]
  },
  {
   "cell_type": "markdown",
   "id": "4612f4be",
   "metadata": {},
   "source": [
    "***This positive correlation means our model is picking up the pattern that as slope increases, so does the target value.***\n",
    "\n",
    "**Keys**\n",
    "* **`Finding out more`**: If some of the correlations and feature importances are confusing, a subject matter expert may be able to shed some light on the situation and help you figure out more.\n",
    "* **`Redirecting efforts`**: If some features offer far more value than others, this may change how you collect data for different problems. See point 3.\n",
    "* **`Less but better`**: Similar to above, if some features are offering far more value than others, you could reduce the number of features your model tries to find patterns in as well as improve the ones which offer the most. This could potentially lead to saving on computation, by having a model find patterns across less features, whilst still achieving the same performance levels."
   ]
  },
  {
   "cell_type": "markdown",
   "id": "60b74d47",
   "metadata": {},
   "source": [
    "### Saving and Loading Model\n",
    "\n",
    "**`joblib`**"
   ]
  },
  {
   "cell_type": "code",
   "execution_count": 87,
   "id": "68d6f3d1",
   "metadata": {},
   "outputs": [],
   "source": [
    "from sklearn.metrics import accuracy_score, precision_score, recall_score, f1_score"
   ]
  },
  {
   "cell_type": "code",
   "execution_count": 89,
   "id": "d8d79384",
   "metadata": {},
   "outputs": [],
   "source": [
    "def evaluate_preds(y_true, y_preds):\n",
    "    \"\"\"\n",
    "    Performs evaluation comparison on y_true labels vs. y_pred labels\n",
    "    in classification.\n",
    "    \"\"\"\n",
    "    accuracy = accuracy_score(y_true, y_preds)\n",
    "    precision = precision_score(y_true, y_preds)\n",
    "    recall = recall_score(y_true, y_preds)\n",
    "    f1 = f1_score(y_true, y_preds)\n",
    "    metric_dict = {\"accuracy\": round(accuracy, 2),\n",
    "                   \"precision\": round(precision, 2), \n",
    "                   \"recall\": round(recall, 2),\n",
    "                   \"f1\": round(f1, 2)}\n",
    "    print(f\"Acc: {accuracy * 100:.2f}%\")\n",
    "    print(f\"Precision: {precision:.2f}\")\n",
    "    print(f\"Recall: {recall:.2f}\")\n",
    "    print(f\"F1 score: {f1:.2f}\")\n",
    "\n",
    "    return metric_dict"
   ]
  },
  {
   "cell_type": "code",
   "execution_count": 82,
   "id": "61f9cf4a",
   "metadata": {},
   "outputs": [
    {
     "data": {
      "text/plain": [
       "['models/heart_disease_LogisticRegression_classification_model_1.joblib']"
      ]
     },
     "execution_count": 82,
     "metadata": {},
     "output_type": "execute_result"
    }
   ],
   "source": [
    "from joblib import dump, load\n",
    "\n",
    "# save model to file\n",
    "dump(gs_log_reg, filename=\"models/heart_disease_LogisticRegression_classification_model_1.joblib\")"
   ]
  },
  {
   "cell_type": "code",
   "execution_count": 83,
   "id": "2b88528c",
   "metadata": {},
   "outputs": [],
   "source": [
    "# import a saved joblib model\n",
    "loaded_job_model = load(filename=\"models/heart_disease_LogisticRegression_classification_model_1.joblib\")"
   ]
  },
  {
   "cell_type": "code",
   "execution_count": 85,
   "id": "7d8a53e6",
   "metadata": {},
   "outputs": [
    {
     "data": {
      "text/html": [
       "<div>\n",
       "<style scoped>\n",
       "    .dataframe tbody tr th:only-of-type {\n",
       "        vertical-align: middle;\n",
       "    }\n",
       "\n",
       "    .dataframe tbody tr th {\n",
       "        vertical-align: top;\n",
       "    }\n",
       "\n",
       "    .dataframe thead th {\n",
       "        text-align: right;\n",
       "    }\n",
       "</style>\n",
       "<table border=\"1\" class=\"dataframe\">\n",
       "  <thead>\n",
       "    <tr style=\"text-align: right;\">\n",
       "      <th></th>\n",
       "      <th>True Label</th>\n",
       "      <th>Predict Label</th>\n",
       "    </tr>\n",
       "  </thead>\n",
       "  <tbody>\n",
       "    <tr>\n",
       "      <th>179</th>\n",
       "      <td>0</td>\n",
       "      <td>0</td>\n",
       "    </tr>\n",
       "    <tr>\n",
       "      <th>228</th>\n",
       "      <td>0</td>\n",
       "      <td>1</td>\n",
       "    </tr>\n",
       "    <tr>\n",
       "      <th>111</th>\n",
       "      <td>1</td>\n",
       "      <td>1</td>\n",
       "    </tr>\n",
       "    <tr>\n",
       "      <th>246</th>\n",
       "      <td>0</td>\n",
       "      <td>0</td>\n",
       "    </tr>\n",
       "    <tr>\n",
       "      <th>60</th>\n",
       "      <td>1</td>\n",
       "      <td>1</td>\n",
       "    </tr>\n",
       "    <tr>\n",
       "      <th>...</th>\n",
       "      <td>...</td>\n",
       "      <td>...</td>\n",
       "    </tr>\n",
       "    <tr>\n",
       "      <th>22</th>\n",
       "      <td>1</td>\n",
       "      <td>1</td>\n",
       "    </tr>\n",
       "    <tr>\n",
       "      <th>258</th>\n",
       "      <td>0</td>\n",
       "      <td>0</td>\n",
       "    </tr>\n",
       "    <tr>\n",
       "      <th>56</th>\n",
       "      <td>1</td>\n",
       "      <td>1</td>\n",
       "    </tr>\n",
       "    <tr>\n",
       "      <th>242</th>\n",
       "      <td>0</td>\n",
       "      <td>0</td>\n",
       "    </tr>\n",
       "    <tr>\n",
       "      <th>114</th>\n",
       "      <td>1</td>\n",
       "      <td>1</td>\n",
       "    </tr>\n",
       "  </tbody>\n",
       "</table>\n",
       "<p>76 rows × 2 columns</p>\n",
       "</div>"
      ],
      "text/plain": [
       "     True Label  Predict Label\n",
       "179           0              0\n",
       "228           0              1\n",
       "111           1              1\n",
       "246           0              0\n",
       "60            1              1\n",
       "..          ...            ...\n",
       "22            1              1\n",
       "258           0              0\n",
       "56            1              1\n",
       "242           0              0\n",
       "114           1              1\n",
       "\n",
       "[76 rows x 2 columns]"
      ]
     },
     "execution_count": 85,
     "metadata": {},
     "output_type": "execute_result"
    }
   ],
   "source": [
    "# make and evaluate joblib predictions\n",
    "joblib_y_preds = loaded_job_model.predict(X_test)\n",
    "pd.DataFrame({'True Label': y_test, 'Predict Label': joblib_y_preds})"
   ]
  },
  {
   "cell_type": "code",
   "execution_count": 88,
   "id": "3ef71587",
   "metadata": {},
   "outputs": [
    {
     "name": "stdout",
     "output_type": "stream",
     "text": [
      "Acc: 89.47%\n",
      "Precision: 0.88\n",
      "Recall: 0.93\n",
      "F1 score: 0.90\n"
     ]
    },
    {
     "data": {
      "text/plain": [
       "{'accuracy': 0.89, 'precision': 0.88, 'recall': 0.93, 'f1': 0.9}"
      ]
     },
     "execution_count": 88,
     "metadata": {},
     "output_type": "execute_result"
    }
   ],
   "source": [
    "evaluate_preds(y_test, joblib_y_preds)"
   ]
  },
  {
   "cell_type": "code",
   "execution_count": null,
   "id": "9d442e23",
   "metadata": {},
   "outputs": [],
   "source": []
  }
 ],
 "metadata": {
  "kernelspec": {
   "display_name": "Python 3 (ipykernel)",
   "language": "python",
   "name": "python3"
  },
  "language_info": {
   "codemirror_mode": {
    "name": "ipython",
    "version": 3
   },
   "file_extension": ".py",
   "mimetype": "text/x-python",
   "name": "python",
   "nbconvert_exporter": "python",
   "pygments_lexer": "ipython3",
   "version": "3.10.6"
  }
 },
 "nbformat": 4,
 "nbformat_minor": 5
}
